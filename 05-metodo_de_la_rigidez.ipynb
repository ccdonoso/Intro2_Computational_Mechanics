{
 "cells": [
  {
   "cell_type": "markdown",
   "metadata": {},
   "source": [
    "# Método de la Rigidez\n",
    "\n",
    "<img src=\"https://github.com/ccdonoso/Intro2_Computational_Mechanics/blob/master/img/logo_usach_dimec.png?raw=true\" alt=\"logo\" width=\"300\"/>\n",
    "\n",
    "- Autor: Claudio Canales Donoso\n",
    "- Página: [ccdonoso.github.io](ccdonoso.github.io)\n",
    "- Cursos: Mecánica Computacional - Diseño Computarizado\n",
    "- Universidad de Santiago de Chile\n",
    "- Fecha: 05/07/21\n",
    "\n",
    "License: BSD 3 clause\n",
    "\n",
    "**Contenido** : Método de la Rigidez.\n",
    "- Elemento Barra 2D\n",
    "- Elemento Viga 2D\n",
    "- Resolución de un Problema\n",
    "\n",
    "**NOTA: Este código no tiene como propósito hacer ensamblaje automatico de las matrices. El principal objetivo es ilustrar como resolver un problema**"
   ]
  },
  {
   "cell_type": "markdown",
   "metadata": {},
   "source": [
    "### Librerías"
   ]
  },
  {
   "cell_type": "code",
   "execution_count": 104,
   "metadata": {},
   "outputs": [],
   "source": [
    "import numpy as np\n",
    "import matplotlib.pyplot as plt\n",
    "import matplotlib.image as mpimg\n",
    "from IPython.display import display, Math, Latex\n",
    "\n",
    "\n",
    "# Esto permite convertir las matrices en latex\n",
    "def bmatrix(a,supress = True,precision=1):\n",
    "    \"\"\"Regresa una matriz de LaTeX bmatrix\n",
    "\n",
    "    :a: ndarray\n",
    "    :returns: LaTeX bmatrix como String\n",
    "    \"\"\"\n",
    "    if len(a.shape) > 2:\n",
    "        raise ValueError('bmatrix can at most display two dimensions')\n",
    "    b = np.array2string(a,precision=precision,suppress_small=True and supress,max_line_width=160).replace('+', '').replace('0.0e00', '0')\n",
    "    \n",
    "    lines =b.replace('[', '').replace(']', '').replace(']', '').replace('\\'', '').replace('e0', 'e').replace('e-0', 'e-').splitlines()\n",
    "    rv = [r'\\begin{bmatrix}']\n",
    "    rv += ['  ' + ' & '.join(l.split()) + r'\\\\' for l in lines]\n",
    "    rv +=  [r'\\end{bmatrix}']\n",
    "    return '\\n'.join(rv)"
   ]
  },
  {
   "cell_type": "markdown",
   "metadata": {},
   "source": [
    "## Elemento Barra"
   ]
  },
  {
   "cell_type": "code",
   "execution_count": 105,
   "metadata": {},
   "outputs": [],
   "source": [
    "def k_barra(E,A,L,alpha):\n",
    "    \"\"\"\n",
    "    Parameters:\n",
    "    -----------\n",
    "    E,A,L,alpha : floats \n",
    "        Valores escalares de la barra\n",
    "    Return:\n",
    "    -------\n",
    "    K: ndarray\n",
    "        Matriz de rigidez\n",
    "    \"\"\"\n",
    "    K = np.zeros((4,4))\n",
    "    \n",
    "    K[0,0] = np.cos(alpha)**2.\n",
    "    K[1,1] = np.sin(alpha)**2.\n",
    "    K[0,1] = np.cos(alpha)*np.sin(alpha)\n",
    "    K[1,0] = K[0,1]\n",
    "    \n",
    "    K[:2,2:] = - K[:2,:2]\n",
    "    K[2:,2:] = K[:2,:2]\n",
    "    K[2:,:2] = - K[:2,:2]\n",
    "    return K*E*A/L"
   ]
  },
  {
   "cell_type": "markdown",
   "metadata": {},
   "source": [
    "## Elemento Viga"
   ]
  },
  {
   "cell_type": "code",
   "execution_count": 106,
   "metadata": {},
   "outputs": [],
   "source": [
    "def k_viga_horizontal(E,A,L,I):\n",
    "    \"\"\"\n",
    "    Parameters:\n",
    "    -----------\n",
    "    E,A,L,I : floats \n",
    "        Valores escalares de la viga\n",
    "    Return:\n",
    "    -------\n",
    "    K: ndarray\n",
    "        Matriz de rigidez\n",
    "    \"\"\"\n",
    "    K = np.zeros((6,6))\n",
    "    \n",
    "    K[0,0] = E*A/L\n",
    "    K[0,3] = -E*A/L\n",
    "    K[3,3] = E*A/L\n",
    "    K[3,0] = -E*A/L\n",
    "    K[1,1] = 12.*E*I/(L**3.)\n",
    "    K[1,4] = -12.*E*I/(L**3.)\n",
    "    K[4,4] = 12.*E*I/(L**3.)\n",
    "    K[4,1] = -12.*E*I/(L**3.)\n",
    "    K[1,2] = 6.*E*I/(L**2.)\n",
    "    K[2,1] = 6.*E*I/(L**2.)\n",
    "    K[1,5] = 6.*E*I/(L**2.)\n",
    "    K[2,4] = -6.*E*I/(L**2.)\n",
    "    K[4,2] = -6.*E*I/(L**2.)\n",
    "    K[5,1] = 6.*E*I/(L**2.)\n",
    "    K[4,5] = -6.*E*I/(L**2.)\n",
    "    K[5,4] = -6.*E*I/(L**2.)\n",
    "    K[2,2] = 4.*E*I/L\n",
    "    K[5,5] = 4.*E*I/L\n",
    "    K[2,5] = 2.*E*I/L\n",
    "    K[5,2] = 2.*E*I/L\n",
    "    return K\n",
    "\n",
    "def rot_viga(K,alpha):\n",
    "    R = np.zeros((6,6))\n",
    "    R[0,0] = np.cos(alpha)\n",
    "    R[1,1] = np.cos(alpha)\n",
    "    R[0,1] = -1.*np.sin(alpha)\n",
    "    R[1,0] = np.sin(alpha)\n",
    "    R[2,2] = 1.\n",
    "    R[3:,3:] = R[:3,:3]\n",
    "    return R\n",
    "    \n",
    "def k_viga(E,A,I,L,alpha):\n",
    "    K = k_viga_horizontal(E,A,L,I)\n",
    "    R = rot_viga(K,alpha)\n",
    "    return R @ K @ R.T"
   ]
  },
  {
   "cell_type": "markdown",
   "metadata": {},
   "source": [
    "## Problema \n",
    "\n",
    "La estructura presentada en la Fig 1., esta conformada por dos pilares, una viga y dos cables. Todo está hecho de acero $(E = 210x10^9 Pa)$. Los cables tienen un diámetro de $4 [mm]$; la viga y los pilares están hechos de perfiles comerciales W360x634 y W360x421, respectivamente. Estos tienen como tiene como propiedades\n",
    "\n",
    "$$I = 2740\\times 10^{−6} m^4, \\quad A = 80,8 \\times 10^{−3} m^2 \\quad (W360x634) \\quad ,$$ \n",
    "\n",
    "$$I = 1600\\times 10^{−6} m^4, \\quad A = 53,7 \\times 10^{−3} m^2 \\quad (W360x421) \\quad .$$\n",
    "\n",
    "<img src=\"img/estructura.png\" alt=\"logo\" width=\"700\"/> \n",
    "\n",
    "## Solución\n",
    "\n",
    "1. Definir los gl y elementos del problema\n",
    "2. Calcular las matrices de rigidez de cada uno de los elementos\n",
    "3. Ensamblar estas matrices.\n",
    "4. Postproceso de los resultados \n",
    "\n",
    "## Simplificación del modelo.\n",
    "\n",
    "<img src=\"img/model_red.png\" alt=\"logo\" width=\"700\"/>\n"
   ]
  },
  {
   "cell_type": "markdown",
   "metadata": {},
   "source": [
    "## Grados de libertad de la estructura "
   ]
  },
  {
   "cell_type": "code",
   "execution_count": 107,
   "metadata": {},
   "outputs": [
    {
     "data": {
      "text/latex": [
       "$\\displaystyle [K_G]\\begin{bmatrix}\n",
       "  u1\\\\\n",
       "  v1\\\\\n",
       "  u2\\\\\n",
       "  v2\\\\\n",
       "  r2\\\\\n",
       "  u3\\\\\n",
       "  v3\\\\\n",
       "  r3\\\\\n",
       "  u4\\\\\n",
       "  v4\\\\\n",
       "  r4\\\\\n",
       "\\end{bmatrix}=\\begin{bmatrix}\n",
       "  U1\\\\\n",
       "  V1\\\\\n",
       "  U2\\\\\n",
       "  V2\\\\\n",
       "  M2\\\\\n",
       "  U3\\\\\n",
       "  V3\\\\\n",
       "  M3\\\\\n",
       "  U4\\\\\n",
       "  V4\\\\\n",
       "  M4\\\\\n",
       "\\end{bmatrix}$"
      ],
      "text/plain": [
       "<IPython.core.display.Math object>"
      ]
     },
     "metadata": {},
     "output_type": "display_data"
    }
   ],
   "source": [
    "u = np.array(['u1','v1','u2','v2','r2','u3','v3','r3','u4','v4','r4']).reshape(-1,1)\n",
    "f = np.array(['U1','V1','U2','V2','M2','U3','V3','M3','U4','V4','M4']).reshape(-1,1)\n",
    "\n",
    "display(Math(\"[K_G]\"+bmatrix(u)+\"=\"+bmatrix(f)))"
   ]
  },
  {
   "cell_type": "markdown",
   "metadata": {},
   "source": [
    "## Matriz de rigidez de los elementos\n",
    "\n",
    "Elem. |Tipo |Nodo i | Nodo j|$\\alpha$º|Largo $[m]$|Área $[m^2]$|I $[m^4]$|\n",
    "-----|-----|-----|-----|-----|-----|-----|-----|\n",
    "I|Barra|1|3|60|5.773|$\\pi(2 x10^{-3})$| - |\n",
    "II|Viga|2|3|90|5|0.00537|$1600 x10^{-6}$|\n",
    "III|Viga|3|4|0|7|0.00808|$2740 x10^{-6}$| "
   ]
  },
  {
   "cell_type": "code",
   "execution_count": 108,
   "metadata": {},
   "outputs": [],
   "source": [
    "E = 210e+9\n",
    "\n",
    "k1 = k_barra(E,np.pi*(2*10**(-3))**2.,5.773,np.pi/180.*60.) # Matriz de Rigidez de Barra 1\n",
    "u1 = np.array(['u1','v1','u3','v3']).reshape(-1,1) #Desplazamientos 1\n",
    "\n",
    "k2 = k_viga(E,0.00537,1600e-6,5.,np.pi/2.) # Matriz de Rigidez de viga 1\n",
    "u2 = np.array(['u2','v2','r2','u3','v3','r3']).reshape(-1,1) #Desplazamientos 2\n",
    "\n",
    "k3 = k_viga(E,0.00808,2740e-6,7.,0.) # Matriz de Rigidez de viga 2\n",
    "u3 = np.array(['u3','v3','r3','u4','v4','r4']).reshape(-1,1) #Desplazamientos 3\n",
    "\n",
    "class Elements:\n",
    "    def __init__(self,k,u):\n",
    "        self.k = k\n",
    "        self.u = u\n",
    "        \n",
    "e1 = Elements(k1,u1)\n",
    "e2 = Elements(k2,u2)\n",
    "e3 = Elements(k3,u3)\n"
   ]
  },
  {
   "cell_type": "markdown",
   "metadata": {},
   "source": [
    "### Matriz de Rigidez Elemento 1 (barra)."
   ]
  },
  {
   "cell_type": "code",
   "execution_count": 109,
   "metadata": {
    "scrolled": true
   },
   "outputs": [
    {
     "data": {
      "text/latex": [
       "$\\displaystyle \\begin{bmatrix}\n",
       "  114279.3 & 197937.6 & -114279.3 & -197937.6\\\\\n",
       "  197937.6 & 342837.9 & -197937.6 & -342837.9\\\\\n",
       "  -114279.3 & -197937.6 & 114279.3 & 197937.6\\\\\n",
       "  -197937.6 & -342837.9 & 197937.6 & 342837.9\\\\\n",
       "\\end{bmatrix}\\begin{bmatrix}\n",
       "  u1\\\\\n",
       "  v1\\\\\n",
       "  u3\\\\\n",
       "  v3\\\\\n",
       "\\end{bmatrix}= [F_1]$"
      ],
      "text/plain": [
       "<IPython.core.display.Math object>"
      ]
     },
     "metadata": {},
     "output_type": "display_data"
    }
   ],
   "source": [
    "display(Math(bmatrix(k1)+bmatrix(u1)+\"= [F_1]\"))"
   ]
  },
  {
   "cell_type": "markdown",
   "metadata": {},
   "source": [
    "### Matriz de Rigidez Elemento 2 (viga)."
   ]
  },
  {
   "cell_type": "code",
   "execution_count": 110,
   "metadata": {},
   "outputs": [
    {
     "data": {
      "text/latex": [
       "$\\displaystyle \\begin{bmatrix}\n",
       "  3.2e7 & 1.2e-8 & -8.1e7 & -3.2e7 & -1.2e-8 & -8.1e7\\\\\n",
       "  1.2e-8 & 2.3e8 & 4.9e-9 & -1.2e-8 & -2.3e8 & 4.9e-9\\\\\n",
       "  -8.1e7 & 4.9e-9 & 2.7e8 & 8.1e7 & -4.9e-9 & 1.3e8\\\\\n",
       "  -3.2e7 & -1.2e-8 & 8.1e7 & 3.2e7 & 1.2e-8 & 8.1e7\\\\\n",
       "  -1.2e-8 & -2.3e8 & -4.9e-9 & 1.2e-8 & 2.3e8 & -4.9e-9\\\\\n",
       "  -8.1e7 & 4.9e-9 & 1.3e8 & 8.1e7 & -4.9e-9 & 2.7e8\\\\\n",
       "\\end{bmatrix}\\begin{bmatrix}\n",
       "  u2\\\\\n",
       "  v2\\\\\n",
       "  r2\\\\\n",
       "  u3\\\\\n",
       "  v3\\\\\n",
       "  r3\\\\\n",
       "\\end{bmatrix}= [F_2]$"
      ],
      "text/plain": [
       "<IPython.core.display.Math object>"
      ]
     },
     "metadata": {},
     "output_type": "display_data"
    }
   ],
   "source": [
    "display(Math(bmatrix(k2)+bmatrix(u2)+\"= [F_2]\"))"
   ]
  },
  {
   "cell_type": "markdown",
   "metadata": {},
   "source": [
    "### Matriz de Rigidez Elemento 3 (viga)."
   ]
  },
  {
   "cell_type": "code",
   "execution_count": 111,
   "metadata": {
    "scrolled": true
   },
   "outputs": [
    {
     "data": {
      "text/latex": [
       "$\\displaystyle \\begin{bmatrix}\n",
       "  2.4e8 & 0 & 0 & -2.4e8 & 0 & 0\\\\\n",
       "  0 & 2.0e7 & 7.0e7 & 0 & -2.0e7 & 7.0e7\\\\\n",
       "  0 & 7.0e7 & 3.3e8 & 0 & -7.0e7 & 1.6e8\\\\\n",
       "  -2.4e8 & 0 & 0 & 2.4e8 & 0 & 0\\\\\n",
       "  0 & -2.0e7 & -7.0e7 & 0 & 2.0e7 & -7.0e7\\\\\n",
       "  0 & 7.0e7 & 1.6e8 & 0 & -7.0e7 & 3.3e8\\\\\n",
       "\\end{bmatrix}\\begin{bmatrix}\n",
       "  u3\\\\\n",
       "  v3\\\\\n",
       "  r3\\\\\n",
       "  u4\\\\\n",
       "  v4\\\\\n",
       "  r4\\\\\n",
       "\\end{bmatrix}= [F_3]$"
      ],
      "text/plain": [
       "<IPython.core.display.Math object>"
      ]
     },
     "metadata": {},
     "output_type": "display_data"
    }
   ],
   "source": [
    "display(Math(bmatrix(k3)+bmatrix(u3)+\"= [F_3]\"))"
   ]
  },
  {
   "cell_type": "markdown",
   "metadata": {},
   "source": [
    "## ¿Cómo ensamblar estas matrices?\n",
    "\n",
    "Cada una de estas matrices de rigidez, presenta gl en común, por lo tanto existe una relación entre cada una de estas matrices de rigidez y esta determinada por como están conectados los elementos. Es posible sumar cada una de las matrices de rigidez, si es que estas están escritas en termino de los gl globales. Por ejemplo, la relación local del elemento barra esta dada por:\n",
    "\n",
    "\n",
    "\n",
    "$$[K_1] \\begin{bmatrix}\n",
    "  u1\\\\\n",
    "  v1\\\\\n",
    "  u3\\\\\n",
    "  v3\\\\\n",
    "\\end{bmatrix}= [F_1]$$ \n",
    "\n",
    "Queremos escribir esta ecuación en término de los gl globales, es decir:\n",
    "\n",
    "\n",
    "$$ [K_{e1}][u_G]=[K_{e1}] \\begin{bmatrix}\n",
    "  u1\\\\\n",
    "  v1\\\\\n",
    "  u2\\\\\n",
    "  v2\\\\\n",
    "  r2\\\\\n",
    "  u3\\\\\n",
    "  v3\\\\\n",
    "  r3\\\\\n",
    "  u4\\\\\n",
    "  v4\\\\\n",
    "  r4\\\\\n",
    "\\end{bmatrix}= [F_{e1}]$$ \n",
    "\n",
    "Para ellos es necesario extender la matriz de rigidez de los elementos, $[K_1] \\neq [K_{e1}]$ y $[F_1] \\neq [F_{e1}]  $."
   ]
  },
  {
   "cell_type": "code",
   "execution_count": 112,
   "metadata": {},
   "outputs": [],
   "source": [
    "kg1 = np.zeros((11,11))\n",
    "for i,id_i in enumerate(u1):\n",
    "    for j,id_j in enumerate(u1):\n",
    "        r , c = np.argwhere(u==id_i)[0,0],np.argwhere(u==id_j)[0,0]\n",
    "        kg1[r,c] = k1[i,j] "
   ]
  },
  {
   "cell_type": "markdown",
   "metadata": {},
   "source": [
    "### Matriz Local Elemento 1 (Barra)\n",
    "\n",
    "\n",
    "$$[K_1][u_1] = [F_1] $$"
   ]
  },
  {
   "cell_type": "code",
   "execution_count": 113,
   "metadata": {},
   "outputs": [
    {
     "data": {
      "text/latex": [
       "$\\displaystyle \\begin{bmatrix}\n",
       "  u1 & v1 & u3 & v3\\\\\n",
       "\\end{bmatrix}$"
      ],
      "text/plain": [
       "<IPython.core.display.Math object>"
      ]
     },
     "metadata": {},
     "output_type": "display_data"
    },
    {
     "data": {
      "text/latex": [
       "$\\displaystyle \\begin{bmatrix}\n",
       "  114279.3 & 197937.6 & -114279.3 & -197937.6\\\\\n",
       "  197937.6 & 342837.9 & -197937.6 & -342837.9\\\\\n",
       "  -114279.3 & -197937.6 & 114279.3 & 197937.6\\\\\n",
       "  -197937.6 & -342837.9 & 197937.6 & 342837.9\\\\\n",
       "\\end{bmatrix}\\begin{bmatrix}\n",
       "  u1\\\\\n",
       "  v1\\\\\n",
       "  u3\\\\\n",
       "  v3\\\\\n",
       "\\end{bmatrix}= [F_1]$"
      ],
      "text/plain": [
       "<IPython.core.display.Math object>"
      ]
     },
     "metadata": {},
     "output_type": "display_data"
    }
   ],
   "source": [
    "display(Math(bmatrix(u1.T)))\n",
    "display(Math(bmatrix(k1)+bmatrix(u1).replace('\\'', '')+\"= [F_1]\")) "
   ]
  },
  {
   "cell_type": "markdown",
   "metadata": {},
   "source": [
    "### Matriz Local escrita con todos los gl.  "
   ]
  },
  {
   "cell_type": "code",
   "execution_count": 114,
   "metadata": {},
   "outputs": [
    {
     "data": {
      "text/latex": [
       "$\\displaystyle \\begin{bmatrix}\n",
       "  u1 & v1 & u2 & v2 & r2 & u3 & v3 & r3 & u4 & v4 & r4\\\\\n",
       "\\end{bmatrix}$"
      ],
      "text/plain": [
       "<IPython.core.display.Math object>"
      ]
     },
     "metadata": {},
     "output_type": "display_data"
    },
    {
     "data": {
      "text/latex": [
       "$\\displaystyle \\begin{bmatrix}\n",
       "  114279.3 & 197937.6 & 0. & 0. & 0. & -114279.3 & -197937.6 & 0. & 0. & 0. & 0.\\\\\n",
       "  197937.6 & 342837.9 & 0. & 0. & 0. & -197937.6 & -342837.9 & 0. & 0. & 0. & 0.\\\\\n",
       "  0. & 0. & 0. & 0. & 0. & 0. & 0. & 0. & 0. & 0. & 0.\\\\\n",
       "  0. & 0. & 0. & 0. & 0. & 0. & 0. & 0. & 0. & 0. & 0.\\\\\n",
       "  0. & 0. & 0. & 0. & 0. & 0. & 0. & 0. & 0. & 0. & 0.\\\\\n",
       "  -114279.3 & -197937.6 & 0. & 0. & 0. & 114279.3 & 197937.6 & 0. & 0. & 0. & 0.\\\\\n",
       "  -197937.6 & -342837.9 & 0. & 0. & 0. & 197937.6 & 342837.9 & 0. & 0. & 0. & 0.\\\\\n",
       "  0. & 0. & 0. & 0. & 0. & 0. & 0. & 0. & 0. & 0. & 0.\\\\\n",
       "  0. & 0. & 0. & 0. & 0. & 0. & 0. & 0. & 0. & 0. & 0.\\\\\n",
       "  0. & 0. & 0. & 0. & 0. & 0. & 0. & 0. & 0. & 0. & 0.\\\\\n",
       "  0. & 0. & 0. & 0. & 0. & 0. & 0. & 0. & 0. & 0. & 0.\\\\\n",
       "\\end{bmatrix}\\begin{bmatrix}\n",
       "  u1\\\\\n",
       "  v1\\\\\n",
       "  u2\\\\\n",
       "  v2\\\\\n",
       "  r2\\\\\n",
       "  u3\\\\\n",
       "  v3\\\\\n",
       "  r3\\\\\n",
       "  u4\\\\\n",
       "  v4\\\\\n",
       "  r4\\\\\n",
       "\\end{bmatrix}= [F_{e1}]$"
      ],
      "text/plain": [
       "<IPython.core.display.Math object>"
      ]
     },
     "metadata": {},
     "output_type": "display_data"
    }
   ],
   "source": [
    "display(Math(bmatrix(u.T)))\n",
    "display(Math(bmatrix(kg1)+bmatrix(u)+\"= [F_{e1}]\"))"
   ]
  },
  {
   "cell_type": "markdown",
   "metadata": {},
   "source": [
    "**Esta operación permite escribir la matriz de rigidez local, en termino de todos los gl de desplazamientos del modelo.**\n",
    "\n",
    "$$[K_1][u_1] = [F_1] $$\n",
    "\n",
    "Pero esta igualdad se puede escribir en terminos del vector de desplazamientos globales.\n",
    "\n",
    "$$[K_{e1}][u_{G}] = [F_{e1}] $$\n",
    "\n",
    "Si es que sumamos cada una de las matrices de rigidez de los elementos, en termino de los gl globales, obtenemos la matriz de rigidez global.\n",
    "\n",
    "$$([K_{e1}]+[K_{e2}]+[K_{e3}])[u_{G}] = [F_{ext}] $$\n",
    "\n",
    "Es decir, la suma de cada una de las matrices de rigidez en término de los gl globales, nos da la matriz de rigidez global.\n",
    "\n",
    "$$([K_{e1}]+[K_{e2}]+[K_{e3}])=[K_{G}] $$\n",
    "\n",
    "Así, se obtiene la relación entre la matriz de rigidez global. Esta expresión relaciona linealmente los desplazamientos, con las fuerzas externas del modelo.\n",
    "\n",
    "\n",
    "$$[K_{G}][u_{G}] = [F_{ext}] $$"
   ]
  },
  {
   "cell_type": "markdown",
   "metadata": {},
   "source": [
    "## Ensamblaje\n",
    "\n",
    "Para ensamblar utilizaremos el código anterior, pero sumando todos los elementos."
   ]
  },
  {
   "cell_type": "code",
   "execution_count": 115,
   "metadata": {},
   "outputs": [],
   "source": [
    "elem = [e1,e2,e3]\n",
    "\n",
    "kg = np.zeros((11,11)) # Matriz Global con ceros\n",
    "for e in elem:\n",
    "    for i,id_i in enumerate(e.u):\n",
    "        for j,id_j in enumerate(e.u):\n",
    "            r , c = np.argwhere(u==id_i)[0,0],np.argwhere(u==id_j)[0,0]\n",
    "            kg[r,c] = kg[r,c] + e.k[i,j] "
   ]
  },
  {
   "cell_type": "code",
   "execution_count": 116,
   "metadata": {},
   "outputs": [
    {
     "data": {
      "text/latex": [
       "$\\displaystyle \\begin{bmatrix}\n",
       "  1.1e5 & 2.0e5 & 0 & 0 & 0 & -1.1e5 & -2.0e5 & 0 & 0 & 0 & 0\\\\\n",
       "  2.0e5 & 3.4e5 & 0 & 0 & 0 & -2.0e5 & -3.4e5 & 0 & 0 & 0 & 0\\\\\n",
       "  0 & 0 & 3.2e7 & 1.2e-8 & -8.1e7 & -3.2e7 & -1.2e-8 & -8.1e7 & 0 & 0 & 0\\\\\n",
       "  0 & 0 & 1.2e-8 & 2.3e8 & 4.9e-9 & -1.2e-8 & -2.3e8 & 4.9e-9 & 0 & 0 & 0\\\\\n",
       "  0 & 0 & -8.1e7 & 4.9e-9 & 2.7e8 & 8.1e7 & -4.9e-9 & 1.3e8 & 0 & 0 & 0\\\\\n",
       "  -1.1e5 & -2.0e5 & -3.2e7 & -1.2e-8 & 8.1e7 & 2.7e8 & 2.0e5 & 8.1e7 & -2.4e8 & 0 & 0\\\\\n",
       "  -2.0e5 & -3.4e5 & -1.2e-8 & -2.3e8 & -4.9e-9 & 2.0e5 & 2.5e8 & 7.0e7 & 0 & -2.0e7 & 7.0e7\\\\\n",
       "  0 & 0 & -8.1e7 & 4.9e-9 & 1.3e8 & 8.1e7 & 7.0e7 & 6.0e8 & 0 & -7.0e7 & 1.6e8\\\\\n",
       "  0 & 0 & 0 & 0 & 0 & -2.4e8 & 0 & 0 & 2.4e8 & 0 & 0\\\\\n",
       "  0 & 0 & 0 & 0 & 0 & 0 & -2.0e7 & -7.0e7 & 0 & 2.0e7 & -7.0e7\\\\\n",
       "  0 & 0 & 0 & 0 & 0 & 0 & 7.0e7 & 1.6e8 & 0 & -7.0e7 & 3.3e8\\\\\n",
       "\\end{bmatrix}\\begin{bmatrix}\n",
       "  u1\\\\\n",
       "  v1\\\\\n",
       "  u2\\\\\n",
       "  v2\\\\\n",
       "  r2\\\\\n",
       "  u3\\\\\n",
       "  v3\\\\\n",
       "  r3\\\\\n",
       "  u4\\\\\n",
       "  v4\\\\\n",
       "  r4\\\\\n",
       "\\end{bmatrix}= [F_{ext}]$"
      ],
      "text/plain": [
       "<IPython.core.display.Math object>"
      ]
     },
     "metadata": {},
     "output_type": "display_data"
    }
   ],
   "source": [
    "display(Math(bmatrix(kg)+bmatrix(u)+\"= [F_{ext}]\"))"
   ]
  },
  {
   "cell_type": "code",
   "execution_count": 117,
   "metadata": {},
   "outputs": [],
   "source": [
    "u_desconocidos = np.array(['u3','v3','r3','v4']).reshape(1,-1)\n",
    "f_conocidas = np.array([0.,0.,0.,-4000e3]).reshape(1,-1)\n",
    "\n",
    "ind_u_desconocidos = np.argwhere(u_desconocidos==u)[:,0]\n",
    "ind_u_conocidos = np.delete(np.arange(len(u)), ind_u_desconocidos)"
   ]
  },
  {
   "cell_type": "markdown",
   "metadata": {},
   "source": [
    "Para resolver este problema, es necesario ordenar la matriz anterior de acuerdo a:"
   ]
  },
  {
   "cell_type": "code",
   "execution_count": 118,
   "metadata": {},
   "outputs": [],
   "source": [
    "kaa = np.zeros((len(ind_u_desconocidos),len(ind_u_desconocidos)))\n",
    "\n",
    "for i,ii in enumerate(ind_u_desconocidos):\n",
    "    for j,jj in enumerate(ind_u_desconocidos):\n",
    "        kaa[i,j] = kg[ii,jj]"
   ]
  },
  {
   "cell_type": "code",
   "execution_count": 119,
   "metadata": {},
   "outputs": [
    {
     "data": {
      "text/latex": [
       "$\\displaystyle \\begin{bmatrix}\n",
       "  2.7e8 & 2.0e5 & 8.1e7 & 0\\\\\n",
       "  2.0e5 & 2.5e8 & 7.0e7 & -2.0e7\\\\\n",
       "  8.1e7 & 7.0e7 & 6.0e8 & -7.0e7\\\\\n",
       "  0 & -2.0e7 & -7.0e7 & 2.0e7\\\\\n",
       "\\end{bmatrix}\\begin{bmatrix}\n",
       "  u3\\\\\n",
       "  v3\\\\\n",
       "  r3\\\\\n",
       "  v4\\\\\n",
       "\\end{bmatrix}=\\begin{bmatrix}\n",
       "  0.\\\\\n",
       "  0.\\\\\n",
       "  0.\\\\\n",
       "  -4000000.\\\\\n",
       "\\end{bmatrix}$"
      ],
      "text/plain": [
       "<IPython.core.display.Math object>"
      ]
     },
     "metadata": {},
     "output_type": "display_data"
    }
   ],
   "source": [
    "display(Math(bmatrix(kaa)+bmatrix(u_desconocidos.T)+\"=\"+bmatrix( f_conocidas.T)))"
   ]
  },
  {
   "cell_type": "code",
   "execution_count": 120,
   "metadata": {},
   "outputs": [
    {
     "name": "stdout",
     "output_type": "stream",
     "text": [
      "[[ 0.01256584]\n",
      " [-0.01771931]\n",
      " [-0.04277296]\n",
      " [-0.36612702]]\n"
     ]
    }
   ],
   "source": [
    "ux = np.linalg.solve(kaa,f_conocidas.T)\n",
    "print(ux)"
   ]
  },
  {
   "cell_type": "code",
   "execution_count": 121,
   "metadata": {},
   "outputs": [
    {
     "data": {
      "text/latex": [
       "$\\displaystyle [K_G]\\begin{bmatrix}\n",
       "  0.\\\\\n",
       "  0.\\\\\n",
       "  0.\\\\\n",
       "  0.\\\\\n",
       "  0.\\\\\n",
       "  0.013\\\\\n",
       "  -0.018\\\\\n",
       "  -0.043\\\\\n",
       "  0.\\\\\n",
       "  -0.366\\\\\n",
       "  0.\\\\\n",
       "\\end{bmatrix} = \\begin{bmatrix}\n",
       "  2071.3\\\\\n",
       "  3587.6\\\\\n",
       "  3043887.9\\\\\n",
       "  3996412.4\\\\\n",
       "  -4735376.7\\\\\n",
       "  -0.\\\\\n",
       "  0.\\\\\n",
       "  0.\\\\\n",
       "  -3045959.2\\\\\n",
       "  -4000000.\\\\\n",
       "  17515937.4\\\\\n",
       "\\end{bmatrix}= [F_{ext}]$"
      ],
      "text/plain": [
       "<IPython.core.display.Math object>"
      ]
     },
     "metadata": {},
     "output_type": "display_data"
    }
   ],
   "source": [
    "ug = np.zeros((len(u),1))\n",
    "for i,ii in enumerate(ind_u_desconocidos):\n",
    "    ug[ii] = ux[i] \n",
    "    \n",
    "display(Math(\"[K_G]\"+bmatrix(ug,supress=False,precision=3)+\" = \"+bmatrix(kg@ug) +\"= [F_{ext}]\"))"
   ]
  },
  {
   "cell_type": "markdown",
   "metadata": {},
   "source": [
    "# Postproceso\n",
    "\n",
    "Ya que conocemos los desplazamientos, podemos obtener las fuerzas internas de cada uno de los elementos, con las matrices locales."
   ]
  },
  {
   "cell_type": "markdown",
   "metadata": {},
   "source": [
    "### Matriz de Rigidez Elemento 1 (barra)."
   ]
  },
  {
   "cell_type": "code",
   "execution_count": 122,
   "metadata": {
    "scrolled": true
   },
   "outputs": [
    {
     "data": {
      "text/latex": [
       "$\\displaystyle \\begin{bmatrix}\n",
       "  114279.3 & 197937.6 & -114279.3 & -197937.6\\\\\n",
       "  197937.6 & 342837.9 & -197937.6 & -342837.9\\\\\n",
       "  -114279.3 & -197937.6 & 114279.3 & 197937.6\\\\\n",
       "  -197937.6 & -342837.9 & 197937.6 & 342837.9\\\\\n",
       "\\end{bmatrix}\\begin{bmatrix}\n",
       "  u1\\\\\n",
       "  v1\\\\\n",
       "  u3\\\\\n",
       "  v3\\\\\n",
       "\\end{bmatrix}= [F_1]=\\begin{bmatrix}\n",
       "  2071.3\\\\\n",
       "  3587.6\\\\\n",
       "  -2071.3\\\\\n",
       "  -3587.6\\\\\n",
       "\\end{bmatrix}$"
      ],
      "text/plain": [
       "<IPython.core.display.Math object>"
      ]
     },
     "metadata": {},
     "output_type": "display_data"
    }
   ],
   "source": [
    "ul1=np.zeros((len(u1),1))\n",
    "c=0\n",
    "for i,ii in enumerate(u):\n",
    "    if(ii in u1):\n",
    "        ul1[c] = ug[i]\n",
    "        c=c+1\n",
    "\n",
    "display(Math(bmatrix(k1)+bmatrix(u1)+\"= [F_1]\"+\"=\"+bmatrix(k1 @ ul1)))\n",
    "\n",
    "print(esfuerzo_barra=)"
   ]
  },
  {
   "cell_type": "markdown",
   "metadata": {},
   "source": [
    "### Matriz de Rigidez Elemento 2 (viga)."
   ]
  },
  {
   "cell_type": "code",
   "execution_count": 123,
   "metadata": {},
   "outputs": [
    {
     "data": {
      "text/latex": [
       "$\\displaystyle \\begin{bmatrix}\n",
       "  3.2e7 & 1.2e-8 & -8.1e7 & -3.2e7 & -1.2e-8 & -8.1e7\\\\\n",
       "  1.2e-8 & 2.3e8 & 4.9e-9 & -1.2e-8 & -2.3e8 & 4.9e-9\\\\\n",
       "  -8.1e7 & 4.9e-9 & 2.7e8 & 8.1e7 & -4.9e-9 & 1.3e8\\\\\n",
       "  -3.2e7 & -1.2e-8 & 8.1e7 & 3.2e7 & 1.2e-8 & 8.1e7\\\\\n",
       "  -1.2e-8 & -2.3e8 & -4.9e-9 & 1.2e-8 & 2.3e8 & -4.9e-9\\\\\n",
       "  -8.1e7 & 4.9e-9 & 1.3e8 & 8.1e7 & -4.9e-9 & 2.7e8\\\\\n",
       "\\end{bmatrix}\\begin{bmatrix}\n",
       "  u2\\\\\n",
       "  v2\\\\\n",
       "  r2\\\\\n",
       "  u3\\\\\n",
       "  v3\\\\\n",
       "  r3\\\\\n",
       "\\end{bmatrix}= [F_2]=\\begin{bmatrix}\n",
       "  3043887.9\\\\\n",
       "  3996412.4\\\\\n",
       "  -4735376.7\\\\\n",
       "  -3043887.9\\\\\n",
       "  -3996412.4\\\\\n",
       "  -10484062.6\\\\\n",
       "\\end{bmatrix}$"
      ],
      "text/plain": [
       "<IPython.core.display.Math object>"
      ]
     },
     "metadata": {},
     "output_type": "display_data"
    }
   ],
   "source": [
    "ul2=np.zeros((len(u2),1))\n",
    "c=0\n",
    "for i,ii in enumerate(u):\n",
    "    if(ii in u2):\n",
    "        ul2[c] = ug[i]\n",
    "        c=c+1\n",
    "\n",
    "display(Math(bmatrix(k2)+bmatrix(u2)+\"= [F_2]\"+\"=\"+bmatrix(k2 @ ul2)))"
   ]
  },
  {
   "cell_type": "markdown",
   "metadata": {},
   "source": [
    "### Matriz de Rigidez Elemento 3 (viga)."
   ]
  },
  {
   "cell_type": "code",
   "execution_count": 125,
   "metadata": {
    "scrolled": true
   },
   "outputs": [
    {
     "data": {
      "text/latex": [
       "$\\displaystyle \\begin{bmatrix}\n",
       "  2.4e8 & 0 & 0 & -2.4e8 & 0 & 0\\\\\n",
       "  0 & 2.0e7 & 7.0e7 & 0 & -2.0e7 & 7.0e7\\\\\n",
       "  0 & 7.0e7 & 3.3e8 & 0 & -7.0e7 & 1.6e8\\\\\n",
       "  -2.4e8 & 0 & 0 & 2.4e8 & 0 & 0\\\\\n",
       "  0 & -2.0e7 & -7.0e7 & 0 & 2.0e7 & -7.0e7\\\\\n",
       "  0 & 7.0e7 & 1.6e8 & 0 & -7.0e7 & 3.3e8\\\\\n",
       "\\end{bmatrix}\\begin{bmatrix}\n",
       "  u3\\\\\n",
       "  v3\\\\\n",
       "  r3\\\\\n",
       "  u4\\\\\n",
       "  v4\\\\\n",
       "  r4\\\\\n",
       "\\end{bmatrix}= [F_3]=\\begin{bmatrix}\n",
       "  3045959.2\\\\\n",
       "  4000000.\\\\\n",
       "  10484062.6\\\\\n",
       "  -3045959.2\\\\\n",
       "  -4000000.\\\\\n",
       "  17515937.4\\\\\n",
       "\\end{bmatrix}$"
      ],
      "text/plain": [
       "<IPython.core.display.Math object>"
      ]
     },
     "metadata": {},
     "output_type": "display_data"
    }
   ],
   "source": [
    "ul3=np.zeros((len(u3),1))\n",
    "c=0\n",
    "for i,ii in enumerate(u):\n",
    "    if(ii in u3):\n",
    "        ul3[c] = ug[i]\n",
    "        c=c+1\n",
    "\n",
    "display(Math(bmatrix(k3)+bmatrix(u3)+\"= [F_3]\"+\"=\"+bmatrix(k3 @ ul3)))"
   ]
  },
  {
   "cell_type": "markdown",
   "metadata": {},
   "source": [
    "# Tarea : Obtener el estado de esfuerzos y deformación de los elementos"
   ]
  }
 ],
 "metadata": {
  "kernelspec": {
   "display_name": "Python 3",
   "language": "python",
   "name": "python3"
  },
  "language_info": {
   "codemirror_mode": {
    "name": "ipython",
    "version": 3
   },
   "file_extension": ".py",
   "mimetype": "text/x-python",
   "name": "python",
   "nbconvert_exporter": "python",
   "pygments_lexer": "ipython3",
   "version": "3.8.10"
  }
 },
 "nbformat": 4,
 "nbformat_minor": 4
}
