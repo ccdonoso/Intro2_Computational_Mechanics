{
 "cells": [
  {
   "cell_type": "markdown",
   "metadata": {},
   "source": [
    "# Introducción - Programación en Python\n"
   ]
  },
  {
   "cell_type": "markdown",
   "metadata": {},
   "source": [
    "\n",
    "<img src=\"https://github.com/ccdonoso/Intro2_Computational_Mechanics/blob/master/img/logo_usach_dimec.png?raw=true\" alt=\"logo\" width=\"300\"/>\n"
   ]
  },
  {
   "cell_type": "markdown",
   "metadata": {},
   "source": [
    "- Autor: Claudio Canales Donoso\n",
    "- Página: [ccdonoso.github.io](https://ccdonoso.github.io/)\n",
    "- Cursos: Mecánica Computacional - Diseño Computarizado\n",
    "- Universidad de Santiago de Chile\n",
    "- Fecha: 05/03/24\n",
    "\n",
    "License: BSD 3 clause\n",
    "\n",
    "**Contenido** : Introducción a Python\n",
    "- Variables\n",
    "- Listas\n",
    "- Tuplas\n",
    "- Slicing\n",
    "- Ciclos For - If - While\n",
    "- Suma de los $n$ Enteros y Serie de Fibonacci\n",
    "\n",
    "**Desarrollar este Notebook en Clase y en Conjunto** "
   ]
  },
  {
   "cell_type": "markdown",
   "metadata": {},
   "source": [
    "## Variables \n",
    "\n",
    "   Es un espacio reservado de memoria que tiene la capacidad de cambiar de valor mientras se desarrolla la ejecución del programa y se le asigna un <b> nombre </b>."
   ]
  },
  {
   "cell_type": "code",
   "execution_count": 44,
   "metadata": {},
   "outputs": [],
   "source": [
    "integer = 101\n",
    "logical = True\n",
    "string = 'Hola!'\n",
    "flotante = 101.\n",
    "complejo = 1.1 + 3.2j"
   ]
  },
  {
   "cell_type": "code",
   "execution_count": 45,
   "metadata": {},
   "outputs": [
    {
     "name": "stdout",
     "output_type": "stream",
     "text": [
      "101 True Hola! 101.0 (1.1+3.2j)\n",
      "Hola\n"
     ]
    }
   ],
   "source": [
    "print(integer,logical,string,flotante,complejo)\n",
    "print(\"Hola\")"
   ]
  },
  {
   "cell_type": "code",
   "execution_count": 46,
   "metadata": {},
   "outputs": [
    {
     "name": "stdout",
     "output_type": "stream",
     "text": [
      "<class 'int'>\n",
      "<class 'bool'>\n",
      "<class 'str'>\n",
      "<class 'float'>\n",
      "<class 'complex'>\n"
     ]
    }
   ],
   "source": [
    "print(type(integer))\n",
    "print(type(logical))\n",
    "print(type(string))\n",
    "print(type(flotante))\n",
    "print(type(complejo))"
   ]
  },
  {
   "cell_type": "markdown",
   "metadata": {},
   "source": [
    "## Operadores aritméticos "
   ]
  },
  {
   "cell_type": "markdown",
   "metadata": {},
   "source": [
    "\n",
    "   | Caracter | Operación |\n",
    "   |----|---|\n",
    "   | $+$  | Suma |\n",
    "   | $-$  | Resta |\n",
    "   | /  | division |\n",
    "   | %  | módulo |\n",
    "   | *  | multiplicación |\n",
    "   | //  | Divisón floor |\n",
    "   | **  | Elevado a la potencia |\n",
    "   "
   ]
  },
  {
   "cell_type": "code",
   "execution_count": 47,
   "metadata": {},
   "outputs": [],
   "source": [
    "uno = 1"
   ]
  },
  {
   "cell_type": "code",
   "execution_count": 48,
   "metadata": {},
   "outputs": [
    {
     "data": {
      "text/plain": [
       "True"
      ]
     },
     "execution_count": 48,
     "metadata": {},
     "output_type": "execute_result"
    }
   ],
   "source": [
    "uno == 1"
   ]
  },
  {
   "cell_type": "code",
   "execution_count": 49,
   "metadata": {},
   "outputs": [
    {
     "data": {
      "text/plain": [
       "False"
      ]
     },
     "execution_count": 49,
     "metadata": {},
     "output_type": "execute_result"
    }
   ],
   "source": [
    "uno < 1"
   ]
  },
  {
   "cell_type": "code",
   "execution_count": 50,
   "metadata": {},
   "outputs": [
    {
     "name": "stdout",
     "output_type": "stream",
     "text": [
      "8 2 4\n"
     ]
    }
   ],
   "source": [
    "print(2**3,8%3,13//3)"
   ]
  },
  {
   "cell_type": "markdown",
   "metadata": {},
   "source": [
    "## Operadores Lógicos \n",
    "\n",
    "   | Caracter | Operación |\n",
    "   |----|---|\n",
    "   | and | AND |\n",
    "   | or  | OR |\n",
    "   | ^  | XOR |\n",
    "   | ~ | Negación |\n"
   ]
  },
  {
   "cell_type": "code",
   "execution_count": 51,
   "metadata": {},
   "outputs": [
    {
     "data": {
      "text/plain": [
       "True"
      ]
     },
     "execution_count": 51,
     "metadata": {},
     "output_type": "execute_result"
    }
   ],
   "source": [
    "5 > 4 or 6 < 2"
   ]
  },
  {
   "cell_type": "markdown",
   "metadata": {},
   "source": [
    "## Range \n",
    "\n",
    "Crea una lista de <b> enteros </b> entre cierto rango definido por un intervalo"
   ]
  },
  {
   "cell_type": "code",
   "execution_count": 52,
   "metadata": {},
   "outputs": [
    {
     "name": "stdout",
     "output_type": "stream",
     "text": [
      "<class 'range'>\n"
     ]
    }
   ],
   "source": [
    "rango = range(2,9,2) # {2,4,6,8}\n",
    "range2 = range(3) # {0,1,2}\n",
    "print(type(rango))"
   ]
  },
  {
   "cell_type": "markdown",
   "metadata": {},
   "source": [
    "## Print \n",
    "\n",
    "```print()``` Imprime por pantalla diferentes textos"
   ]
  },
  {
   "cell_type": "code",
   "execution_count": 53,
   "metadata": {},
   "outputs": [
    {
     "name": "stdout",
     "output_type": "stream",
     "text": [
      "Hola \n",
      "Mundo!\n",
      "El valor de PI es:3.14159265 y el valor del numero es 12\n"
     ]
    }
   ],
   "source": [
    "#Concatenación\n",
    "text1 = \"Hola \\n\"\n",
    "text2 = \"Mundo!\"\n",
    "print(text1+text2)\n",
    "pi = 3.14159265\n",
    "numero = 12\n",
    "print(\"El valor de PI es:{} y el valor del numero es {}\".format(pi,numero))\n"
   ]
  },
  {
   "cell_type": "markdown",
   "metadata": {},
   "source": [
    "## Estructura de Datos Básicas en Python "
   ]
  },
  {
   "cell_type": "markdown",
   "metadata": {},
   "source": [
    "Es una forma de ordenar y agrupar particulares estructuras de información"
   ]
  },
  {
   "cell_type": "markdown",
   "metadata": {},
   "source": [
    "### Listas\n",
    "\n",
    "Listas son uno de las estructuras de datos más usadas. Es una secuencia de información ordenada que se encuentra entre brackets y separado por una coma. Cada uno de estos elementos en las listas son accesibles por un índice.\n",
    "\n",
    "Para crear una lista vacia , solo es necesario definir una variable y inicializar \n",
    "\n",
    "```mi_lista = []```"
   ]
  },
  {
   "cell_type": "code",
   "execution_count": 54,
   "metadata": {},
   "outputs": [
    {
     "data": {
      "text/plain": [
       "list"
      ]
     },
     "execution_count": 54,
     "metadata": {},
     "output_type": "execute_result"
    }
   ],
   "source": [
    "mi_lista = []\n",
    "type(mi_lista)"
   ]
  },
  {
   "cell_type": "markdown",
   "metadata": {},
   "source": [
    "Es posible asignar de forma directa una lista"
   ]
  },
  {
   "cell_type": "code",
   "execution_count": 55,
   "metadata": {},
   "outputs": [],
   "source": [
    "mi_lista1 = [\"naranja\",\"papa\",12.42]"
   ]
  },
  {
   "cell_type": "code",
   "execution_count": 56,
   "metadata": {},
   "outputs": [
    {
     "name": "stdout",
     "output_type": "stream",
     "text": [
      "['naranja', 'papa', 12.42]\n"
     ]
    }
   ],
   "source": [
    "print(mi_lista1)"
   ]
  },
  {
   "cell_type": "markdown",
   "metadata": {},
   "source": [
    "#### Indexing\n",
    "\n",
    "Los índices en Python comienzan en cero. \"mi_lista1\" tiene 3 elements \"0\" -> \"naranja\", \"1\" -> \"papa\" , \"2\" -> 12.42"
   ]
  },
  {
   "cell_type": "code",
   "execution_count": 57,
   "metadata": {},
   "outputs": [
    {
     "data": {
      "text/plain": [
       "12.42"
      ]
     },
     "execution_count": 57,
     "metadata": {},
     "output_type": "execute_result"
    }
   ],
   "source": [
    "mi_lista1[2]"
   ]
  },
  {
   "cell_type": "markdown",
   "metadata": {},
   "source": [
    "El índice puede ser ordenado dde forma inversa. \"-3\" -> \"naranja\", \"-2\" -> \"papa\" , \"-1\" -> 12.42"
   ]
  },
  {
   "cell_type": "code",
   "execution_count": 58,
   "metadata": {},
   "outputs": [
    {
     "data": {
      "text/plain": [
       "12.42"
      ]
     },
     "execution_count": 58,
     "metadata": {},
     "output_type": "execute_result"
    }
   ],
   "source": [
    "mi_lista1[-1]"
   ]
  },
  {
   "cell_type": "markdown",
   "metadata": {},
   "source": [
    "Podemos tambien hacer lista en listas, a continuación se ilustra"
   ]
  },
  {
   "cell_type": "code",
   "execution_count": 59,
   "metadata": {},
   "outputs": [],
   "source": [
    "mi_lista2 = [False , 1+2j, \"Hola\"]"
   ]
  },
  {
   "cell_type": "code",
   "execution_count": 60,
   "metadata": {},
   "outputs": [
    {
     "name": "stdout",
     "output_type": "stream",
     "text": [
      "[['naranja', 'papa', 12.42], [False, (1+2j), 'Hola']]\n"
     ]
    }
   ],
   "source": [
    "lista_lista = [mi_lista1,mi_lista2]\n",
    "print(lista_lista)"
   ]
  },
  {
   "cell_type": "code",
   "execution_count": 61,
   "metadata": {},
   "outputs": [
    {
     "data": {
      "text/plain": [
       "'papa'"
      ]
     },
     "execution_count": 61,
     "metadata": {},
     "output_type": "execute_result"
    }
   ],
   "source": [
    "lista_lista[0][1]"
   ]
  },
  {
   "cell_type": "code",
   "execution_count": null,
   "metadata": {},
   "outputs": [],
   "source": []
  },
  {
   "cell_type": "markdown",
   "metadata": {},
   "source": [
    "Acceder a un elemento de una lista dentro de otra lista"
   ]
  },
  {
   "cell_type": "code",
   "execution_count": null,
   "metadata": {},
   "outputs": [],
   "source": []
  },
  {
   "cell_type": "markdown",
   "metadata": {},
   "source": [
    "#### Slicing"
   ]
  },
  {
   "cell_type": "markdown",
   "metadata": {},
   "source": [
    "Al utiliar los indíces es posible acceder a solo un valor, en cambio utilizando slicing es posible obtener una lista de una lista utilizando la siguiente notación : [a,b] donde a y b son enteros y definen un intervalo de valores"
   ]
  },
  {
   "cell_type": "code",
   "execution_count": 62,
   "metadata": {},
   "outputs": [],
   "source": [
    "num = [2,5,7,11,331,52,65,73,82,91]\n",
    "    #  0 1 2 3 4 ...            9   "
   ]
  },
  {
   "cell_type": "code",
   "execution_count": 63,
   "metadata": {},
   "outputs": [
    {
     "name": "stdout",
     "output_type": "stream",
     "text": [
      "[7, 52]\n"
     ]
    }
   ],
   "source": [
    "\n",
    "print(num[2:7:3])"
   ]
  },
  {
   "cell_type": "code",
   "execution_count": null,
   "metadata": {},
   "outputs": [],
   "source": []
  },
  {
   "cell_type": "markdown",
   "metadata": {},
   "source": [
    "#### Métodos (funciones) de las listas\n",
    "\n",
    "Para encontrar la longitud de la lista o el número de elementos de una lista, se utiliza len( )."
   ]
  },
  {
   "cell_type": "code",
   "execution_count": 64,
   "metadata": {},
   "outputs": [
    {
     "data": {
      "text/plain": [
       "10"
      ]
     },
     "execution_count": 64,
     "metadata": {},
     "output_type": "execute_result"
    }
   ],
   "source": [
    "len(num)"
   ]
  },
  {
   "cell_type": "markdown",
   "metadata": {},
   "source": [
    "Si la lista está formada por todos los elementos enteros, entonces min( ) y max( ) dan el valor mínimo y máximo de la lista."
   ]
  },
  {
   "cell_type": "code",
   "execution_count": 65,
   "metadata": {},
   "outputs": [
    {
     "data": {
      "text/plain": [
       "2"
      ]
     },
     "execution_count": 65,
     "metadata": {},
     "output_type": "execute_result"
    }
   ],
   "source": [
    "min(num)"
   ]
  },
  {
   "cell_type": "code",
   "execution_count": 66,
   "metadata": {},
   "outputs": [
    {
     "data": {
      "text/plain": [
       "331"
      ]
     },
     "execution_count": 66,
     "metadata": {},
     "output_type": "execute_result"
    }
   ],
   "source": [
    "max(num)"
   ]
  },
  {
   "cell_type": "markdown",
   "metadata": {},
   "source": [
    "Las listas se pueden concatenar añadiendo, '+' a las mismas. La lista resultante contendrá todos los elementos de las listas que se añadieron. La lista resultante no será una lista anidada."
   ]
  },
  {
   "cell_type": "code",
   "execution_count": 67,
   "metadata": {},
   "outputs": [
    {
     "data": {
      "text/plain": [
       "[1, 2, 3, 4, 5, 6]"
      ]
     },
     "execution_count": 67,
     "metadata": {},
     "output_type": "execute_result"
    }
   ],
   "source": [
    "[1,2,3] + [4,5,6]"
   ]
  },
  {
   "cell_type": "markdown",
   "metadata": {},
   "source": [
    "Puede surgir un requisito en el que necesite comprobar si un elemento concreto está en una lista predefinida. Considere la siguiente lista."
   ]
  },
  {
   "cell_type": "code",
   "execution_count": 68,
   "metadata": {},
   "outputs": [],
   "source": [
    "nombres = [\"bastian\",\"franco\",\"ignacio\"]"
   ]
  },
  {
   "cell_type": "markdown",
   "metadata": {},
   "source": [
    "Para comprobar si 'Fire' y 'Rajath' están presentes en los nombres de la lista. Un enfoque convencional sería utilizar un bucle for e iterar sobre la lista y utilizar la condición if. Pero en python puedes usar el concepto 'a in b' que devolvería 'True' si a está presente en b y 'False' si no."
   ]
  },
  {
   "cell_type": "code",
   "execution_count": 69,
   "metadata": {},
   "outputs": [
    {
     "data": {
      "text/plain": [
       "True"
      ]
     },
     "execution_count": 69,
     "metadata": {},
     "output_type": "execute_result"
    }
   ],
   "source": [
    "\"bastian\" in nombres"
   ]
  },
  {
   "cell_type": "code",
   "execution_count": 70,
   "metadata": {},
   "outputs": [
    {
     "data": {
      "text/plain": [
       "False"
      ]
     },
     "execution_count": 70,
     "metadata": {},
     "output_type": "execute_result"
    }
   ],
   "source": [
    "\"Rajath\" in nombres"
   ]
  },
  {
   "cell_type": "markdown",
   "metadata": {},
   "source": [
    "#### append\n",
    "append( ) se utiliza para añadir un elemento al final de la lista."
   ]
  },
  {
   "cell_type": "code",
   "execution_count": 71,
   "metadata": {},
   "outputs": [],
   "source": [
    "lst = [1,1,4,8,7]"
   ]
  },
  {
   "cell_type": "code",
   "execution_count": 72,
   "metadata": {},
   "outputs": [
    {
     "name": "stdout",
     "output_type": "stream",
     "text": [
      "[1, 1, 4, 8, 7, 1]\n"
     ]
    }
   ],
   "source": [
    "lst.append(1)\n",
    "print(lst)"
   ]
  },
  {
   "cell_type": "markdown",
   "metadata": {},
   "source": [
    "La función append( ) también puede utilizarse para añadir una lista completa al final. Observe que la lista resultante se convierte en una lista anidada."
   ]
  },
  {
   "cell_type": "code",
   "execution_count": 73,
   "metadata": {},
   "outputs": [
    {
     "name": "stdout",
     "output_type": "stream",
     "text": [
      "[1, 1, 4, 8, 7, 1, [5, 4, 2, 8]]\n"
     ]
    }
   ],
   "source": [
    "lst1 = [5,4,2,8]\n",
    "lst.append(lst1) #nombre_lista.append() \n",
    "print(lst)"
   ]
  },
  {
   "cell_type": "markdown",
   "metadata": {},
   "source": [
    "#### extend\n",
    "Pero si la lista anidada no es lo que se desea, se puede utilizar la función **extend( )**."
   ]
  },
  {
   "cell_type": "code",
   "execution_count": 74,
   "metadata": {},
   "outputs": [
    {
     "name": "stdout",
     "output_type": "stream",
     "text": [
      "[1, 1, 4, 8, 7, 1, [5, 4, 2, 8], 5, 4, 2, 8]\n"
     ]
    }
   ],
   "source": [
    "lst.extend(lst1)\n",
    "print(lst)"
   ]
  },
  {
   "cell_type": "markdown",
   "metadata": {},
   "source": [
    "#### index()\n",
    "index( ) se utiliza para encontrar el valor del índice de un elemento concreto. Tenga en cuenta que si hay varios elementos con el mismo valor, se devuelve el primer valor de índice de ese elemento."
   ]
  },
  {
   "cell_type": "code",
   "execution_count": 75,
   "metadata": {},
   "outputs": [
    {
     "data": {
      "text/plain": [
       "2"
      ]
     },
     "execution_count": 75,
     "metadata": {},
     "output_type": "execute_result"
    }
   ],
   "source": [
    "lst.index(4)"
   ]
  },
  {
   "cell_type": "markdown",
   "metadata": {},
   "source": [
    "#### insert(x,y)\n",
    "\n",
    "index( ) se utiliza para encontrar el valor del índice de un elemento concreto. Tenga en cuenta que si hay varios elementos con el mismo valor, se devuelve el primer valor de índice de ese elemento."
   ]
  },
  {
   "cell_type": "code",
   "execution_count": 76,
   "metadata": {},
   "outputs": [
    {
     "name": "stdout",
     "output_type": "stream",
     "text": [
      "[1, 1, 4, 8, 7, 'nombre', 1, [5, 4, 2, 8], 5, 4, 2, 8]\n"
     ]
    }
   ],
   "source": [
    "lst.insert(5, 'nombre')\n",
    "print(lst)"
   ]
  },
  {
   "cell_type": "markdown",
   "metadata": {},
   "source": [
    "insert(x,y) inserta pero no reemplaza el elemento. Si quieres reemplazar el elemento con otro elemento simplemente asigna el valor a ese índice en particular"
   ]
  },
  {
   "cell_type": "code",
   "execution_count": 77,
   "metadata": {},
   "outputs": [
    {
     "name": "stdout",
     "output_type": "stream",
     "text": [
      "[1, 1, 4, 8, 7, 'Python', 1, [5, 4, 2, 8], 5, 4, 2, 8]\n"
     ]
    }
   ],
   "source": [
    "lst[5] = \"Python\"\n",
    "print(lst)"
   ]
  },
  {
   "cell_type": "markdown",
   "metadata": {},
   "source": [
    "#### pop\n",
    "\n",
    "pop( ) se utiliza para eliminar un elemento basándose en su valor de índice, que puede asignarse a una variable. También se puede eliminar un elemento especificando el propio elemento mediante la función remove( )."
   ]
  },
  {
   "cell_type": "code",
   "execution_count": 78,
   "metadata": {},
   "outputs": [
    {
     "data": {
      "text/plain": [
       "8"
      ]
     },
     "execution_count": 78,
     "metadata": {},
     "output_type": "execute_result"
    }
   ],
   "source": [
    "lst.pop()"
   ]
  },
  {
   "cell_type": "markdown",
   "metadata": {},
   "source": [
    "Se puede especificar el valor del índice para que aparezca un elemento ceratin correspondiente a ese valor del índice."
   ]
  },
  {
   "cell_type": "code",
   "execution_count": 79,
   "metadata": {},
   "outputs": [
    {
     "data": {
      "text/plain": [
       "1"
      ]
     },
     "execution_count": 79,
     "metadata": {},
     "output_type": "execute_result"
    }
   ],
   "source": [
    "lst.pop(0)"
   ]
  },
  {
   "cell_type": "markdown",
   "metadata": {},
   "source": [
    "#### Remove\n",
    "\n",
    "pop( ) se utiliza para eliminar un elemento basándose en su valor de índice, que puede asignarse a una variable. También se puede eliminar un elemento especificando el propio elemento mediante la función remove( )."
   ]
  },
  {
   "cell_type": "code",
   "execution_count": 80,
   "metadata": {},
   "outputs": [
    {
     "name": "stdout",
     "output_type": "stream",
     "text": [
      "[1, 4, 8, 7, 1, [5, 4, 2, 8], 5, 4, 2]\n"
     ]
    }
   ],
   "source": [
    "lst.remove(\"Python\")\n",
    "print(lst)"
   ]
  },
  {
   "cell_type": "code",
   "execution_count": 81,
   "metadata": {},
   "outputs": [
    {
     "name": "stdout",
     "output_type": "stream",
     "text": [
      "[1, 4, 8, 7, 1, 5, 4, 2]\n"
     ]
    }
   ],
   "source": [
    "del lst[5]\n",
    "print(lst)"
   ]
  },
  {
   "cell_type": "markdown",
   "metadata": {},
   "source": [
    "#### Sorting"
   ]
  },
  {
   "cell_type": "code",
   "execution_count": 82,
   "metadata": {},
   "outputs": [
    {
     "name": "stdout",
     "output_type": "stream",
     "text": [
      "[1, 1, 2, 4, 4, 5, 7, 8]\n"
     ]
    }
   ],
   "source": [
    "lst.sort()\n",
    "print(lst)"
   ]
  },
  {
   "cell_type": "code",
   "execution_count": 83,
   "metadata": {},
   "outputs": [
    {
     "name": "stdout",
     "output_type": "stream",
     "text": [
      "[8, 7, 5, 4, 4, 2, 1, 1]\n"
     ]
    }
   ],
   "source": [
    "lst.sort(reverse=True)\n",
    "print(lst)"
   ]
  },
  {
   "cell_type": "markdown",
   "metadata": {},
   "source": [
    "#### Copiando una lista"
   ]
  },
  {
   "cell_type": "markdown",
   "metadata": {},
   "source": [
    "**La mayoría de los nuevos programadores de python cometen este error. Considere lo siguiente***"
   ]
  },
  {
   "cell_type": "code",
   "execution_count": 92,
   "metadata": {},
   "outputs": [],
   "source": [
    "lista = [2,1,4,3]"
   ]
  },
  {
   "cell_type": "code",
   "execution_count": 93,
   "metadata": {},
   "outputs": [
    {
     "name": "stdout",
     "output_type": "stream",
     "text": [
      "[2, 1, 4, 3]\n"
     ]
    }
   ],
   "source": [
    "listab = lista\n",
    "print(listab)"
   ]
  },
  {
   "cell_type": "markdown",
   "metadata": {},
   "source": [
    "Aquí, hemos declarado una lista, lista = [2,1,4,3]. Esta lista se copia a listab asignándole su valor y se copia como se ve. Ahora realizamos algunas operaciones aleatorias sobre lista."
   ]
  },
  {
   "cell_type": "code",
   "execution_count": 86,
   "metadata": {},
   "outputs": [
    {
     "name": "stdout",
     "output_type": "stream",
     "text": [
      "[2, 1, 4, 9]\n"
     ]
    }
   ],
   "source": [
    "lista.pop()\n",
    "lista.append(9)\n",
    "print(lista)"
   ]
  },
  {
   "cell_type": "code",
   "execution_count": 87,
   "metadata": {},
   "outputs": [
    {
     "name": "stdout",
     "output_type": "stream",
     "text": [
      "140688004661552 140688004661552\n"
     ]
    }
   ],
   "source": [
    "a = 3\n",
    "\n",
    "b = a\n",
    "\n",
    "print(id(a),id(b))"
   ]
  },
  {
   "cell_type": "markdown",
   "metadata": {},
   "source": [
    "Como Solucionarlo?"
   ]
  },
  {
   "cell_type": "markdown",
   "metadata": {},
   "source": [
    "lista = [2,1,4,3]\n",
    "listb = lista[:]\n",
    "print(listb)\n",
    "lista.pop()\n",
    "print(lista)\n",
    "lista.append(9)\n",
    "print(lista)"
   ]
  },
  {
   "cell_type": "code",
   "execution_count": null,
   "metadata": {},
   "outputs": [],
   "source": []
  },
  {
   "cell_type": "markdown",
   "metadata": {},
   "source": [
    "**Opción 2**"
   ]
  },
  {
   "cell_type": "code",
   "execution_count": null,
   "metadata": {},
   "outputs": [],
   "source": []
  },
  {
   "cell_type": "markdown",
   "metadata": {},
   "source": [
    "### Tuplas"
   ]
  },
  {
   "cell_type": "markdown",
   "metadata": {},
   "source": [
    "Las tuplas son similares a las listas, pero la única gran diferencia es que los elementos de una lista pueden cambiarse, pero en las tuplas no. Piensa en las tuplas como algo que tiene que ser True para algo en particular y no puede ser True para ningún otro valor. "
   ]
  },
  {
   "cell_type": "code",
   "execution_count": 88,
   "metadata": {},
   "outputs": [
    {
     "data": {
      "text/plain": [
       "('hola', 'Mundo', 3.14159265)"
      ]
     },
     "execution_count": 88,
     "metadata": {},
     "output_type": "execute_result"
    }
   ],
   "source": [
    "tupla = tuple([\"hola\",\"Mundo\",pi])\n",
    "tupla"
   ]
  },
  {
   "cell_type": "code",
   "execution_count": 89,
   "metadata": {},
   "outputs": [
    {
     "name": "stdout",
     "output_type": "stream",
     "text": [
      "('hola', 'Mundo', 3.14159265)\n"
     ]
    }
   ],
   "source": [
    "print(tupla)"
   ]
  },
  {
   "cell_type": "code",
   "execution_count": 90,
   "metadata": {},
   "outputs": [
    {
     "data": {
      "text/plain": [
       "tuple"
      ]
     },
     "execution_count": 90,
     "metadata": {},
     "output_type": "execute_result"
    }
   ],
   "source": [
    "type(tupla)"
   ]
  },
  {
   "cell_type": "markdown",
   "metadata": {},
   "source": [
    "## Estructuras de Control\n",
    "\n",
    "### if"
   ]
  },
  {
   "cell_type": "code",
   "execution_count": null,
   "metadata": {},
   "outputs": [],
   "source": [
    "x = 9\n",
    "if x > 10:\n",
    "    print(\"Hola\")\n",
    "    "
   ]
  },
  {
   "cell_type": "markdown",
   "metadata": {},
   "source": [
    "### If-else"
   ]
  },
  {
   "cell_type": "code",
   "execution_count": null,
   "metadata": {},
   "outputs": [
    {
     "name": "stdout",
     "output_type": "stream",
     "text": [
      "else\n"
     ]
    }
   ],
   "source": [
    "x = 9\n",
    "if x > 10:\n",
    "    print(\"If\")\n",
    "else:\n",
    "    print(\"else\")"
   ]
  },
  {
   "cell_type": "markdown",
   "metadata": {},
   "source": [
    "### if-elif"
   ]
  },
  {
   "cell_type": "code",
   "execution_count": null,
   "metadata": {},
   "outputs": [
    {
     "name": "stdout",
     "output_type": "stream",
     "text": [
      "x=y\n"
     ]
    }
   ],
   "source": [
    "x = 10\n",
    "y = 10\n",
    "if x > y:\n",
    "    print(\"x>y\")\n",
    "elif x < y:\n",
    "    print(\"x < y\")\n",
    "else:\n",
    "    print(\"x=y\")"
   ]
  },
  {
   "cell_type": "code",
   "execution_count": null,
   "metadata": {},
   "outputs": [
    {
     "name": "stdout",
     "output_type": "stream",
     "text": [
      "x>y\n"
     ]
    }
   ],
   "source": [
    "x = 10\n",
    "y = 11\n",
    "if x < y:\n",
    "    print(\"x>y\")\n",
    "elif x < y:\n",
    "    print(\"x < y\")\n",
    "    if x==10:\n",
    "        print(\"x=10\")\n",
    "else:\n",
    "    print(\"x=y\")"
   ]
  },
  {
   "cell_type": "markdown",
   "metadata": {},
   "source": [
    "### For"
   ]
  },
  {
   "cell_type": "code",
   "execution_count": null,
   "metadata": {},
   "outputs": [
    {
     "name": "stdout",
     "output_type": "stream",
     "text": [
      "0\n",
      "1\n",
      "2\n",
      "3\n",
      "4\n"
     ]
    }
   ],
   "source": [
    "for i in range(5): #[0,1,2,3,4]\n",
    "    print(i)"
   ]
  },
  {
   "cell_type": "code",
   "execution_count": null,
   "metadata": {},
   "outputs": [
    {
     "name": "stdout",
     "output_type": "stream",
     "text": [
      "azul\n",
      "rojo\n",
      "morado\n",
      "verde\n"
     ]
    }
   ],
   "source": [
    "colores = [\"azul\",\"rojo\",\"morado\",\"verde\"]\n",
    "\n",
    "for color in colores:\n",
    "    print(color)"
   ]
  },
  {
   "cell_type": "code",
   "execution_count": null,
   "metadata": {},
   "outputs": [
    {
     "name": "stdout",
     "output_type": "stream",
     "text": [
      "[1, 2, 3] 1\n",
      "[1, 2, 3] 2\n",
      "[1, 2, 3] 3\n",
      "[4, 5, 6] 4\n",
      "[4, 5, 6] 5\n",
      "[4, 5, 6] 6\n",
      "[7, 8, 9] 7\n",
      "[7, 8, 9] 8\n",
      "[7, 8, 9] 9\n"
     ]
    }
   ],
   "source": [
    "list_of_lists = [[1,2,3],[4,5,6],[7,8,9]]\n",
    "\n",
    "for i in list_of_lists:\n",
    "    for j in i:\n",
    "        print(i,j)"
   ]
  },
  {
   "cell_type": "markdown",
   "metadata": {},
   "source": [
    "### while"
   ]
  },
  {
   "cell_type": "code",
   "execution_count": 94,
   "metadata": {},
   "outputs": [
    {
     "name": "stdout",
     "output_type": "stream",
     "text": [
      "1\n",
      "2\n",
      "termino\n"
     ]
    }
   ],
   "source": [
    "i = 1\n",
    "while i<3:\n",
    "    print(i)\n",
    "    i = i + 1\n",
    "print(\"termino\")"
   ]
  },
  {
   "cell_type": "markdown",
   "metadata": {},
   "source": [
    "### Break"
   ]
  },
  {
   "cell_type": "code",
   "execution_count": null,
   "metadata": {},
   "outputs": [
    {
     "name": "stdout",
     "output_type": "stream",
     "text": [
      "0\n",
      "1\n",
      "2\n",
      "3\n",
      "4\n",
      "5\n",
      "6\n",
      "7\n",
      "Hola\n"
     ]
    }
   ],
   "source": [
    "for i in range(100):\n",
    "    print(i)\n",
    "    if i>=7:\n",
    "        break\n",
    "print(\"Hola\")"
   ]
  },
  {
   "cell_type": "markdown",
   "metadata": {},
   "source": [
    "### Continue"
   ]
  },
  {
   "cell_type": "code",
   "execution_count": null,
   "metadata": {},
   "outputs": [
    {
     "name": "stdout",
     "output_type": "stream",
     "text": [
      "0\n",
      "----\n",
      "1\n",
      "----\n",
      "2\n",
      "----\n",
      "3\n",
      "----\n",
      "4\n",
      "----\n",
      "i>4\n",
      "i>4\n",
      "i>4\n",
      "i>4\n",
      "i>4\n"
     ]
    }
   ],
   "source": [
    "for i in range(10):\n",
    "    if i>4:\n",
    "        print(\"i>4\")\n",
    "        continue\n",
    "        print(\"No me voy a ejecutar nunca\")\n",
    "    elif i<7:\n",
    "        print(i)\n",
    "    print(\"----\")"
   ]
  },
  {
   "cell_type": "code",
   "execution_count": null,
   "metadata": {},
   "outputs": [
    {
     "data": {
      "text/plain": [
       "[27, 54, 81, 108, 135, 162, 189, 216, 243, 270]"
      ]
     },
     "execution_count": 197,
     "metadata": {},
     "output_type": "execute_result"
    }
   ],
   "source": [
    "[27*z for i in range(50) if i==27 for z in range(1,11)]"
   ]
  },
  {
   "cell_type": "markdown",
   "metadata": {},
   "source": [
    "## Problema: Sumatoria de los 100 primeros enteros\n",
    "\n",
    "$$\\sum_i^{n} i=\\frac{n(n+1)}{2}$$"
   ]
  },
  {
   "cell_type": "code",
   "execution_count": null,
   "metadata": {},
   "outputs": [
    {
     "name": "stdout",
     "output_type": "stream",
     "text": [
      "5050\n"
     ]
    }
   ],
   "source": [
    "suma=0 \n",
    "for i in range(0,101): \n",
    "    suma = suma + i\n",
    "    \n",
    "print(\"Sumatoria:{} y resultado analitico:{}\".format(suma)\n"
   ]
  },
  {
   "cell_type": "markdown",
   "metadata": {},
   "source": [
    "## Problema: Serie de Fibonacci \n",
    " "
   ]
  },
  {
   "cell_type": "markdown",
   "metadata": {},
   "source": [
    "$$f_0 = 0$$ \n",
    "$$f_1 = 1 $$\n",
    "$$f_n = f_{n-1} + f_{n-2}$$\n"
   ]
  },
  {
   "cell_type": "code",
   "execution_count": null,
   "metadata": {},
   "outputs": [
    {
     "name": "stdout",
     "output_type": "stream",
     "text": [
      "El valor 0 de la Serie de Fibonacci es:1\n",
      "El valor 1 de la Serie de Fibonacci es:2\n",
      "El valor 2 de la Serie de Fibonacci es:3\n",
      "El valor 3 de la Serie de Fibonacci es:5\n",
      "El valor 4 de la Serie de Fibonacci es:8\n",
      "El valor 5 de la Serie de Fibonacci es:13\n",
      "El valor 6 de la Serie de Fibonacci es:21\n",
      "El valor 7 de la Serie de Fibonacci es:34\n",
      "El valor 8 de la Serie de Fibonacci es:55\n",
      "El valor 9 de la Serie de Fibonacci es:89\n",
      "El valor 10 de la Serie de Fibonacci es:144\n",
      "El valor 11 de la Serie de Fibonacci es:233\n",
      "El valor 12 de la Serie de Fibonacci es:377\n",
      "El valor 13 de la Serie de Fibonacci es:610\n",
      "El valor 14 de la Serie de Fibonacci es:987\n",
      "El valor 15 de la Serie de Fibonacci es:1597\n",
      "El valor 16 de la Serie de Fibonacci es:2584\n",
      "El valor 17 de la Serie de Fibonacci es:4181\n",
      "El valor 18 de la Serie de Fibonacci es:6765\n",
      "El valor 19 de la Serie de Fibonacci es:10946\n",
      "El valor 20 de la Serie de Fibonacci es:17711\n",
      "El valor 21 de la Serie de Fibonacci es:28657\n",
      "El valor 22 de la Serie de Fibonacci es:46368\n",
      "El valor 23 de la Serie de Fibonacci es:75025\n",
      "El valor 24 de la Serie de Fibonacci es:121393\n",
      "El valor 25 de la Serie de Fibonacci es:196418\n",
      "El valor 26 de la Serie de Fibonacci es:317811\n",
      "El valor 27 de la Serie de Fibonacci es:514229\n",
      "El valor 28 de la Serie de Fibonacci es:832040\n",
      "El valor 29 de la Serie de Fibonacci es:1346269\n",
      "El valor 30 de la Serie de Fibonacci es:2178309\n",
      "El valor 31 de la Serie de Fibonacci es:3524578\n",
      "El valor 32 de la Serie de Fibonacci es:5702887\n",
      "El valor 33 de la Serie de Fibonacci es:9227465\n",
      "El valor 34 de la Serie de Fibonacci es:14930352\n",
      "El valor 35 de la Serie de Fibonacci es:24157817\n",
      "El valor 36 de la Serie de Fibonacci es:39088169\n",
      "El valor 37 de la Serie de Fibonacci es:63245986\n",
      "El valor 38 de la Serie de Fibonacci es:102334155\n",
      "El valor 39 de la Serie de Fibonacci es:165580141\n",
      "El valor 40 de la Serie de Fibonacci es:267914296\n",
      "El valor 41 de la Serie de Fibonacci es:433494437\n",
      "El valor 42 de la Serie de Fibonacci es:701408733\n",
      "El valor 43 de la Serie de Fibonacci es:1134903170\n",
      "El valor 44 de la Serie de Fibonacci es:1836311903\n",
      "El valor 45 de la Serie de Fibonacci es:2971215073\n",
      "El valor 46 de la Serie de Fibonacci es:4807526976\n",
      "El valor 47 de la Serie de Fibonacci es:7778742049\n",
      "El valor 48 de la Serie de Fibonacci es:12586269025\n",
      "El valor 49 de la Serie de Fibonacci es:20365011074\n",
      "El valor 50 de la Serie de Fibonacci es:32951280099\n",
      "El valor 51 de la Serie de Fibonacci es:53316291173\n",
      "El valor 52 de la Serie de Fibonacci es:86267571272\n",
      "El valor 53 de la Serie de Fibonacci es:139583862445\n",
      "El valor 54 de la Serie de Fibonacci es:225851433717\n",
      "El valor 55 de la Serie de Fibonacci es:365435296162\n",
      "El valor 56 de la Serie de Fibonacci es:591286729879\n",
      "El valor 57 de la Serie de Fibonacci es:956722026041\n",
      "El valor 58 de la Serie de Fibonacci es:1548008755920\n",
      "El valor 59 de la Serie de Fibonacci es:2504730781961\n",
      "El valor 60 de la Serie de Fibonacci es:4052739537881\n",
      "El valor 61 de la Serie de Fibonacci es:6557470319842\n",
      "El valor 62 de la Serie de Fibonacci es:10610209857723\n",
      "El valor 63 de la Serie de Fibonacci es:17167680177565\n",
      "El valor 64 de la Serie de Fibonacci es:27777890035288\n",
      "El valor 65 de la Serie de Fibonacci es:44945570212853\n",
      "El valor 66 de la Serie de Fibonacci es:72723460248141\n",
      "El valor 67 de la Serie de Fibonacci es:117669030460994\n",
      "El valor 68 de la Serie de Fibonacci es:190392490709135\n",
      "El valor 69 de la Serie de Fibonacci es:308061521170129\n",
      "El valor 70 de la Serie de Fibonacci es:498454011879264\n",
      "El valor 71 de la Serie de Fibonacci es:806515533049393\n",
      "El valor 72 de la Serie de Fibonacci es:1304969544928657\n",
      "El valor 73 de la Serie de Fibonacci es:2111485077978050\n",
      "El valor 74 de la Serie de Fibonacci es:3416454622906707\n",
      "El valor 75 de la Serie de Fibonacci es:5527939700884757\n",
      "El valor 76 de la Serie de Fibonacci es:8944394323791464\n",
      "El valor 77 de la Serie de Fibonacci es:14472334024676221\n",
      "El valor 78 de la Serie de Fibonacci es:23416728348467685\n",
      "El valor 79 de la Serie de Fibonacci es:37889062373143906\n",
      "El valor 80 de la Serie de Fibonacci es:61305790721611591\n",
      "El valor 81 de la Serie de Fibonacci es:99194853094755497\n",
      "El valor 82 de la Serie de Fibonacci es:160500643816367088\n",
      "El valor 83 de la Serie de Fibonacci es:259695496911122585\n",
      "El valor 84 de la Serie de Fibonacci es:420196140727489673\n",
      "El valor 85 de la Serie de Fibonacci es:679891637638612258\n",
      "El valor 86 de la Serie de Fibonacci es:1100087778366101931\n",
      "El valor 87 de la Serie de Fibonacci es:1779979416004714189\n",
      "El valor 88 de la Serie de Fibonacci es:2880067194370816120\n",
      "El valor 89 de la Serie de Fibonacci es:4660046610375530309\n",
      "El valor 90 de la Serie de Fibonacci es:7540113804746346429\n",
      "El valor 91 de la Serie de Fibonacci es:12200160415121876738\n",
      "El valor 92 de la Serie de Fibonacci es:19740274219868223167\n",
      "El valor 93 de la Serie de Fibonacci es:31940434634990099905\n",
      "El valor 94 de la Serie de Fibonacci es:51680708854858323072\n",
      "El valor 95 de la Serie de Fibonacci es:83621143489848422977\n",
      "El valor 96 de la Serie de Fibonacci es:135301852344706746049\n",
      "El valor 97 de la Serie de Fibonacci es:218922995834555169026\n",
      "El valor 98 de la Serie de Fibonacci es:354224848179261915075\n",
      "El valor 99 de la Serie de Fibonacci es:573147844013817084101\n"
     ]
    }
   ],
   "source": [
    "a0 = 0\n",
    "a1 = 1\n",
    "n = 100\n",
    "for i in range(n):\n",
    "    an = a0+a1\n",
    "    a0 = a1\n",
    "    a1 = an\n",
    "    print(\"El valor {} de la Serie de Fibonacci es:{}\".format(i,an))"
   ]
  }
 ],
 "metadata": {
  "kernelspec": {
   "display_name": "Python 3",
   "language": "python",
   "name": "python3"
  },
  "language_info": {
   "codemirror_mode": {
    "name": "ipython",
    "version": 3
   },
   "file_extension": ".py",
   "mimetype": "text/x-python",
   "name": "python",
   "nbconvert_exporter": "python",
   "pygments_lexer": "ipython3",
   "version": "3.10.12"
  }
 },
 "nbformat": 4,
 "nbformat_minor": 4
}
