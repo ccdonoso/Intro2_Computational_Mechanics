{
 "cells": [
  {
   "cell_type": "markdown",
   "metadata": {},
   "source": [
    "# Clases y PyVista\n",
    "\n",
    "<img src=\"https://github.com/ccdonoso/Intro2_Computational_Mechanics/blob/master/img/logo_usach_dimec.png?raw=true\" alt=\"logo\" width=\"300\"/>\n",
    "\n",
    "- Autor: Claudio Canales Donoso\n",
    "- Página: [ccdonoso.github.io](https://ccdonoso.github.io/)\n",
    "- Cursos: Mecánica Computacional - Diseño Computarizado\n",
    "- Universidad de Santiago de Chile\n",
    "- Fecha: 05/03/24\n",
    "\n",
    "License: BSD 3 clause\n",
    "\n",
    "**Contenido** : OOP - Pyvista.\n",
    "- Configurando Pyvista\n",
    "- Introducción a la programación orientada a objetos.\n",
    "- Pyvista\n",
    "    - Nube de puntos\n",
    "    - Triangulación de nube de puntos\n",
    "    - Glyphs\n",
    "    - Esponja de Menger"
   ]
  },
  {
   "cell_type": "markdown",
   "metadata": {},
   "source": [
    "**Librerías**"
   ]
  },
  {
   "cell_type": "code",
   "execution_count": 3,
   "metadata": {},
   "outputs": [],
   "source": [
    "import numpy as np\n",
    "import matplotlib.pyplot as plt\n",
    "import pyvista as pv"
   ]
  },
  {
   "cell_type": "markdown",
   "metadata": {},
   "source": [
    "## Configuración de Pyvista en Jupyter notebook\n",
    "\n",
    "- Instalar **Pyvista** con el comando `pip install pyvista`\n",
    "    Librería de visualización en Python, basada en la libreria VTK. Es capaz de combinar la velocidad de C++ con la rápida creación de prototipos de Python. Sin embargo, a pesar de esto, el código VTK programado en Python suele tener el mismo aspecto que su homólogo en C++. Esta libreria pretende simplificar la creación de mallas y el trazado sin perder funcionalidad.\n",
    "\n",
    "- Instalar `pip install 'jupyterlab>=3' ipywidgets 'pyvista[all,trame]'`\n",
    "    Esta librería permite realizar la visualización con Pyvista de forma interactiva en Jupyter notebook.\n",
    "    \n",
    "    \n",
    "### Ejemplo 1\n",
    "Ejecutar el siguiente código. Si todo esta bien, deberian poder interactuar con la interfaz de Pyvista."
   ]
  },
  {
   "cell_type": "code",
   "execution_count": 37,
   "metadata": {},
   "outputs": [
    {
     "data": {
      "application/vnd.jupyter.widget-view+json": {
       "model_id": "70b704443cf942c3aee62051b6b9d880",
       "version_major": 2,
       "version_minor": 0
      },
      "text/plain": [
       "Widget(value='<iframe src=\"http://localhost:39611/index.html?ui=P_0x7f7e964b7c40_16&reconnect=auto\" class=\"pyv…"
      ]
     },
     "metadata": {},
     "output_type": "display_data"
    }
   ],
   "source": [
    "from pyvista import examples\n",
    "\n",
    "# Malla de \"nefertiti descargada\"\n",
    "mesh = pv.examples.download_nefertiti() \n",
    "\n",
    "# Una instancia para plotear off-screen.\n",
    "pl = pv.Plotter(off_screen=True)\n",
    "_ = pl.add_mesh(mesh)\n",
    "# Muestra la malla\n",
    "pl.show()\n",
    "#mesh.plot(color='gold', pbr=True, metallic=0.9, background=\"white\", interactive=False)\n",
    "pl.export_html(\"nefertiti\")"
   ]
  },
  {
   "cell_type": "code",
   "execution_count": 46,
   "metadata": {},
   "outputs": [
    {
     "data": {
      "application/vnd.jupyter.widget-view+json": {
       "model_id": "53ca38091f7c47cb93faf1e268b27869",
       "version_major": 2,
       "version_minor": 0
      },
      "text/plain": [
       "Widget(value='<iframe src=\"http://localhost:39611/index.html?ui=P_0x7f7ec4096650_27&reconnect=auto\" class=\"pyv…"
      ]
     },
     "metadata": {},
     "output_type": "display_data"
    }
   ],
   "source": [
    "from pyvista import examples\n",
    "\n",
    "# Malla de \"nefertiti descargada\"\n",
    "mesh = examples.download_aero_bracket()\n",
    "\n",
    "# Una instancia para plotear off-screen.\n",
    "pl = pv.Plotter(off_screen=True)\n",
    "_ = pl.add_mesh(mesh, smooth_shading=True,\n",
    "    split_sharp_edges=True,\n",
    "    scalars='von Mises stress',\n",
    "    cmap='bwr',\n",
    ")\n",
    "# Muestra la malla\n",
    "pl.show(cpos=cpos)\n",
    "#mesh.plot(color='gold', pbr=True, metallic=0.9, background=\"white\", interactive=False)\n",
    "pl.export_html(\"fem\")"
   ]
  },
  {
   "cell_type": "markdown",
   "metadata": {},
   "source": [
    "### Ejemplo 2"
   ]
  },
  {
   "cell_type": "code",
   "execution_count": 5,
   "metadata": {},
   "outputs": [
    {
     "data": {
      "application/vnd.jupyter.widget-view+json": {
       "model_id": "cbe267e330d84288be2c807026a21daf",
       "version_major": 2,
       "version_minor": 0
      },
      "text/plain": [
       "Widget(value='<iframe src=\"http://localhost:39611/index.html?ui=P_0x7f7ec99c68c0_1&reconnect=auto\" class=\"pyvi…"
      ]
     },
     "metadata": {},
     "output_type": "display_data"
    }
   ],
   "source": [
    "from pyvista import demos\n",
    "\n",
    "mesh = demos.glyphs(2)\n",
    "\n",
    "text = demos.logo.text_3d(\"Soy interactivo!\", depth=0.3)\n",
    "text.points *= 0.1\n",
    "text.translate([0, 1.4, 1.5])\n",
    "mesh += text\n",
    "mesh['Example Scalars'] = mesh.points[:, 0]\n",
    "\n",
    "mesh.plot(cpos='xy', show_scalar_bar=True,background=\"white\")"
   ]
  },
  {
   "cell_type": "markdown",
   "metadata": {},
   "source": [
    "## Introducción Clases Python\n",
    "\n",
    "La programación orientada a objetos (POO) se basa en el concepto de objetos, que a su vez suelen ser generados por clases. La filosofía de la POO se resume generalmente en cuatro conceptos básicos:\n",
    "\n",
    "- [abstracción](https://en.wikipedia.org/wiki/Abstraction_(computer_science)) - *mostrar sólo ciertas características al usuario*\n",
    "- [encapsulación](https://en.wikipedia.org/wiki/Encapsulation_(programación_informática)) - *agrupar ciertas características*\n",
    "- [herencia](https://en.wikipedia.org/wiki/Inheritance_(programación_orientada_a_objetos)) - *reutilizar y extender características*\n",
    "- [polimorfismo](https://en.wikipedia.org/wiki/Polymorphism_(computer_science)) - *permitir que los objetos adopten diversas formas*\n",
    "\n",
    "Algunas de las principales ventajas que ofrece la programación orientada a objetos, directamente relacionadas con estos conceptos básicos, son las siguientes\n",
    "\n",
    "* **reutilización** - *minimización de la cantidad de código copiado y pegado*\n",
    "* Mantenibilidad: minimizar la cantidad de código que hay que cambiar para corregir un error.\n",
    "* Seguridad: minimizar el uso indebido por parte de un usuario.\n",
    "\n",
    "En este tutorial veremos en superficialmente las clases de Python, que deberían proporcionarte todas las herramientas que necesitas para aprovechar las ventajas de la POO. \n",
    "\n",
    "### Estructura de una Clase\n",
    "\n",
    "**¿Qué es una clase de Python?**\n",
    "\n",
    "Una clase es un plano o prototipo definido por el usuario a partir del cual se crean objetos.\n",
    "\n",
    "**¿Por qué utilizamos las clases?**\n",
    "Las clases proporcionan un medio para agrupar datos y funcionalidad. Al crear una nueva clase se crea un nuevo tipo de objeto, lo que permite crear nuevas instancias de ese tipo. Cada instancia de clase puede tener atributos adjuntos para mantener su estado. Las instancias de clase también pueden tener métodos (definidos por su clase) para modificar su estado.\n",
    "\n",
    "Para entender la necesidad de crear una clase, consideremos un ejemplo. Supongamos que se quiere hacer un seguimiento del número de perros que pueden tener diferentes atributos como la raza y la edad. Si se utiliza una lista, el primer elemento podría ser la raza del perro mientras que el segundo elemento podría representar su edad. Supongamos que hay 100 perros diferentes, entonces ¿cómo se sabría qué elemento se supone que es cada uno? ¿Y si quisieras añadir otras propiedades a estos perros? Esto carece de organización y demuestra la necesidad de las clases.\n",
    "\n",
    "Una clase crea una estructura de datos definida por el usuario, que contiene sus propios miembros de datos y funciones miembro a los que se puede acceder y utilizar creando una instancia de esa clase. Una clase es como un plano de un objeto.\n",
    "\n",
    "**¿Cómo se crean las clases?**\n",
    "Aquí hay reglas simples para crear una clase en Python:\n",
    "\n",
    "Las clases se crean con la palabra clave `class`.\n",
    "Los **atributos** son las variables que pertenecen a la clase.\n",
    "Los atributos son siempre públicos y se puede acceder a ellos usando el operador punto (.). Ej: `Miclase.Miatributo`\n",
    "Los atributos pueden hacerse no visibles directamente añadiendo un prefijo de doble guión bajo a su nombre. Ej: `MiClase.__AtributoOculto`\n",
    "Esta es la sintaxis de una clase en Python:"
   ]
  },
  {
   "cell_type": "code",
   "execution_count": 7,
   "metadata": {},
   "outputs": [],
   "source": [
    "class ClassName:\n",
    "    # Statement-1\n",
    "    # Statement-N\n",
    "    pass"
   ]
  },
  {
   "cell_type": "code",
   "execution_count": 8,
   "metadata": {},
   "outputs": [],
   "source": [
    "class Perro:  \n",
    "\n",
    "    # variable de la clase  \n",
    "    animal = 'perro'      \n",
    "\n",
    "    # Método de inicialización o constructor  \n",
    "    def __init__(self, raza):  \n",
    "\n",
    "        # Variable de instancia \n",
    "        self.raza= raza             \n",
    "\n",
    "    # Añade una variable a la instancia\n",
    "    def setColor(self, color):  \n",
    "        self.color = color  \n",
    "\n",
    "    # recupera el valor de la variable de la instancia   \n",
    "    def getColor(self):      \n",
    "        return self.color     "
   ]
  },
  {
   "cell_type": "code",
   "execution_count": 9,
   "metadata": {},
   "outputs": [
    {
     "name": "stdout",
     "output_type": "stream",
     "text": [
      "plateado\n"
     ]
    }
   ],
   "source": [
    "# Driver Code  \n",
    "thor = Perro(\"Pug\")  \n",
    "thor.setColor(\"plateado\")  \n",
    "print(thor.getColor())"
   ]
  },
  {
   "cell_type": "markdown",
   "metadata": {},
   "source": [
    "El método `init` es un constructor. Los constructores se utilizan para inicializar el estado del objeto. Al igual que los métodos, un constructor también contiene una colección de declaraciones (es decir, instrucciones) que se ejecutan en el momento de la creación del objeto. Se ejecuta tan pronto como se instancie un objeto de una clase. El método es útil para realizar cualquier inicialización que se quiera hacer con el objeto.\n",
    "\n",
    "A menudo, el primer argumento de un método se llama `self`. Esto no es más que una convención: el nombre self no tiene ningún significado especial para Python. El self representa la instancia de la clase. Usando la palabra clave `self` podemos acceder a los atributos y métodos de la clase en python.\n",
    "\n",
    "No damos un valor para este parámetro cuando llamamos al método, Python lo proporciona. Si tenemos un método que no toma argumentos, entonces todavía tenemos que tener un argumento. Cuando llamamos a un método de este objeto como `miobjeto.método(arg1, arg2)`, esto es automáticamente convertido por Python en `MiClase.método(miobjeto, arg1, arg2)`. \n",
    "\n",
    "\n",
    "**¿Qué es un objeto de Python?**\n",
    "Un objeto es una instancia de una clase.\n",
    "\n",
    "**¿Por qué usamos un objeto?**\n",
    "Una clase es como un plano mientras que una instancia es una copia de la clase con valores reales. Ya no es una idea, es un perro real, como un perro que tiene la raza de pug y tiene siete años. Puedes tener muchos perros para crear muchas instancias diferentes, pero sin la clase como guía, estarías perdido, sin saber qué información se requiere.\n",
    "\n",
    "Un objeto se compone de :\n",
    "\n",
    "- Estado : Está representado por los atributos de un objeto. También refleja las propiedades de un objeto.\n",
    "- Comportamiento : Está representado por los métodos de un objeto. También refleja la respuesta de un objeto con otros objetos.\n",
    "- Identidad : Da un nombre único a un objeto y permite que un objeto interactúe con otros objetos\n",
    "\n",
    "¿Cómo creamos objetos (también llamado instanciar una clase)?\n",
    "Cuando se crea un objeto de una clase, se dice que la clase está instanciada. Todas las instancias comparten los atributos y el comportamiento de la clase. Pero los valores de esos atributos, es decir, los estados, son únicos para cada objeto. Una misma clase puede tener cualquier número de instancias.\n",
    "\n",
    "Las variables de instancia son para los datos que son únicos para cada instancia. Las variables de clase son para atributos y métodos compartidos por todas las instancias de la clase. Las variables de instancia son variables cuyo valor se asigna dentro de un constructor o método con self mientras que las variables de clase son variables cuyo valor se asigna en la clase.\n",
    "\n",
    "<img src=\"img/clases.svg\" alt=\"logo\" width=\"600\"/>\n"
   ]
  },
  {
   "cell_type": "markdown",
   "metadata": {},
   "source": [
    "\n",
    "### Ejemplo de una Clase\n",
    "\n",
    "En este ejemplo, se creara una clase de un planeta. La idea principal es crear una estructura de datos que contenga los atributos de \n",
    "\n",
    "- nombre\n",
    "- masa\n",
    "- radio\n",
    "- gravedad\n",
    "\n",
    "También es necesario definir un mètodo que muestre por pantalla todas las propiedades del planeta.\n"
   ]
  },
  {
   "cell_type": "code",
   "execution_count": null,
   "metadata": {},
   "outputs": [],
   "source": [
    "# Define a planet class\n",
    "class Planet:\n",
    "    \n",
    "    # class variable\n",
    "    object_type = 'planet'\n",
    "    \n",
    "    # class initialiser\n",
    "    def __init__(self, name, radius, mass, gravity):\n",
    "        \n",
    "        # instance variables\n",
    "        self.name = name\n",
    "        self.radius = radius\n",
    "        self.mass = mass\n",
    "        self.gravity = gravity\n",
    "       \n",
    "    # class instance method\n",
    "    def show(self):\n",
    "        \n",
    "        # Print the object properties\n",
    "        print(self.object_type, self.name)\n",
    "        print(' - Radius: {}km'.format(self.radius))\n",
    "        print(' - Mass: {}kg'.format(self.mass))\n",
    "        print(' - Gravity: {}m/s'.format(self.gravity))\n",
    "        print()"
   ]
  },
  {
   "cell_type": "code",
   "execution_count": null,
   "metadata": {},
   "outputs": [],
   "source": [
    "# create class instances\n",
    "earth = Planet('Earth', 6371, 5.97e24, 9.8)\n",
    "earth.show()\n",
    "\n",
    "jupiter = Planet('Jupiter', 69911, 1.89e27, 24.79)\n",
    "jupiter.show()\n",
    "\n",
    "saturn = Planet('Saturn', 58232, 5.68e26, 10.45)\n",
    "saturn.show()"
   ]
  },
  {
   "cell_type": "markdown",
   "metadata": {},
   "source": [
    "### Para mayor información acerca de como funcionan las clases en Python, les recomiendo visitar:\n",
    "\n",
    "- [Tutorial oficial de Python y Clases](https://docs.python.org/3.7/tutorial/classes.html)\n",
    "- [Jupyter Notebooks con un tutorial completo y avanzado de Clases](https://github.com/Euclid-Python/Python-and-OOP)\n",
    "\n",
    "Referencias:\n",
    "\n",
    "Copyright (c) 2020 HDVI\n",
    "\n",
    "Copyright (c) 2019 Euclid-Python"
   ]
  },
  {
   "cell_type": "markdown",
   "metadata": {
    "scrolled": true
   },
   "source": [
    "## Nube de puntos\n",
    "\n",
    "Crear un objeto `:class:pyvista.PolyData`  partir de una nube de puntos de vértices y matrices escalares para esos puntos"
   ]
  },
  {
   "cell_type": "code",
   "execution_count": 10,
   "metadata": {},
   "outputs": [
    {
     "data": {
      "text/plain": [
       "pyvista_ndarray([[ 0.      , -0.2048  , -0.090616],\n",
       "                 [ 0.      , -0.2016  , -0.091464],\n",
       "                 [ 0.      , -0.1984  , -0.09232 ],\n",
       "                 [ 0.      , -0.1952  , -0.093296],\n",
       "                 [ 0.      , -0.192   , -0.094312]], dtype=float32)"
      ]
     },
     "execution_count": 10,
     "metadata": {},
     "output_type": "execute_result"
    }
   ],
   "source": [
    "points = examples.download_face().points\n",
    "# Se imprimiran los primeros cinco puntos de la malla de la matriz (n_points x 3)\n",
    "# Las columnas son (X Y Z)\n",
    "points[0:5, :]"
   ]
  },
  {
   "cell_type": "code",
   "execution_count": 11,
   "metadata": {
    "scrolled": true
   },
   "outputs": [
    {
     "data": {
      "text/html": [
       "\n",
       "<table style='width: 100%;'>\n",
       "<tr><th>PolyData</th><th>Information</th></tr>\n",
       "<tr><td>N Cells</td><td>2205</td></tr>\n",
       "<tr><td>N Points</td><td>2205</td></tr>\n",
       "<tr><td>N Strips</td><td>0</td></tr>\n",
       "<tr><td>X Bounds</td><td>0.000e+00, 1.056e-01</td></tr>\n",
       "<tr><td>Y Bounds</td><td>-2.048e-01, -5.120e-02</td></tr>\n",
       "<tr><td>Z Bounds</td><td>-1.190e-01, 4.112e-03</td></tr>\n",
       "<tr><td>N Arrays</td><td>0</td></tr>\n",
       "</table>\n",
       "\n"
      ],
      "text/plain": [
       "PolyData (0x7f7ebdee0a60)\n",
       "  N Cells:    2205\n",
       "  N Points:   2205\n",
       "  N Strips:   0\n",
       "  X Bounds:   0.000e+00, 1.056e-01\n",
       "  Y Bounds:   -2.048e-01, -5.120e-02\n",
       "  Z Bounds:   -1.190e-01, 4.112e-03\n",
       "  N Arrays:   0"
      ]
     },
     "execution_count": 11,
     "metadata": {},
     "output_type": "execute_result"
    }
   ],
   "source": [
    "point_cloud = pv.PolyData(points)  # ¿ Qué hace esta linea ?\n",
    "point_cloud"
   ]
  },
  {
   "cell_type": "markdown",
   "metadata": {},
   "source": [
    "np.allclose(points, point_cloud.points)"
   ]
  },
  {
   "cell_type": "code",
   "execution_count": 12,
   "metadata": {},
   "outputs": [
    {
     "data": {
      "application/vnd.jupyter.widget-view+json": {
       "model_id": "e7247e3ce15d4e34ac0593faf95f46d9",
       "version_major": 2,
       "version_minor": 0
      },
      "text/plain": [
       "Widget(value='<iframe src=\"http://localhost:39611/index.html?ui=P_0x7f7ec41f8b20_2&reconnect=auto\" class=\"pyvi…"
      ]
     },
     "metadata": {},
     "output_type": "display_data"
    }
   ],
   "source": [
    "point_cloud.plot(color='black',background=\"white\")"
   ]
  },
  {
   "cell_type": "code",
   "execution_count": 13,
   "metadata": {},
   "outputs": [],
   "source": [
    "# Make data array using z-component of points array\n",
    "data = points[:,0]\n",
    "\n",
    "# Add that data to the mesh with the name \"uniform dist\"\n",
    "point_cloud[\"profundidad\"] = data"
   ]
  },
  {
   "cell_type": "code",
   "execution_count": 14,
   "metadata": {},
   "outputs": [
    {
     "data": {
      "application/vnd.jupyter.widget-view+json": {
       "model_id": "e5572686948e4897bf87ba3a4d3b9d19",
       "version_major": 2,
       "version_minor": 0
      },
      "text/plain": [
       "Widget(value='<iframe src=\"http://localhost:39611/index.html?ui=P_0x7f7ebddc9b70_3&reconnect=auto\" class=\"pyvi…"
      ]
     },
     "metadata": {},
     "output_type": "display_data"
    }
   ],
   "source": [
    "point_cloud.plot(render_points_as_spheres=True,background=\"black\")"
   ]
  },
  {
   "cell_type": "code",
   "execution_count": 15,
   "metadata": {},
   "outputs": [
    {
     "data": {
      "application/vnd.jupyter.widget-view+json": {
       "model_id": "430d8378e3f14eca9e6b3421224d38d0",
       "version_major": 2,
       "version_minor": 0
      },
      "text/plain": [
       "Widget(value='<iframe src=\"http://localhost:39611/index.html?ui=P_0x7f7ebddcad10_4&reconnect=auto\" class=\"pyvi…"
      ]
     },
     "metadata": {},
     "output_type": "display_data"
    }
   ],
   "source": [
    "# Siguiente paso es mallar la nube de puntos\n",
    "\n",
    "surf = point_cloud.delaunay_2d()\n",
    "    \n",
    "surf.plot(show_edges=True)"
   ]
  },
  {
   "cell_type": "code",
   "execution_count": 16,
   "metadata": {},
   "outputs": [
    {
     "data": {
      "text/html": [
       "<table style='width: 100%;'><tr><th>Header</th><th>Data Arrays</th></tr><tr><td>\n",
       "<table style='width: 100%;'>\n",
       "<tr><th>PolyData</th><th>Information</th></tr>\n",
       "<tr><td>N Cells</td><td>4246</td></tr>\n",
       "<tr><td>N Points</td><td>2205</td></tr>\n",
       "<tr><td>N Strips</td><td>0</td></tr>\n",
       "<tr><td>X Bounds</td><td>0.000e+00, 1.056e-01</td></tr>\n",
       "<tr><td>Y Bounds</td><td>-2.048e-01, -5.120e-02</td></tr>\n",
       "<tr><td>Z Bounds</td><td>-1.190e-01, 4.112e-03</td></tr>\n",
       "<tr><td>N Arrays</td><td>1</td></tr>\n",
       "</table>\n",
       "\n",
       "</td><td>\n",
       "<table style='width: 100%;'>\n",
       "<tr><th>Name</th><th>Field</th><th>Type</th><th>N Comp</th><th>Min</th><th>Max</th></tr>\n",
       "<tr><td><b>profundidad</b></td><td>Points</td><td>float32</td><td>1</td><td>0.000e+00</td><td>1.056e-01</td></tr>\n",
       "</table>\n",
       "\n",
       "</td></tr> </table>"
      ],
      "text/plain": [
       "PolyData (0x7f7ec69a5180)\n",
       "  N Cells:    4246\n",
       "  N Points:   2205\n",
       "  N Strips:   0\n",
       "  X Bounds:   0.000e+00, 1.056e-01\n",
       "  Y Bounds:   -2.048e-01, -5.120e-02\n",
       "  Z Bounds:   -1.190e-01, 4.112e-03\n",
       "  N Arrays:   1"
      ]
     },
     "execution_count": 16,
     "metadata": {},
     "output_type": "execute_result"
    }
   ],
   "source": [
    "surf"
   ]
  },
  {
   "cell_type": "code",
   "execution_count": 17,
   "metadata": {},
   "outputs": [
    {
     "name": "stdout",
     "output_type": "stream",
     "text": [
      "<class 'pyvista.core.pointset.PolyData'>\n"
     ]
    }
   ],
   "source": [
    "print(type(surf))"
   ]
  },
  {
   "cell_type": "code",
   "execution_count": 29,
   "metadata": {},
   "outputs": [],
   "source": [
    "#help(pv.PolyData)"
   ]
  },
  {
   "cell_type": "markdown",
   "metadata": {},
   "source": [
    "### Como acceder a la información del objeto surf\n",
    "\n",
    "Primero accederemos a los puntos o nodos de la malla. Para ello, tenemos que acceder a `obj_polydata.points`. Estamos accediento al atributo points de la malla y esto nos devolvera un vector 1D de numpy, de dimensión (npuntos * 3). Cambiaremos la forma de este vector, para que represente una matriz de $N_{puntos} \\times 3$. Para ello, utilizaremos el método `np.reshape`"
   ]
  },
  {
   "cell_type": "code",
   "execution_count": null,
   "metadata": {},
   "outputs": [],
   "source": [
    "surf.points.reshape(-1,3)"
   ]
  },
  {
   "cell_type": "markdown",
   "metadata": {},
   "source": [
    "Como pueden ver, cada fila representa un nodo en formato $(X,Y,Z)$. Sin embargo, ahora nuestra malla esta compuesta por unidades geométricas basicas. En este caso, esta definida por triangulos que conectan los nodos o puntos de **surf**. El índice de los nodos esta ordenado según el índice de la fila de la matriz. En este caso, el nodo 0, es la primera fila.\n",
    "\n",
    "Por lo tanto, para generar los triangulos, solo es necesario decir el tipo de elemento (asociado al número 3) y especificar los nodos. Ejemplo de un elemento triangulo $[3,110,12,87]$. Notar que el arreglo es de tipo entero, el primer entero es el número de nodos, y los otros indican los nodos conectados."
   ]
  },
  {
   "cell_type": "code",
   "execution_count": null,
   "metadata": {},
   "outputs": [],
   "source": [
    "print(surf.faces)\n",
    "print(surf.faces.shape)\n",
    "surf.faces.reshape(-1,4)"
   ]
  },
  {
   "cell_type": "markdown",
   "metadata": {},
   "source": [
    "## Desafío: Esponja de Menger\n",
    "\n",
    "En este problema, tendran que utilizar PyVista, para obtener el fractal de Menger, el cual se presenta ilustrado en la siguiente imagén.\n",
    "\n",
    "<img src=\"img/menger4.jpg\" alt=\"logo\" width=\"600\"/>\n"
   ]
  },
  {
   "cell_type": "code",
   "execution_count": 19,
   "metadata": {},
   "outputs": [],
   "source": [
    "class Cubo:\n",
    "    def __init__(self,x,y,z,r):\n",
    "        self.pos = np.array([x,y,z])\n",
    "        self.r = r\n",
    "        \n",
    "    def generate(self):\n",
    "        x,y,z = self.pos\n",
    "        r = self.r\n",
    "        cubos = []\n",
    "        for i in range(-1,2):\n",
    "            for j in range(-1,2):\n",
    "                for k in range(-1,2):\n",
    "                    suma = np.abs(i) + np.abs(j) + np.abs(k)\n",
    "                    n_r = r/3.\n",
    "                    if suma > 1:\n",
    "                        b = Cubo(x+i*n_r, y+ j*n_r, z + k*n_r, n_r)\n",
    "                        cubos.append(b)\n",
    "        return cubos\n",
    "    \n",
    "    "
   ]
  },
  {
   "cell_type": "code",
   "execution_count": 20,
   "metadata": {},
   "outputs": [],
   "source": [
    "def merge_sponge_mesh(n):\n",
    "    cubes = [Cubo(0,0,0,1)] \n",
    "    sponge = []\n",
    "    for i in range (n):\n",
    "        sponge = []\n",
    "        for c in cubes:\n",
    "            sponge.extend(c.generate())\n",
    "        cubes = sponge\n",
    "    \n",
    "    points = []\n",
    "    r = sponge[0].r\n",
    "    for cube in sponge:\n",
    "        x,y,z = cube.pos\n",
    "        points.append([x,y,z])\n",
    "        \n",
    "    return (np.array(points),r)"
   ]
  },
  {
   "cell_type": "code",
   "execution_count": 23,
   "metadata": {},
   "outputs": [
    {
     "name": "stdout",
     "output_type": "stream",
     "text": [
      "[[-0.48148148 -0.48148148 -0.48148148]\n",
      " [-0.48148148 -0.48148148 -0.44444444]\n",
      " [-0.48148148 -0.48148148 -0.40740741]\n",
      " ...\n",
      " [ 0.48148148  0.48148148  0.40740741]\n",
      " [ 0.48148148  0.48148148  0.44444444]\n",
      " [ 0.48148148  0.48148148  0.48148148]] 0.037037037037037035\n"
     ]
    }
   ],
   "source": [
    "data , r = merge_sponge_mesh(3)\n",
    "print(data,r)"
   ]
  },
  {
   "cell_type": "code",
   "execution_count": 27,
   "metadata": {
    "scrolled": false
   },
   "outputs": [
    {
     "name": "stderr",
     "output_type": "stream",
     "text": [
      "/home/ccdonosoo/.local/lib/python3.10/site-packages/pyvista/core/filters/data_set.py:2293: UserWarning: No data to use for scale. scale will be set to False.\n",
      "  warnings.warn(\"No data to use for scale. scale will be set to False.\")\n",
      "/home/ccdonosoo/.local/lib/python3.10/site-packages/pyvista/core/filters/data_set.py:2320: UserWarning: No vector-like data to use for orient. orient will be set to False.\n",
      "  warnings.warn(\"No vector-like data to use for orient. orient will be set to False.\")\n"
     ]
    },
    {
     "data": {
      "application/vnd.jupyter.widget-view+json": {
       "model_id": "9749d638f00a4cc594ba3a54c2e68941",
       "version_major": 2,
       "version_minor": 0
      },
      "text/plain": [
       "Widget(value='<iframe src=\"http://localhost:39611/index.html?ui=P_0x7f7e9643baf0_9&reconnect=auto\" class=\"pyvi…"
      ]
     },
     "metadata": {},
     "output_type": "display_data"
    }
   ],
   "source": [
    "sponge_data = pv.PolyData(data)  # ¿ Qué hace esta linea ?\n",
    "geom = pv.Cube(x_length=r, y_length=r, z_length=r)\n",
    "glyphs = sponge_data.glyph(geom=geom)\n",
    "pl = pv.Plotter(lighting=\"three lights\")\n",
    "pl.add_mesh(glyphs, color='gold', metallic=0.9)\n",
    "pl.background_color = 'black'\n",
    "pl.show()"
   ]
  },
  {
   "cell_type": "code",
   "execution_count": 28,
   "metadata": {},
   "outputs": [],
   "source": [
    "#help(pv.Plotter())"
   ]
  }
 ],
 "metadata": {
  "kernelspec": {
   "display_name": "Python 3",
   "language": "python",
   "name": "python3"
  },
  "language_info": {
   "codemirror_mode": {
    "name": "ipython",
    "version": 3
   },
   "file_extension": ".py",
   "mimetype": "text/x-python",
   "name": "python",
   "nbconvert_exporter": "python",
   "pygments_lexer": "ipython3",
   "version": "3.10.12"
  }
 },
 "nbformat": 4,
 "nbformat_minor": 4
}
