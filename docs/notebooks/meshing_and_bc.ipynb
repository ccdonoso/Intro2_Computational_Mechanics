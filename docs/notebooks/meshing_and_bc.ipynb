{
 "cells": [
  {
   "cell_type": "markdown",
   "metadata": {},
   "source": [
    "# Meshes and boundary conditions\n",
    "\n",
    "When solving PDEs for engineering problems, the most time-consuming step is often to generate the meshes and specify the boundary conditions. In this Notebook, we will cover how to generate simpler meshes within FEniCS, import meshes from external software, and specify boundary conditions."
   ]
  },
  {
   "cell_type": "markdown",
   "metadata": {
    "collapsed": true
   },
   "source": [
    "## Mesh Generation\n",
    "\n",
    "### Generate meshes using built-in meshing tools\n",
    "\n",
    "FEniCS has a `mshr` module. It is not a core component of the `fenics` distribution, so extra care is needed to install it; refer to [these installation guide for detail](https://github.com/numgeom/notes/wiki/Installing-FEniCS)."
   ]
  },
  {
   "cell_type": "markdown",
   "metadata": {},
   "source": [
    "### Import meshes from external software\n",
    "\n"
   ]
  },
  {
   "cell_type": "markdown",
   "metadata": {},
   "source": [
    "#### File conversion using `meshio`\n",
    "If you use other software to generate meshes, such as [Gmsh](http://gmsh.info/), [TetGen](http://wias-berlin.de/software/tetgen/), etc., you can convert their file formats into the FEniCS XML format using the package `meshio`. Before you start, make sure you have [installed `meshio` in addition to fenics](https://github.com/numgeom/notes/wiki/Installation-Guides-for-Jupyter-Notebooks#step-2-install-fenics-using-conda).\n",
    "\n",
    "The `meshio` package supports a few file formats, including:\n",
    " - .e: [Exodus](https://cubit.sandia.gov/public/13.2/help_manual/WebHelp/finite_element_model/exodus/exodus2_file_specification.htm) format; supported by CUBIT\n",
    " - .h5m: [H5M](http://www.mcs.anl.gov/~fathom/moab-docs/h5mmain.html) format; native for MOAB\n",
    " - .mesh: [Medit](https://people.sc.fsu.edu/~jburkardt/examples/medit/medit.html) format; supported by TegGen\n",
    " - .msh: [Gmsh](http://gmsh.info/) file format\n",
    " - .off: [OFF](http://www.geomview.org/docs/html/OFF.html) format; supported by TetGen\n",
    " - .vtk and .vtu: legacy and XML-based [VTK](http://www.vtk.org/) formats; supported by most visualization software\n",
    " - .xml: the native XML format for FEniCS\n",
    " - .xdmf: HDF5-based [XDMF](http://www.xdmf.org/index.php/XDMF_Model_and_Format) format; supported by FEniCS for I/O (if built with HDF5) and by ParaView and VisIt for visualization.\n",
    " \n",
    "To convert the mesh, use command\n",
    "```\n",
    "#bash\n",
    "meshio-convert infile outfile\n",
    "```\n",
    "The file format are determined from the suffix of the file names. You can also use additional arguments to specify the file formats. For additional information, run command \n",
    "```\n",
    "#bash\n",
    "meshio-convert --help\n",
    "```"
   ]
  },
  {
   "cell_type": "markdown",
   "metadata": {},
   "source": [
    "#### Reading a mesh using `meshio`\n",
    "\n",
    "It is also possible to use `meshio` to load a file into Python using the following statements:\n",
    "\n",
    "```\n",
    "#python\n",
    "import meshio\n",
    "points, cells, point_data, cell_data, field_data = meshio.read(infile)\n",
    "\n",
    "```\n",
    "To write a file, using the statement:\n",
    "```\n",
    "meshio.write(\n",
    "    args.outfile,\n",
    "    points,\n",
    "    cells,\n",
    "    point_data=point_data,\n",
    "    cell_data=cell_data,\n",
    "    field_data=field_data\n",
    "    )\n",
    "```"
   ]
  },
  {
   "cell_type": "code",
   "execution_count": null,
   "metadata": {
    "collapsed": true
   },
   "outputs": [],
   "source": []
  }
 ],
 "metadata": {
  "kernelspec": {
   "display_name": "Python 3",
   "language": "python",
   "name": "python3"
  },
  "language_info": {
   "codemirror_mode": {
    "name": "ipython",
    "version": 3
   },
   "file_extension": ".py",
   "mimetype": "text/x-python",
   "name": "python",
   "nbconvert_exporter": "python",
   "pygments_lexer": "ipython3",
   "version": "3.8.2"
  },
  "latex_envs": {
   "LaTeX_envs_menu_present": true,
   "autocomplete": true,
   "bibliofile": "biblio.bib",
   "cite_by": "apalike",
   "current_citInitial": 1,
   "eqLabelWithNumbers": true,
   "eqNumInitial": 1,
   "hotkeys": {
    "equation": "Ctrl-E",
    "itemize": "Ctrl-I"
   },
   "labels_anchors": false,
   "latex_user_defs": false,
   "report_style_numbering": false,
   "user_envs_cfg": false
  }
 },
 "nbformat": 4,
 "nbformat_minor": 2
}
