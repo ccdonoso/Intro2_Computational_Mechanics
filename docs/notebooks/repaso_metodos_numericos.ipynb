{
 "cells": [
  {
   "cell_type": "markdown",
   "metadata": {},
   "source": [
    "# Repaso - Métodos Numéricos (1/2)\n",
    "\n",
    "<img src=\"https://github.com/ccdonoso/Intro2_Computational_Mechanics/blob/master/img/logo_usach_dimec.png?raw=true\" alt=\"logo\" width=\"300\"/>\n",
    "\n",
    "- Autor: Claudio Canales Donoso\n",
    "- Página: [ccdonoso.github.io](https://ccdonoso.github.io/)\n",
    "- Cursos: Mecánica Computacional - Diseño Computarizado\n",
    "- Universidad de Santiago de Chile\n",
    "- Fecha: 05/03/24\n",
    "\n",
    "License: BSD 3 clause\n",
    "\n",
    "**Contenido** : Repaso de Métodos Numéricos.\n",
    "- Raíces de una función\n",
    "- Metódo de la bisección\n",
    "- Newton Raphson\n",
    "- Integración numérica (Trapecio y Simpson)\n",
    "- Gauss Jordan \n",
    "- Preliminares de derivación numérica\n",
    "- Problemas aplicados\n"
   ]
  },
  {
   "cell_type": "markdown",
   "metadata": {},
   "source": [
    "## Teorema del valor intermedio y raíces de una función"
   ]
  },
  {
   "cell_type": "markdown",
   "metadata": {},
   "source": [
    "Teorema del valor intermedio: Si $f$ es una función continua para todo $x$ en el intervalo cerrado $[a,b]$ y $d$ está entre $f(a)$ y $f(b)$, entonces hay un número $c$ en $(a,b)$ tal que $f(c)=d$\n",
    "\n",
    "Si eres más bien una persona visual, debes imaginar una función continua, en la que conoces el valor de la función en dos puntos, $x=a$ y $x=b$, pero no sabes realmente qué hace la función entre los puntos $x=a$ y $x=b$:\n",
    "\n",
    "El **teorema del valor intermedio** dice que, a pesar de que no se sabe realmente qué hace la función entre los puntos extremos, existe un punto $x=c$ que da un valor intermedio para $f$."
   ]
  },
  {
   "cell_type": "code",
   "execution_count": 24,
   "metadata": {},
   "outputs": [
    {
     "data": {
      "text/plain": [
       "<matplotlib.legend.Legend at 0x7f38a73fa8f0>"
      ]
     },
     "execution_count": 24,
     "metadata": {},
     "output_type": "execute_result"
    },
    {
     "data": {
      "image/png": "[encoded data removed]",
      "text/plain": [
       "<Figure size 432x288 with 1 Axes>"
      ]
     },
     "metadata": {
      "needs_background": "light"
     },
     "output_type": "display_data"
    }
   ],
   "source": [
    "import matplotlib.pyplot as plt\n",
    "import numpy as np\n",
    "x = np.linspace(0.,np.pi*5.,10)\n",
    "y = np.cos(x)\n",
    "plt.grid()\n",
    "plt.plot(x,y,'x')\n",
    "plt.plot(x,0*y,'r-')\n",
    "plt.legend(['Cos','Raíz'])"
   ]
  },
  {
   "cell_type": "markdown",
   "metadata": {},
   "source": [
    "\n",
    "\n",
    "**Este teorema sirve para determinar numéricamente los intervalos en los que existen raíces**. Para ello se utiliza el siguiente criterio para determinar si es que existe una raíz entre $[a,b]$:\n",
    "\n",
    "- Es necesario asegurar la continuidad de la función $f$ en el intervalo $[a,b]$.\n",
    "- Si $f(a) \\cdot f(b)<0$ implica que $f(a)$ ó $f(b)$ presentan signo opuesto y por el teorema del valor intermedio se demuestra que existe **por lo menos un valor** que cumple con la condición de ser raíz $f(c)=0$.\n",
    "\n",
    "**Teorema (Bolzano)**: Si una función $f(x)$ es continua en un intervalo $[a, b]$ y $f(a) \\cdot f(b) < 0$, entonces existe un valor $c \\in (a, b)$ para el que $f(c) = 0$.\n",
    "\n",
    "**Este principio se ilustra a continuación (Fuente:Wikipedia)**\n",
    "\n",
    "<img src=\"img/1200px-Illustration_for_the_intermediate_value_theorem.svg.png\" alt=\"IVT\" width=\"600\"/>"
   ]
  },
  {
   "cell_type": "markdown",
   "metadata": {},
   "source": [
    "### Las raíces sirven para resolver problemas no-lineales \n",
    "\n",
    "Cualquier función $f(x)=g(x)$ puede ser escrita como\n",
    "\n",
    "$$F(x) = 0$$\n",
    "\n",
    "\n",
    "$$ $$\n",
    "\n",
    "Por lo tanto, a continuación se definirá una función que encuentra los intervalos de una función en el que existe una raíz."
   ]
  },
  {
   "cell_type": "code",
   "execution_count": 2,
   "metadata": {},
   "outputs": [],
   "source": [
    "# Definir una función para encontrar las raíces\n",
    "\n",
    "def seno(x):            #np.sin\n",
    "    return np.sin(x)\n",
    "\n",
    "#Tambien es posible \n",
    "\n",
    "seno_lambda  = lambda x: np.sin(x)\n",
    "\n"
   ]
  },
  {
   "cell_type": "code",
   "execution_count": 3,
   "metadata": {},
   "outputs": [],
   "source": [
    "def root_finder(funcion, a, b, n):\n",
    "    \"\"\"Esta función encuentra los intervalos en el que existen raíces\n",
    "\n",
    "    Parámetros\n",
    "    ----------\n",
    "    funcion : function\n",
    "        Function.\n",
    "    a : float\n",
    "        Punto inicial del intervalo.\n",
    "    b : float\n",
    "        Punto final del intervalo.\n",
    "    n : int\n",
    "        Numero de divisiones del intervalo\n",
    "\n",
    "    Retorna\n",
    "    -------\n",
    "    intervalos : ndarray (Observar que al inicio es una lista y despues se transforma)\n",
    "        Matriz que contiene los intervalos - Cada fila es una raíz diferente y las dos columnas son el intervalo\n",
    "    \"\"\"\n",
    "    x = np.linspace(a,b,n)\n",
    "    \n",
    "    intervalos = []\n",
    "    \n",
    "    for i in range(len(x)-1):\n",
    "        if funcion(x[i])*funcion(x[i+1]) < 0:\n",
    "            intervalos.append([x[i],x[i+1]])\n",
    "    \n",
    "    return np.array(intervalos)"
   ]
  },
  {
   "cell_type": "markdown",
   "metadata": {},
   "source": [
    "Grafiqué la función en un intervalo entre $[0,10 \\pi]$ y los intervalos obtenidos con la función ```root_finder```"
   ]
  },
  {
   "cell_type": "code",
   "execution_count": 4,
   "metadata": {},
   "outputs": [
    {
     "name": "stdout",
     "output_type": "stream",
     "text": [
      "[[ 2.48020473  3.30693964]\n",
      " [ 5.78714436  6.61387927]\n",
      " [ 9.094084    9.92081891]\n",
      " [12.40102363 13.22775854]]\n"
     ]
    },
    {
     "data": {
      "image/png": "[encoded data removed]",
      "text/plain": [
       "<Figure size 432x288 with 1 Axes>"
      ]
     },
     "metadata": {
      "needs_background": "light"
     },
     "output_type": "display_data"
    }
   ],
   "source": [
    "x = np.linspace(0.,2*np.pi,50)\n",
    "y = np.sin(x)\n",
    "\n",
    "plt.plot(x,y,'-')\n",
    "\n",
    "roots = root_finder(seno, 0, 5*np.pi, 20)\n",
    "\n",
    "#plt.plot(roots,roots*0.,'rx')\n",
    "\n",
    "print(roots)"
   ]
  },
  {
   "cell_type": "markdown",
   "metadata": {},
   "source": [
    "## Método de la bisección\n",
    "\n",
    "Para una función f(x) dada, el algoritmo del método de bisección funciona como sigue $[1]$:\n",
    "\n",
    "1. Se eligen dos valores a y b para los que $f(a) \\cdot f(b) < 0$\n",
    "2. Se divide el intervalo por la mitad, un punto medio c se calcula como la media aritmética entre $a$ y $b$, $c = (a + b) / 2$\n",
    "3. La función $f(c)$ es evaluada\n",
    "4. Si $f(c) = 0$ solucionamos el problema\n",
    "5. Si $f(c) \\neq 0$ tenemos que seguir iterando $c$\n",
    "    1. Si $f(c)$ tiene el mismo signo que $f(a)$ sustituimos $a$ por $c$ y mantenemos el mismo valor para $b$\n",
    "    2. Si $f(c)$ tiene el mismo signo que $f(b)$ sustituimos $b$ por $c$ y mantenemos el mismo valor para $a$\n",
    "6. Volvemos al paso 2. y recalculamos $c$ con el nuevo valor de $a$ ó $b$\n",
    "\n",
    "La siguiente imagen ilustra el método (Fuente: Wikipedia):\n",
    "\n",
    "<img src=\"img/bisection.png\" alt=\"IVT\" width=\"300\"/>"
   ]
  },
  {
   "cell_type": "code",
   "execution_count": 5,
   "metadata": {},
   "outputs": [],
   "source": [
    "def biseccion(funcion, a, b, niter=50, ftol=1e-12): #key argument\n",
    "    \"\"\"Usa el método de la bisección para encontrar la raíz en el intervalo [a,b]\n",
    "\n",
    "    Parámetros\n",
    "    ----------\n",
    "    fun : function\n",
    "        Esta es la función que queremos solucionar.\n",
    "    a : float\n",
    "        Punto inicial del intervalo.\n",
    "    b : float\n",
    "        Punto final del intervalo.\n",
    "    niter : int, opcional\n",
    "        Número máximo de iteraciones.\n",
    "    ftol : float, opcional\n",
    "        Tolerancia -> Define el cero numérico.\n",
    "\n",
    "    Retorna\n",
    "    -------\n",
    "    x : float \n",
    "        Raíz aproximada.\n",
    "    \"\"\"    \n",
    "    i , error = 0 , 1.  #Inicializa el contador y un error de 100%\n",
    "    \n",
    "    \n",
    "    while (i<niter) and (error > ftol):\n",
    "        c = (a+b)/2.\n",
    "        if funcion(a)*funcion(c) < 0:\n",
    "            b = c\n",
    "        elif funcion(b) * funcion (c) < 0 :\n",
    "            a = c\n",
    "        i = i + 1\n",
    "        error = np.abs(funcion(c))\n",
    "    return c"
   ]
  },
  {
   "cell_type": "code",
   "execution_count": 6,
   "metadata": {},
   "outputs": [
    {
     "name": "stdout",
     "output_type": "stream",
     "text": [
      "3.1415926535906316\n"
     ]
    },
    {
     "data": {
      "text/plain": [
       "3.141592653589793"
      ]
     },
     "execution_count": 6,
     "metadata": {},
     "output_type": "execute_result"
    }
   ],
   "source": [
    "print(biseccion(seno, 0.5, 2*np.pi-0.1, niter=80))\n",
    "np.pi"
   ]
  },
  {
   "cell_type": "code",
   "execution_count": 7,
   "metadata": {},
   "outputs": [
    {
     "data": {
      "text/plain": [
       "array([[31.40894444, 31.41941758],\n",
       "       [62.82836203, 62.83883516]])"
      ]
     },
     "execution_count": 7,
     "metadata": {},
     "output_type": "execute_result"
    }
   ],
   "source": [
    "send = lambda x: np.sin(0.1*x)\n",
    "roots = root_finder(send, 0., np.pi*30, 9000)\n",
    "\n",
    "roots"
   ]
  },
  {
   "cell_type": "code",
   "execution_count": 8,
   "metadata": {},
   "outputs": [
    {
     "name": "stdout",
     "output_type": "stream",
     "text": [
      "31.41592653589142\n",
      "62.83185307180234\n"
     ]
    }
   ],
   "source": [
    "for i in range(roots.shape[0]):\n",
    "    print(biseccion(send, roots[i,0], roots[i,1]))"
   ]
  },
  {
   "cell_type": "markdown",
   "metadata": {},
   "source": [
    "## Newton raphson\n",
    "\n",
    "El método Newton-Raphson, o método Newton, es una potente técnica para resolver ecuaciones numéricamente. Como gran parte del cálculo diferencial, se basa en la simple idea de la aproximación lineal. El método Newton, utilizado correctamente, suele llegar a una raíz con una eficacia devastadora $[2]$. \n",
    "\n",
    "Las series de Taylor son las que nos permiten aproximar funciones:\n",
    "\n",
    "$$f(x)=\\sum_{k=0}^\\infty f^{(k)}(a)\\frac{(x-a)^k}{k!}$$\n",
    "\n",
    "El metodo de Newton se basa en realizar una aproximación lineal de la raíz en base a las series de Taylor. Si solo consideramos el polinomio de primer orden de la serie de Taylor, entonces tenemos que\n",
    "\n",
    "$$ 0 = f(r) = f(x_0 +h) \\approx f(x_0) + h f'(x_0) $$ ,\n",
    "\n",
    "donde, $r$ es la raíz y $h$ es un paso infinitesimal. Sin embargo, si consideramos que $h=(x_1-x_0)$ entonces se puede obtener el valor de $x_1$ y asi aproximar una raíz.\n",
    "\n",
    "$$0 \\approx f(x_0) + (x_1-x_0) f'(x_0)$$\n",
    "\n",
    "Reordenando los términos, se obtiene que una aproximación a la raíz es:\n",
    "\n",
    "$$x_1 = x_0 - \\frac{f(x_0)}{f'(x_0)}$$\n",
    "\n",
    "Si se repite este procedimiento, se obtiene el método de Newton:\n",
    "\n",
    "$$ x_{n+1} = x_n - \\frac{f(x_n)}{f'(x_n)}$$\n",
    "\n",
    "\n",
    "La siguiente animación ilustra el procedimiento (Fuente: [Medium](https://medium.com/@ruhayel/an-intuitive-and-physical-approach-to-newtons-method-86a0bd812ec3)):\n",
    "\n",
    "<img src=\"img/newronrapshon.gif\" alt=\"asdasd\" width=\"450\"/>"
   ]
  },
  {
   "cell_type": "code",
   "execution_count": 9,
   "metadata": {},
   "outputs": [],
   "source": [
    "def newton_raphson(f, df, x0, niter=50, ftol=1e-8):\n",
    "    \"\"\"Esta función utiliza el metodo de Newton raphson para encontrar la raíz de una ecuación\n",
    "\n",
    "    Parameters\n",
    "    ----------\n",
    "    f : funcion\n",
    "        Función.\n",
    "    df : function\n",
    "        Derivada de la función.\n",
    "    x0 : float\n",
    "        Inicialización.\n",
    "    niter : int, opcional\n",
    "        Máximo numero de iteraciones.\n",
    "    ftol : float, opcional\n",
    "        Tolerancia de la raíz.\n",
    "\n",
    "    Retorna\n",
    "    -------\n",
    "    x : float\n",
    "        Solución.\n",
    "    \"\"\"\n",
    "    i , error = 0 , 1.  #Inicializa el contador y un error de 100%\n",
    "    \n",
    "    x = x0\n",
    "    while (i<niter) and (error > ftol):\n",
    "        x = x-f(x)/df(x)\n",
    "        \n",
    "        i = i + 1\n",
    "        error = np.abs(f(x))\n",
    "    return x"
   ]
  },
  {
   "cell_type": "code",
   "execution_count": 10,
   "metadata": {},
   "outputs": [
    {
     "data": {
      "text/plain": [
       "-1.6331239353195368e+16"
      ]
     },
     "execution_count": 10,
     "metadata": {},
     "output_type": "execute_result"
    }
   ],
   "source": [
    "newton_raphson(np.sin, np.cos, np.pi/2., niter=10,ftol = 0.) "
   ]
  },
  {
   "cell_type": "markdown",
   "metadata": {},
   "source": [
    "## Problema: Encontrar las 3 raíces del siguiente polinomio utilizando las funciones definidas anteriormente\n",
    "\n",
    "$$ f(x)=-x^3 + x^2 + 10x - 10 = 0$$"
   ]
  },
  {
   "cell_type": "code",
   "execution_count": 11,
   "metadata": {},
   "outputs": [
    {
     "data": {
      "image/png": "[encoded data removed]",
      "text/plain": [
       "<Figure size 432x288 with 1 Axes>"
      ]
     },
     "metadata": {
      "needs_background": "light"
     },
     "output_type": "display_data"
    }
   ],
   "source": [
    "x = np.linspace(-4,4,100)\n",
    "y = -x**3.+ x**2. + 10.*x - 10.\n",
    "plt.plot(x,y)\n",
    "plt.grid()"
   ]
  },
  {
   "cell_type": "code",
   "execution_count": 12,
   "metadata": {},
   "outputs": [],
   "source": [
    "# Solucionar el problema"
   ]
  },
  {
   "cell_type": "markdown",
   "metadata": {},
   "source": [
    "## Método del Trapecio\n",
    "\n",
    "$$\\int f(x)dx \\approx \\sum w_i f(x_i) $$"
   ]
  },
  {
   "cell_type": "markdown",
   "metadata": {},
   "source": [
    "Sea $f(x)$ continua en $[a,b]$. Partimos el intervalo $[a,b]$ en $n$ subintervalos iguales, cada uno de anchura\n",
    "\n",
    "$$ \\Delta x=\\frac{b-a}{n}$$\n",
    "\n",
    "Tal que:\n",
    "\n",
    "$$a=x_0<x_1<x_2< \\cdots < x_n =b$$\n",
    "\n",
    "<img src=\"img/trapezoidal-rule-illustration1.svg\" alt=\"TPR3\" width=\"450\"/>\n",
    "\n",
    "La integral de cada intervalo, se puede calcular como:\n",
    "\n",
    "$$I_i = \\frac{f(x_i)+f(x_{i+1})}{2} \\Delta x $$\n",
    "\n",
    "Y la integral de la función :\n",
    "\n",
    "$$\\sum_1^n I_i$$\n",
    "\n",
    "$$∫^b_af(x)\\,dx≈\\frac{Δx}{2}\\big(f(x_0)+2\\,f(x_1)+2\\,f(x_2)+\\cdots +2\\,f(x_{n-1})+f(x_n)\\big).\\nonumber$$"
   ]
  },
  {
   "cell_type": "code",
   "execution_count": 13,
   "metadata": {},
   "outputs": [],
   "source": [
    "def trapecio(f, a , b, n=50):\n",
    "    \"\"\"Esta función utiliza el método del trapecio para integrar la función\n",
    "\n",
    "    Parameters\n",
    "    ----------\n",
    "    f : funcion\n",
    "        Función.\n",
    "    a : float\n",
    "        Límite inferior de integración.\n",
    "    b : float\n",
    "        Límite superior de integración.\n",
    "    n : int, opcional\n",
    "        Número de puntos evaluados.\n",
    "\n",
    "    Retorna\n",
    "    -------\n",
    "    integral : float\n",
    "        Integral.\n",
    "    \"\"\"    \n",
    "    x = np.linspace(a,b,n)\n",
    "    integral = 0.\n",
    "    dx = x[1]-x[0]\n",
    "    for i in range(n-1):\n",
    "        integral = dx/2.*(f(x[i])+f(x[i+1]))+ integral\n",
    "    return integral"
   ]
  },
  {
   "cell_type": "code",
   "execution_count": 14,
   "metadata": {},
   "outputs": [
    {
     "name": "stdout",
     "output_type": "stream",
     "text": [
      "1.5707963267948968\n"
     ]
    }
   ],
   "source": [
    "\n",
    "print(trapecio(seno,0.,np.pi,n=3)) # Deberia dar 2"
   ]
  },
  {
   "cell_type": "markdown",
   "metadata": {},
   "source": [
    "## Método de Simpson\n",
    "\n",
    "El método del trapecio utiliza rectas o polinomios de primer orden para aproximar la solución. En cambio, el método de Simpson utiliza aproximaciones de segundo orden, es decir aproxima a través de parabolas.\n",
    "\n",
    "<img src=\"img/simpsons-6a.png\" alt=\"TPR\" width=\"250\"/>\n",
    "\n",
    "Por lo tanto, esta integral se puede aproximar utilizando la siguiente expresión\n",
    "\n",
    "$${\\int\\limits_a^b {f\\left( x \\right)dx} }\\approx{ {\\frac{{\\Delta x}}{3}}\\left[ {f\\left( {{x_0}} \\right) + 4f\\left( {{x_1}} \\right) }\\right.}+{\\left.{ 2f\\left( {{x_2}} \\right) + 4f\\left( {{x_3}} \\right) }\\right.}+{\\left.{ 2f\\left( {{x_4}} \\right) + \\cdots }\\right.}+{\\left.{ 4f\\left( {{x_{n – 1}}} \\right) + f\\left( {{x_n}} \\right)} \\right].} $$\n",
    "\n",
    "Es posible observar que los coeficientes tienen el siguiente orden (1,4,2,4,....,4,2,4,1)\n"
   ]
  },
  {
   "cell_type": "code",
   "execution_count": 15,
   "metadata": {},
   "outputs": [],
   "source": [
    "def simpson(f, a , b, n=20):\n",
    "    \"\"\"Esta función utiliza el método de Newton raphson para encontrar la raíz de una ecuación\n",
    "\n",
    "    Parameters\n",
    "    ----------\n",
    "    f : funcion\n",
    "        Función.\n",
    "    a : float\n",
    "        Límite inferior de integración.\n",
    "    b : float\n",
    "        Límite superior de integración.\n",
    "    n : int, opcional\n",
    "        Número de puntos evaluados.\n",
    "\n",
    "    Retorna\n",
    "    -------\n",
    "    integral : float\n",
    "        Integral.\n",
    "    \"\"\"    \n",
    "    x = np.linspace(a,b,n)\n",
    "    integral = 0.\n",
    "    dx_3 = (x[1]-x[0])/3.\n",
    "    \n",
    "    for i in range(n):\n",
    "        if i== 0 or i==len(x)-1:\n",
    "            p=1\n",
    "        elif i%2 == 1:\n",
    "            p=4\n",
    "        elif i%2 == 0:\n",
    "            p=2\n",
    "        integral =p * f(x[i]) + integral\n",
    "        \n",
    "    return integral * dx_3"
   ]
  },
  {
   "cell_type": "code",
   "execution_count": 23,
   "metadata": {},
   "outputs": [
    {
     "name": "stdout",
     "output_type": "stream",
     "text": [
      "2.0943951023931953\n"
     ]
    }
   ],
   "source": [
    "print(simpson(np.sin,0.,np.pi,n = 3))\n"
   ]
  },
  {
   "cell_type": "markdown",
   "metadata": {},
   "source": [
    "## Gauss-Jordan\n",
    "\n",
    "**La eliminación de Gauss-Jordan** es un algoritmo que puede utilizarse para resolver sistemas de ecuaciones lineales y encontrar la inversa de cualquier matriz invertible. Se basa en tres operaciones elementales de fila que se pueden utilizar en una matriz:\n",
    "\n",
    "1. Intercambiar las posiciones de dos de las filas\n",
    "2. Multiplicar una de las filas por un escalar no nulo\n",
    "3. Sumar o restar el múltiplo escalar de una fila a otra fila\n",
    "\n",
    "Pasos para la eliminación de Gauss-Jordan\n",
    "Para realizar la eliminación de Gauss-Jordan:\n",
    "\n",
    "1. Intercambiar las filas de manera que todas las filas con todas las entradas nulas estén en la parte inferior\n",
    "2. Intercambiar las filas de modo que la fila con la mayor entrada no nula a la izquierda esté en la parte superior.\n",
    "3. Multiplica la fila superior por un escalar de forma que la entrada principal de la fila superior se convierta en 1.\n",
    "4. Sume/reste los múltiplos de la fila superior a las otras filas de modo que todas las demás entradas de la columna que contiene la entrada principal de la fila superior sean todas cero.\n",
    "5. Repita los pasos 2-4 para la siguiente entrada no nula de la izquierda hasta que todas las entradas principales sean 1.\n",
    "6. Intercambie las filas de modo que la entrada principal de cada fila distinta de cero esté a la derecha de la entrada principal de la fila superior.\n",
    "\n"
   ]
  },
  {
   "cell_type": "code",
   "execution_count": null,
   "metadata": {},
   "outputs": [],
   "source": [
    "#NO MODIFICAR NADA\n",
    "#NO MODIFICAR NADA\n",
    "#NO MODIFICAR NADA\n",
    "#NO MODIFICAR NADA\n",
    "\n",
    "\n",
    "\n",
    "def matrix_to_markdown(a):\n",
    "    \"\"\"Returns a matrix representation [n,\n",
    "    :A: numpy array\n",
    "    :returns: LaTeX bmatrix as a string\n",
    "    \"\"\"\n",
    "    lines = np.array2string(a,precision=2).replace('[', '').replace(']', '').splitlines()\n",
    "    rv = [r'$ A = \\begin{matrix}']\n",
    "    for l in lines:\n",
    "        x=l.split()\n",
    "        h=\"\"\n",
    "        for i in range(len(x)):\n",
    "            if i<len(x)-2:\n",
    "                h+=str(x[i])+\"x_\"+r\"{\"+str(i+1)+r\"}\"\n",
    "                h+=\"+\"\n",
    "            if i==len(x)-1:\n",
    "                h+=str(x[i-1])+\"x_\"+r\"{\"+str(i)+r\"}\"\n",
    "                h+=\"=\"+x[i]\n",
    "        rv += [' ' + h + r'\\\\']\n",
    "    rv += [r'\\end{matrix}$']\n",
    "    display(Markdown('\\n'.join(rv)+r\"\\\\\"))\n",
    "    return rv\n",
    "\n",
    "def Gauss_Jordan_Latex_Equation(A):\n",
    "    \"\"\"\n",
    "    This function display how the Gauss Jordan method works\n",
    "    Solves the system of equation of a ndarray [n,n+1]\n",
    "    \"\"\"\n",
    "    n=A.shape[0]\n",
    "    matrix_to_markdown(A)\n",
    "    for i in range(n):\n",
    "        if(A[i,i]==0):\n",
    "            for k in range (n-1,-1,-1):\n",
    "                if(A[k,i]!=0):\n",
    "                    A[i,:]=A[i,:]+A[k,:]\n",
    "                    display(Markdown(\"$R{:d}+R{:d}=$\".format(i+1,k+1)))\n",
    "                    matrix_to_markdown(A)\n",
    "                    break\n",
    "        display(Markdown((\"$R{:d}/({:.2f})=$\".format(i+1,A[i,i]))))\n",
    "        A[i,:]=A[i,:]/A[i,i]\n",
    "        matrix_to_markdown(A)\n",
    "        for j in range(n):\n",
    "            if(i!=j):\n",
    "                display(Markdown((\"$R{:d}-R{:d}*({:.2f})=$\".format(j+1,i+1,A[j,i]))))\n",
    "                A[j,:]=A[j,:]-A[i,:]*A[j,i]\n",
    "                matrix_to_markdown(A)\n",
    "    return A\n",
    "\n",
    "A1=np.array([[4., 8.,-12.,44.],\n",
    "             [3., 6.,-8.,32.],\n",
    "             [-2.,-1,1.,-7.]])\n",
    "\n",
    "\n",
    "Gauss_Jordan_Latex_Equation(A1)\n",
    "#NO MODIFICAR NADA\n",
    "#NO MODIFICAR NADA\n",
    "#NO MODIFICAR NADA\n",
    "#NO MODIFICAR NADA"
   ]
  },
  {
   "cell_type": "code",
   "execution_count": 18,
   "metadata": {},
   "outputs": [],
   "source": [
    "def gauss_jordan(A):\n",
    "    \"\"\"Resuelve un sistema de ecuaciones utilizando Gauss_Jordan.\n",
    "    Parámetros:\n",
    "    -----------\n",
    "    A: ndarray\n",
    "        Matriz de nxn+1 o n x 2n para resolver un sistema de ecuaciones\n",
    "    \n",
    "    Retorna:\n",
    "    -----------\n",
    "    x: ndarray\n",
    "        Vector o matriz que contiene la solución\n",
    "    \"\"\"\n",
    "    n=A.shape[0]\n",
    "    for i in range(n):\n",
    "        A[i,:] = A[i,:]/A[i,i]\n",
    "        for j in range(n):\n",
    "            if(i!=j):\n",
    "                A[j,:]=A[j,:]-A[i,:]*A[j,i]\n",
    "    x = A[:,-1]\n",
    "    return x"
   ]
  },
  {
   "cell_type": "code",
   "execution_count": 19,
   "metadata": {},
   "outputs": [
    {
     "data": {
      "text/plain": [
       "array([-0.08333333, -1.20833333, -0.91666667])"
      ]
     },
     "execution_count": 19,
     "metadata": {},
     "output_type": "execute_result"
    }
   ],
   "source": [
    "A1=np.array([[4., 8.,-12.,1.],\n",
    "             [1., 6.,-8.,0.],\n",
    "             [-2.,-1,1.5,0.]])\n",
    "\n",
    "gauss_jordan(A1) "
   ]
  },
  {
   "cell_type": "markdown",
   "metadata": {},
   "source": [
    "## Derivación numérica\n",
    "\n",
    "Diferenciación Hacia adelante\n",
    "\n",
    "$$f'(x_0) \\approx \\frac{f(x_0+h)-f(x_0)}{h} $$\n",
    "\n",
    "Diferenciación hacia atrás\n",
    "\n",
    "$$f'(x_0) \\approx \\frac{f(x_0)-f(x_0-h)}{h} $$\n",
    "\n",
    "Diferencia centrada\n",
    "\n",
    "$$f'(x_0) \\approx \\frac{f(x_0+h)-f(x_0-h)}{2h} $$\n",
    "\n",
    "$$f''(x_0) \\approx \\frac{f(x_0+h)-2f(x_0)+f(x_0-h)}{2h} $$"
   ]
  },
  {
   "cell_type": "markdown",
   "metadata": {},
   "source": [
    "## Problemas Aplicados"
   ]
  },
  {
   "cell_type": "markdown",
   "metadata": {},
   "source": [
    "## Problema 1: Serie de Fourier.\n",
    "1-Representar la siguiente función de manera periódica a través de la serie de Fourier.\n",
    "\n",
    "$$f(x) = x^3 -x^2 \\quad x \\in [-\\pi,\\pi] $$\n",
    "\n",
    "Recordar que:\n",
    "\n",
    "$$f(x) = a_0  + \\sum_{n=1}^\\infty (a_n cos(\\frac{2n\\pi x}{T})+b_n sin(\\frac{2n\\pi x}{T}))$$\n",
    "\n",
    "$$a_0 = \\frac{1}{T}\\int_{-T}^{T} f(x) dx$$\n",
    "\n",
    "$$a_n = \\frac{2}{T}\\int_{-T}^{T} f(x)cos(\\frac{2n\\pi x}{T}) dx$$\n",
    "\n",
    "$$b_n = \\frac{2}{T}\\int_{-T}^{T} f(x)sin(\\frac{2n\\pi x}{T}) dx$$\n",
    "\n",
    "a) Utilizar 4, 8 , 20 términos.\n",
    "\n",
    "\n",
    "b) Graficar"
   ]
  },
  {
   "cell_type": "code",
   "execution_count": 20,
   "metadata": {},
   "outputs": [
    {
     "data": {
      "text/plain": [
       "<matplotlib.legend.Legend at 0x7f38a7571450>"
      ]
     },
     "execution_count": 20,
     "metadata": {},
     "output_type": "execute_result"
    },
    {
     "data": {
      "image/png": "[encoded data removed]",
      "text/plain": [
       "<Figure size 432x288 with 1 Axes>"
      ]
     },
     "metadata": {
      "needs_background": "light"
     },
     "output_type": "display_data"
    }
   ],
   "source": [
    "# Para resolver este problema se separa el problema en 2 partes,\n",
    "# 1 .-obtener los Coeficientes 2.- evaluar la transformada de Fourier.\n",
    "import numpy as np\n",
    "import matplotlib.pyplot as plt\n",
    "\n",
    "def fourier_coeff(f,a,b,nf=20):\n",
    "    \"\"\"\n",
    "    Parámetros\n",
    "    -------------\n",
    "    f : function\n",
    "        Función en el intervalo\n",
    "        \n",
    "    a : float\n",
    "        límite inferior del intervalo\n",
    "        \n",
    "    b : float\n",
    "        límite superior intervalo\n",
    "        \n",
    "    nf : int\n",
    "        cantidad de coeficientes serie de Fourier\n",
    "        \n",
    "    Retorno\n",
    "    -------------\n",
    "    a0: float\n",
    "        coeficiente\n",
    "    an: ndarray\n",
    "        vector que contiene cada uno de los coeficientes a_n\n",
    "    bn: ndarray\n",
    "        vector que contiene cada uno de los coeficientes b_n\n",
    "    \"\"\"\n",
    "\n",
    "    an , bn = np.zeros((2,nf))\n",
    "    \n",
    "    T = (b-a)\n",
    "    \n",
    "    a0 = 1./T*trapecio(lambda x: f(x), a , b, n=100)\n",
    "    \n",
    "    for i in range(nf):\n",
    "        an[i] = 2./T*trapecio(lambda x: f(x)*np.cos(2.*(i+1.)*np.pi*x/T), a , b, n=100)\n",
    "        bn[i] = 2./T*trapecio(lambda x: f(x)*np.sin(2.*(i+1.)*np.pi*x/T), a , b, n=100)\n",
    "    return a0,an,bn\n",
    "\n",
    "\n",
    "def serie_fourier(x,a0,an,bn,T):\n",
    "    \"\"\"\n",
    "    Parámetros\n",
    "    -------------\n",
    "    x : float\n",
    "        argumento de f(x)\n",
    "        \n",
    "    a0: float\n",
    "        coeficiente\n",
    "    an: ndarray\n",
    "        vector que contiene cada uno de los coeficientes a_n\n",
    "    bn: ndarray\n",
    "        vector que contiene cada uno de los coeficientes b_n\n",
    "    T : float\n",
    "        periodo\n",
    "        \n",
    "    Retorno\n",
    "    -------------\n",
    "    y: float\n",
    "        approximación serie de fourier\n",
    "    \"\"\"\n",
    "    y = a0\n",
    "    \n",
    "    for i in range(len(an)):\n",
    "        \n",
    "        y = an[i]*np.cos(2.*(i+1.)*np.pi*x/T) + y\n",
    "        \n",
    "        y = bn[i]*np.sin(2.*(i+1.)*np.pi*x/T) + y\n",
    "        \n",
    "    return y\n",
    "\n",
    "#Ejecución de las funciones\n",
    "for n in [4,8,20]:\n",
    "    a0,an,bn = fourier_coeff(lambda x: x**3-x**2,-np.pi,np.pi,nf=n)\n",
    "    x = np.linspace(-np.pi*3,np.pi*3,1000)\n",
    "    y = serie_fourier(x,a0,an,bn,np.pi*2.)\n",
    "    plt.plot(x,y)\n",
    "\n",
    "\n",
    "x1 = np.linspace(-np.pi,np.pi,1000)\n",
    "y1 = x1**3-x1**2\n",
    "plt.plot(x1,y1)\n",
    "\n",
    "plt.legend([\"4-Fourier\",\"8-Fourier\",\"20-Fourier\",\"Solución-exacta\"])"
   ]
  },
  {
   "cell_type": "markdown",
   "metadata": {},
   "source": [
    "## Problema 2: Carro propulsado.\n",
    "Se tiene un carro de 20kg, que está siendo propulsado por un flujo másico de $\\dot{m}$ = $0,5kg/s$\n",
    "y $v_{chorro} = 5m/s$. La fuerza de arrastre de este vehı́culo es de $0,75v^2 [N]$ siendo $v$ la velocidad\n",
    "del carro en m/s. Considerar que el carro se vacı́a en 30 segundos y parte del reposo. Se pide:\n",
    "\n",
    "<img src=\"img/carro.png\" alt=\"TPR2\" width=\"250\"/>\n",
    "\n",
    "$$m(t)\\frac{dv}{dt}=\\dot{m}(v_{chorro}-0.75v^2) $$\n",
    "\n",
    "$$\\int v dt = x(t)$$\n",
    "\n",
    "$$\\frac{dv}{dt} \\approx \\frac{v(t_{i+1})-v(t_i)}{dt}$$\n",
    "\n",
    "$$ v(t_{i+1}) \\approx f(t_i) $$\n",
    "\n",
    "1. Determinar la velocidad en la cual la aceleración es nula.\n",
    "2. Obtener el perfil de velocidad hasta cuando el carro se vacía. Considerar un paso temporal de $0.05 [S]$.\n",
    "3. Obtener el perfil de desplazamiento en base al perfil de velocidad obtenido anteriormente. \n",
    "\n",
    "```Solución```\n",
    "1.  $0 = \\dot{m}(v_{chorro}-0.75v^2)$\n",
    "2. $ v(t_{i+1}) = \\frac{\\dot{m}(v_{chorro}-0.75v^2)}{m(t)} dt+ v(t_i) $\n",
    "3. Integrar la velocidad anterior "
   ]
  },
  {
   "cell_type": "code",
   "execution_count": 21,
   "metadata": {},
   "outputs": [
    {
     "name": "stdout",
     "output_type": "stream",
     "text": [
      "Cuando la aceleración es nula, la velocidad es: 2.582 m/s\n",
      "Observar que la velocidad se estabiliza en la velocidad terminal obtenida anteriormente\n"
     ]
    },
    {
     "data": {
      "image/png": "[encoded data removed]",
      "text/plain": [
       "<Figure size 432x288 with 1 Axes>"
      ]
     },
     "metadata": {
      "needs_background": "light"
     },
     "output_type": "display_data"
    }
   ],
   "source": [
    "# 1.- Esta parte consiste en obtener la raices de ese problema, se puede resolver facilmente\n",
    "# pero se utilizara newton raphson para ilustrar como solucionarlo\n",
    "vel = newton_raphson(lambda x: 5-0.75*x**2, lambda x: -2*0.75*x , 10., niter=50, ftol=1e-14)\n",
    "print(\"Cuando la aceleración es nula, la velocidad es: {:.3f} m/s\".format(vel))\n",
    "\n",
    "#2.- Se obtendra el vector de velocidad a traves de la recursión\n",
    "m_dot = 0.5\n",
    "v_chorro = 5.\n",
    "steps = 1000\n",
    "t = np.linspace(0,30,steps)\n",
    "v = np.zeros(t.shape)\n",
    "dt = t[1] - t[0]\n",
    "for i in range(steps-1):\n",
    "    m_t = 20. - m_dot*(t[i])\n",
    "    v[i+1] = dt*m_dot*(v_chorro-0.75*v[i]**2)/(m_t) + v[i]\n",
    "\n",
    "plt.plot(t,v)\n",
    "plt.xlabel(\"Tiempo [s]\")\n",
    "plt.ylabel(\"Velocidad [m/s]\")\n",
    "plt.legend([\"Perfil de Velocidad\"])\n",
    "print(\"Observar que la velocidad se estabiliza en la velocidad terminal obtenida anteriormente\")"
   ]
  },
  {
   "cell_type": "code",
   "execution_count": 22,
   "metadata": {},
   "outputs": [
    {
     "data": {
      "text/plain": [
       "<matplotlib.legend.Legend at 0x7f38a7482bc0>"
      ]
     },
     "execution_count": 22,
     "metadata": {},
     "output_type": "execute_result"
    },
    {
     "data": {
      "image/png": "[encoded data removed]",
      "text/plain": [
       "<Figure size 432x288 with 1 Axes>"
      ]
     },
     "metadata": {
      "needs_background": "light"
     },
     "output_type": "display_data"
    }
   ],
   "source": [
    "#3.- Integrar con trapecio\n",
    "x = np.zeros(t.shape)\n",
    "\n",
    "for i in range(len(t)-1):\n",
    "    x[i+1] = dt/2.*(v[i+1]+v[i]) + x [i]\n",
    "    \n",
    "plt.xlabel(\"Tiempo [s]\")\n",
    "plt.ylabel(\"Desplazamiento [m]\")\n",
    "plt.plot(t,x)\n",
    "plt.legend([\"Perfil de Desplazamiento\"])"
   ]
  },
  {
   "cell_type": "markdown",
   "metadata": {},
   "source": [
    "## Referencias\n",
    "\n",
    "[1] Chapra, S. C., & Canale, R. P. (2011). Numerical methods for engineers (Vol. 2). New York: Mcgraw-hill."
   ]
  }
 ],
 "metadata": {
  "kernelspec": {
   "display_name": "Python 3",
   "language": "python",
   "name": "python3"
  },
  "language_info": {
   "codemirror_mode": {
    "name": "ipython",
    "version": 3
   },
   "file_extension": ".py",
   "mimetype": "text/x-python",
   "name": "python",
   "nbconvert_exporter": "python",
   "pygments_lexer": "ipython3",
   "version": "3.10.12"
  }
 },
 "nbformat": 4,
 "nbformat_minor": 4
}
