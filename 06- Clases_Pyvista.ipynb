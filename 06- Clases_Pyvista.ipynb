{
 "cells": [
  {
   "cell_type": "markdown",
   "metadata": {},
   "source": [
    "# Clases y PyVista\n",
    "\n",
    "<img src=\"https://github.com/ccdonoso/Intro2_Computational_Mechanics/blob/master/img/logo_usach_dimec.png?raw=true\" alt=\"logo\" width=\"300\"/>\n",
    "\n",
    "- Autor: Claudio Canales Donoso\n",
    "- Página: [ccdonoso.github.io](ccdonoso.github.io)\n",
    "- Cursos: Mecánica Computacional - Diseño Computarizado\n",
    "- Universidad de Santiago de Chile\n",
    "- Fecha: 26/10/21\n",
    "\n",
    "License: BSD 3 clause\n",
    "\n",
    "**Contenido** : OOP - Pyvista.\n",
    "- Configurando Pyvista\n",
    "- Introducción a la programación orientada a objetos.\n",
    "- Pyvista\n",
    "    - Nube de puntos\n",
    "    - Triangulación de nube de puntos\n",
    "    - Glyphs\n",
    "    - Esponja de Menger"
   ]
  },
  {
   "cell_type": "markdown",
   "metadata": {},
   "source": [
    "### Librerías"
   ]
  },
  {
   "cell_type": "code",
   "execution_count": null,
   "metadata": {},
   "outputs": [],
   "source": [
    "import numpy as np\n",
    "import matplotlib.pyplot as plt\n",
    "import pyvista as pv"
   ]
  },
  {
   "cell_type": "markdown",
   "metadata": {},
   "source": [
    "### Configuración de Pyvista en Jupyter notebook\n",
    "\n",
    "- Instalar **Pyvista** con el comando `pip install pyvista`\n",
    "    Librería de visualización en Python, basada en la libreria VTK. Es capaz de combinar la velocidad de C++ con la rápida creación de prototipos de Python. Sin embargo, a pesar de esto, el código VTK programado en Python suele tener el mismo aspecto que su homólogo en C++. Esta libreria pretende simplificar la creación de mallas y el trazado sin perder funcionalidad.\n",
    "\n",
    "- Instalar **pythreejs** con el comando `pip install pythreejs`\n",
    "    Esta librería permite realizar la visualización con Pyvista de forma interactiva en Jupyter notebook.\n",
    "    También instalar `pip install ipyvtklink `  `pip install ipygany`\n",
    "    - \n",
    "    \n",
    "### Ejecutar el siguiente código. Si todo esta bien, deberian poder interactuar con la interfaz de Pyvista."
   ]
  },
  {
   "cell_type": "code",
   "execution_count": null,
   "metadata": {},
   "outputs": [],
   "source": [
    "from pyvista import examples\n",
    "mesh = pv.examples.download_nefertiti()                         # Descarga una malla de ejemplo\n",
    "mesh.plot(color='lightgrey', pbr=True, metallic=0.9,    #Información de ploteo\n",
    "          jupyter_backend='pythreejs',background=\"white\")                  #Atención a jupyter_backend='pythreejs'\n",
    "                                                        #es necesario agregar esta linea para que el gráfico sea interactivo."
   ]
  },
  {
   "cell_type": "markdown",
   "metadata": {},
   "source": [
    "## Test 2"
   ]
  },
  {
   "cell_type": "code",
   "execution_count": null,
   "metadata": {},
   "outputs": [],
   "source": [
    "from pyvista import demos\n",
    "\n",
    "mesh = demos.glyphs(2)\n",
    "\n",
    "text = demos.logo.text_3d(\"Soy interactivo!\", depth=0.3)\n",
    "text.points *= 0.1\n",
    "text.translate([0, 1.4, 1.5])\n",
    "mesh += text\n",
    "mesh['Example Scalars'] = mesh.points[:, 0]\n",
    "\n",
    "mesh.plot(cpos='xy', jupyter_backend='ipygany', show_scalar_bar=True,background=\"white\")"
   ]
  },
  {
   "cell_type": "markdown",
   "metadata": {},
   "source": [
    "# Introducción Clases Python\n",
    "\n",
    "La programación orientada a objetos (POO) se basa en el concepto de objetos, que a su vez suelen ser generados por clases. La filosofía de la POO se resume generalmente en cuatro conceptos básicos:\n",
    "\n",
    "- [abstracción](https://en.wikipedia.org/wiki/Abstraction_(computer_science)) - *mostrar sólo ciertas características al usuario*\n",
    "- [encapsulación](https://en.wikipedia.org/wiki/Encapsulation_(programación_informática)) - *agrupar ciertas características*\n",
    "- [herencia](https://en.wikipedia.org/wiki/Inheritance_(programación_orientada_a_objetos)) - *reutilizar y extender características*\n",
    "- [polimorfismo](https://en.wikipedia.org/wiki/Polymorphism_(computer_science)) - *permitir que los objetos adopten diversas formas*\n",
    "\n",
    "Algunas de las principales ventajas que ofrece la programación orientada a objetos, directamente relacionadas con estos conceptos básicos, son las siguientes\n",
    "\n",
    "* **reutilización** - *minimización de la cantidad de código copiado y pegado*\n",
    "* Mantenibilidad: minimizar la cantidad de código que hay que cambiar para corregir un error.\n",
    "* Seguridad: minimizar el uso indebido por parte de un usuario.\n",
    "\n",
    "En este tutorial veremos en superficialmente las clases de Python, que deberían proporcionarte todas las herramientas que necesitas para aprovechar las ventajas de la POO. \n",
    "\n",
    "## Estructura de una Clase\n",
    "\n",
    "**¿Qué es una clase de Python?**\n",
    "\n",
    "Una clase es un plano o prototipo definido por el usuario a partir del cual se crean objetos.\n",
    "\n",
    "**¿Por qué utilizamos las clases?**\n",
    "Las clases proporcionan un medio para agrupar datos y funcionalidad. Al crear una nueva clase se crea un nuevo tipo de objeto, lo que permite crear nuevas instancias de ese tipo. Cada instancia de clase puede tener atributos adjuntos para mantener su estado. Las instancias de clase también pueden tener métodos (definidos por su clase) para modificar su estado.\n",
    "\n",
    "Para entender la necesidad de crear una clase, consideremos un ejemplo. Supongamos que se quiere hacer un seguimiento del número de perros que pueden tener diferentes atributos como la raza y la edad. Si se utiliza una lista, el primer elemento podría ser la raza del perro mientras que el segundo elemento podría representar su edad. Supongamos que hay 100 perros diferentes, entonces ¿cómo se sabría qué elemento se supone que es cada uno? ¿Y si quisieras añadir otras propiedades a estos perros? Esto carece de organización y demuestra la necesidad de las clases.\n",
    "\n",
    "Una clase crea una estructura de datos definida por el usuario, que contiene sus propios miembros de datos y funciones miembro a los que se puede acceder y utilizar creando una instancia de esa clase. Una clase es como un plano de un objeto.\n",
    "\n",
    "**¿Cómo se crean las clases?**\n",
    "Aquí hay reglas simples para crear una clase en Python:\n",
    "\n",
    "Las clases se crean con la palabra clave `class`.\n",
    "Los **atributos** son las variables que pertenecen a la clase.\n",
    "Los atributos son siempre públicos y se puede acceder a ellos usando el operador punto (.). Ej: `Miclase.Miatributo`\n",
    "Los atributos pueden hacerse no visibles directamente añadiendo un prefijo de doble guión bajo a su nombre. Ej: `MiClase.__AtributoOculto`\n",
    "Esta es la sintaxis de una clase en Python:"
   ]
  },
  {
   "cell_type": "code",
   "execution_count": null,
   "metadata": {},
   "outputs": [],
   "source": [
    "class ClassName:\n",
    "    # Statement-1\n",
    "    # Statement-N"
   ]
  },
  {
   "cell_type": "code",
   "execution_count": null,
   "metadata": {},
   "outputs": [],
   "source": [
    "class Perro:  \n"
   ]
  },
  {
   "cell_type": "code",
   "execution_count": null,
   "metadata": {},
   "outputs": [],
   "source": [
    "# Driver Code  \n",
    "thor = Perro(\"Pug\")  \n",
    "thor.setColor(\"plateado\")  \n",
    "print(thor.getColor())"
   ]
  },
  {
   "cell_type": "markdown",
   "metadata": {},
   "source": [
    "El método `init` es un constructor. Los constructores se utilizan para inicializar el estado del objeto. Al igual que los métodos, un constructor también contiene una colección de declaraciones (es decir, instrucciones) que se ejecutan en el momento de la creación del objeto. Se ejecuta tan pronto como se instancie un objeto de una clase. El método es útil para realizar cualquier inicialización que se quiera hacer con el objeto.\n",
    "\n",
    "A menudo, el primer argumento de un método se llama `self`. Esto no es más que una convención: el nombre self no tiene ningún significado especial para Python. El self representa la instancia de la clase. Usando la palabra clave `self` podemos acceder a los atributos y métodos de la clase en python.\n",
    "\n",
    "No damos un valor para este parámetro cuando llamamos al método, Python lo proporciona. Si tenemos un método que no toma argumentos, entonces todavía tenemos que tener un argumento. Cuando llamamos a un método de este objeto como `miobjeto.método(arg1, arg2)`, esto es automáticamente convertido por Python en `MiClase.método(miobjeto, arg1, arg2)`. \n",
    "\n",
    "\n",
    "**¿Qué es un objeto de Python?**\n",
    "Un objeto es una instancia de una clase.\n",
    "\n",
    "**¿Por qué usamos un objeto?**\n",
    "Una clase es como un plano mientras que una instancia es una copia de la clase con valores reales. Ya no es una idea, es un perro real, como un perro que tiene la raza de pug y tiene siete años. Puedes tener muchos perros para crear muchas instancias diferentes, pero sin la clase como guía, estarías perdido, sin saber qué información se requiere.\n",
    "\n",
    "Un objeto se compone de :\n",
    "\n",
    "- Estado : Está representado por los atributos de un objeto. También refleja las propiedades de un objeto.\n",
    "- Comportamiento : Está representado por los métodos de un objeto. También refleja la respuesta de un objeto con otros objetos.\n",
    "- Identidad : Da un nombre único a un objeto y permite que un objeto interactúe con otros objetos\n",
    "\n",
    "¿Cómo creamos objetos (también llamado instanciar una clase)?\n",
    "Cuando se crea un objeto de una clase, se dice que la clase está instanciada. Todas las instancias comparten los atributos y el comportamiento de la clase. Pero los valores de esos atributos, es decir, los estados, son únicos para cada objeto. Una misma clase puede tener cualquier número de instancias.\n",
    "\n",
    "Las variables de instancia son para los datos que son únicos para cada instancia. Las variables de clase son para atributos y métodos compartidos por todas las instancias de la clase. Las variables de instancia son variables cuyo valor se asigna dentro de un constructor o método con self mientras que las variables de clase son variables cuyo valor se asigna en la clase.\n",
    "\n",
    "<img src=\"img/clases.svg\" alt=\"logo\" width=\"600\"/>\n"
   ]
  },
  {
   "cell_type": "markdown",
   "metadata": {},
   "source": [
    "\n",
    "# Ejemplo de una Clase\n",
    "\n",
    "En este ejemplo, se creara una clase de un planeta. La idea principal es crear una estructura de datos que contenga los atributos de \n",
    "\n",
    "- nombre\n",
    "- masa\n",
    "- radio\n",
    "- gravedad\n",
    "\n",
    "También es necesario definir un mètodo que muestre por pantalla todas las propiedades del planeta.\n"
   ]
  },
  {
   "cell_type": "code",
   "execution_count": null,
   "metadata": {},
   "outputs": [],
   "source": [
    "# Define a planet class\n",
    "class Planet:\n",
    "    "
   ]
  },
  {
   "cell_type": "code",
   "execution_count": null,
   "metadata": {},
   "outputs": [],
   "source": [
    "# create class instances\n"
   ]
  },
  {
   "cell_type": "markdown",
   "metadata": {},
   "source": [
    "### Para mayor información acerca de como funcionan las clases en Python, les recomiendo visitar:\n",
    "\n",
    "- [Tutorial oficial de Python y Clases](https://docs.python.org/3.7/tutorial/classes.html)\n",
    "- [Jupyter Notebooks con un tutorial completo y avanzado de Clases](https://github.com/Euclid-Python/Python-and-OOP)\n",
    "\n",
    "Referencias:\n",
    "\n",
    "Copyright (c) 2020 HDVI\n",
    "\n",
    "Copyright (c) 2019 Euclid-Python"
   ]
  },
  {
   "cell_type": "markdown",
   "metadata": {
    "scrolled": true
   },
   "source": [
    "# Nube de puntos\n",
    "\n",
    "Crear un objeto `:class:pyvista.PolyData`  partir de una nube de puntos de vértices y matrices escalares para esos puntos"
   ]
  },
  {
   "cell_type": "code",
   "execution_count": null,
   "metadata": {},
   "outputs": [],
   "source": [
    "points = examples.download_face().points\n",
    "# Se imprimiran los primeros cinco puntos de la malla de la matriz (n_points x 3)\n",
    "# Las columnas son (X Y Z)\n",
    "points[0:5, :]"
   ]
  },
  {
   "cell_type": "code",
   "execution_count": null,
   "metadata": {
    "scrolled": true
   },
   "outputs": [],
   "source": [
    "point_cloud = pv.PolyData(points)  # ¿ Qué hace esta linea ?\n",
    "point_cloud"
   ]
  },
  {
   "cell_type": "markdown",
   "metadata": {},
   "source": [
    "np.allclose(points, point_cloud.points)"
   ]
  },
  {
   "cell_type": "code",
   "execution_count": null,
   "metadata": {},
   "outputs": [],
   "source": [
    "point_cloud.plot(color='black',background=\"white\")"
   ]
  },
  {
   "cell_type": "code",
   "execution_count": null,
   "metadata": {},
   "outputs": [],
   "source": [
    "# Make data array using z-component of points array\n",
    "data = points[:,0]\n",
    "\n",
    "# Add that data to the mesh with the name \"uniform dist\"\n",
    "point_cloud[\"profundidad\"] = data"
   ]
  },
  {
   "cell_type": "code",
   "execution_count": null,
   "metadata": {},
   "outputs": [],
   "source": [
    "point_cloud.plot(render_points_as_spheres=True,background=\"black\")"
   ]
  },
  {
   "cell_type": "code",
   "execution_count": null,
   "metadata": {},
   "outputs": [],
   "source": [
    "# Siguiente paso es mallar la nube de puntos\n",
    "\n",
    "surf = point_cloud.delaunay_2d()\n",
    "    \n",
    "surf.plot(show_edges=True)"
   ]
  },
  {
   "cell_type": "code",
   "execution_count": null,
   "metadata": {},
   "outputs": [],
   "source": [
    "surf"
   ]
  },
  {
   "cell_type": "code",
   "execution_count": null,
   "metadata": {},
   "outputs": [],
   "source": [
    "print(type(surf))"
   ]
  },
  {
   "cell_type": "code",
   "execution_count": null,
   "metadata": {},
   "outputs": [],
   "source": [
    "help(pv.PolyData)"
   ]
  },
  {
   "cell_type": "markdown",
   "metadata": {},
   "source": [
    "### Como acceder a la información del objeto surf\n",
    "\n",
    "Primero accederemos a los puntos o nodos de la malla. Para ello, tenemos que acceder a `obj_polydata.points`. Estamos accediento al atributo points de la malla y esto nos devolvera un vector 1D de numpy, de dimensión (npuntos * 3). Cambiaremos la forma de este vector, para que represente una matriz de $N_{puntos} \\times 3$. Para ello, utilizaremos el método `np.reshape`"
   ]
  },
  {
   "cell_type": "code",
   "execution_count": null,
   "metadata": {},
   "outputs": [],
   "source": [
    "surf.points.reshape(-1,3)"
   ]
  },
  {
   "cell_type": "markdown",
   "metadata": {},
   "source": [
    "Como pueden ver, cada fila representa un nodo en formato $(X,Y,Z)$. Sin embargo, ahora nuestra malla esta compuesta por unidades geométricas basicas. En este caso, esta definida por triangulos que conectan los nodos o puntos de **surf**. El índice de los nodos esta ordenado según el índice de la fila de la matriz. En este caso, el nodo 0, es la primera fila.\n",
    "\n",
    "Por lo tanto, para generar los triangulos, solo es necesario decir el tipo de elemento (asociado al número 3) y especificar los nodos. Ejemplo de un elemento triangulo $[3,110,12,87]$. Notar que el arreglo es de tipo entero, el primer entero es el número de nodos, y los otros indican los nodos conectados."
   ]
  },
  {
   "cell_type": "code",
   "execution_count": null,
   "metadata": {},
   "outputs": [],
   "source": [
    "print(surf.faces)\n",
    "print(surf.faces.shape)\n",
    "surf.faces.reshape(-1,4)"
   ]
  },
  {
   "cell_type": "markdown",
   "metadata": {},
   "source": [
    "## Desafío: Esponja de Menger\n",
    "\n",
    "En este problema, tendran que utilizar PyVista, para obtener el fractal de Menger, el cual se presenta ilustrado en la siguiente imagén.\n",
    "\n",
    "<img src=\"img/menger4.jpg\" alt=\"logo\" width=\"600\"/>\n"
   ]
  },
  {
   "cell_type": "code",
   "execution_count": null,
   "metadata": {},
   "outputs": [],
   "source": [
    "class Cubo:    \n",
    "    "
   ]
  },
  {
   "cell_type": "code",
   "execution_count": null,
   "metadata": {},
   "outputs": [],
   "source": [
    "def merge_sponge_mesh(n):\n"
   ]
  },
  {
   "cell_type": "code",
   "execution_count": null,
   "metadata": {},
   "outputs": [],
   "source": [
    "data , r = merge_sponge_mesh(4)\n",
    "print(points,r)"
   ]
  },
  {
   "cell_type": "code",
   "execution_count": null,
   "metadata": {},
   "outputs": [],
   "source": [
    "# Plotea el fractal\n",
    "sponge_data = pv.PolyData(data)  # ¿ Qué hace esta linea ?\n",
    "geom = pv.Cube(x_length=r, y_length=r, z_length=r)\n",
    "glyphs = sponge_data.glyph(geom=geom)\n",
    "pl = pv.Plotter(lighting=\"three lights\")\n",
    "pl.add_mesh(glyphs , lighting=True,color='gold', pbr=True, metallic=0.9)\n",
    "pl.background_color = 'black'\n",
    "pl.show(jupyter_backend='pythreejs')"
   ]
  },
  {
   "cell_type": "code",
   "execution_count": null,
   "metadata": {},
   "outputs": [],
   "source": [
    "help(pv.Plotter())"
   ]
  }
 ],
 "metadata": {
  "kernelspec": {
   "display_name": "Python 3",
   "language": "python",
   "name": "python3"
  },
  "language_info": {
   "codemirror_mode": {
    "name": "ipython",
    "version": 3
   },
   "file_extension": ".py",
   "mimetype": "text/x-python",
   "name": "python",
   "nbconvert_exporter": "python",
   "pygments_lexer": "ipython3",
   "version": "3.7.3"
  }
 },
 "nbformat": 4,
 "nbformat_minor": 4
}
