{
 "cells": [
  {
   "cell_type": "markdown",
   "metadata": {},
   "source": [
    "# Problemas de Mecanismos\n",
    "\n",
    "<img src=\"https://github.com/ccdonoso/Intro2_Computational_Mechanics/blob/master/img/logo_usach_dimec.png?raw=true\" alt=\"logo\" width=\"300\"/>\n",
    "\n",
    "- Autor: Claudio Canales Donoso\n",
    "- Página: [ccdonoso.github.io](ccdonoso.github.io)\n",
    "- Cursos: Mecánica Computacional - Diseño Computarizado\n",
    "- Universidad de Santiago de Chile\n",
    "- Fecha: 03/05/21\n",
    "\n",
    "License: BSD 3 clause\n",
    "\n",
    "**Contenido** \n",
    "- Repaso Mecanismos\n",
    "- Métodos Numéricos y Mecanismos\n"
   ]
  },
  {
   "cell_type": "markdown",
   "metadata": {},
   "source": [
    "# Repaso Mecanismos\n",
    "\n",
    "## Grados de libertad para mecanismos planos:\n",
    "\n",
    "$$N_{gl} = 3(n-1) -2P_1 -P_2$$\n",
    "\n",
    "Donde:\n",
    "\n",
    "- $N_{gl}$: grados de libertad\n",
    "- $n$: Número de barras\n",
    "- $P_1$: Pares de un mov. relativo\n",
    "- $P_2$: Pares de dos mov. relativo\n",
    "\n",
    "## Tipos de coordenadas:\n",
    "\n",
    "**Coordenadas Independientes**: Estas coordenadas coinciden con el número de grados\n",
    "de libertad de la cinemática de un mecanismo. Es decir, es la cantidad mínima\n",
    "de coordenadas para representar la cinemática del mecanismo.\n",
    "<img src=\"img/cord_indep.png\" alt=\"logo\" width=\"400\"/>\n",
    "\n",
    "\n",
    "**Coordenadas Dependientes**: Describen la cinemática del mecanismo con una\n",
    "cantidad mayor de coordenadas que los grados de libertad del sistema. Esto\n",
    "facilita la descripción de un mecanismo o un sistema “Multibody”. Pero es\n",
    "necesario considerar la dependencia de las variables a través de restricciones.\n",
    "El número de restricciones es :\n",
    "\n",
    "**Restricciones = Coordenadas dependientes - grados de libertad.**\n",
    "\n",
    "<img src=\"img/cord_relativas.png\" alt=\"logo\" width=\"350\"/>\n",
    "\n",
    "\n",
    "## Restricciones:\n",
    "\n",
    "### Cuerpo rígido:\n",
    "<img src=\"img/cuerpo_rigido.png\" alt=\"logo\" width=\"100\"/>\n",
    "$$ (x_2-x_1)^2 + (y_2-y_1)^2 -L_{12}^2=0$$\n",
    "\n",
    "### Cuerpo rígido 3 puntos:\n",
    "<img src=\"img/cuerpo_rigido3.png\" alt=\"logo\" width=\"100\"/>\n",
    "$$ (x_2-x_1)^2 + (y_2-y_1)^2 -L_{12}^2=0$$\n",
    "$$ (x_3-x_1)^2 + (y_3-y_1)^2 -L_{13}^2=0$$\n",
    "$$ (x_3-x_2)^2 + (y_3-y_2)^2 -L_{23}^2=0$$\n",
    "\n",
    "### Cuerpo rígido 3 puntos alineados:\n",
    "<img src=\"img/cuerpo_rigido_alineado.png\" alt=\"logo\" width=\"100\"/>\n",
    "$$ (x_2-x_1)^2 + (y_2-y_1)^2 -L_{12}^2=0$$\n",
    "$$(x_3-x_1)-\\frac{L_{13}}{L_{12}}(x_2-x_1) = 0 $$\n",
    "$$(y_3-y_1)-\\frac{L_{13}}{L_{12}}(y_2-y_1) = 0 $$\n",
    "\n",
    "### Par prismático:\n",
    "<img src=\"img/restriccion_par_prismatico.png\" alt=\"logo\" width=\"150\"/>\n",
    "$$(x_2-x_1)(y_3-y_1) - (y_2-y_1)(x_3-x_1) = 0$$\n",
    "\n",
    "### Restricción de ángulo:\n",
    "<img src=\"img/restriccion_angulo.png\" alt=\"logo\" width=\"150\"/>\n",
    "$$(x_1-x_2)(x_3-x_2)+(y_1-y_2)(y_3-y_2)-L_{12}L_{23}cos(\\phi) = 0$$\n",
    "$$(x_1-x_2)(y_3-y_2)+(y_1-y_2)(x_3-x_2)-L_{12}L_{23}sin(\\phi) = 0$$\n",
    "\n",
    "### Restricción de distancia:\n",
    "<img src=\"img/restricción_distancia.png\" alt=\"logo\" width=\"100\"/>\n",
    "$$(x_3-x_1)-\\frac{s}{L_{12}}(x_2-x_1)=0 $$\n",
    "$$(y_3-y_1)-\\frac{s}{L_{12}}(y_2-y_1)=0 $$\n",
    "\n",
    "## Ejemplo de restricciones en mecanismo :\n",
    "<img src=\"img/ejemplo_restricciones.png\" alt=\"logo\" width=\"700\"/>\n",
    "\n"
   ]
  },
  {
   "cell_type": "markdown",
   "metadata": {},
   "source": [
    "## Problema Resuelto:\n",
    "\n",
    "**Problema**: Se pide desarrollar un programa en Python que permita resolver el problema cinemático de posición para el mecanismo plano de la figura. Para ello debe utilizar el método de coordenadas naturales visto en clases. Considere que el ángulo $\\phi_1$ varía a una razón de cambio constante. Se pide: \n",
    " \n",
    " - Calcular la posición del punto dos en el tiempo y graficarla\n",
    " - Determine los máximos valores de $\\phi_1$ y $\\phi_2$.\n",
    " - ¿Qué ocurre si $\\phi_1 = 0$ y $\\phi_2 = 0$, simultáneamente?.\n",
    " - Valide los resultados anteriores con algún método analítico.\n",
    "\n",
    "<img src=\"img/mecanismos.svg\" alt=\"logo\" width=\"600\"/>\n",
    "\n",
    "**Restricciones**\n",
    "\n",
    "$$ (x_2 - x_1)^2 + (y_2-y_1)^2 - (s)^2 = 0 $$\n",
    "$$ (x_2 - x_B)^2 + (y_2-y_B)^2 - (2s)^2 = 0 $$\n",
    "\n",
    "$$ s = 1 [m] $$\n",
    "\n",
    "$$ x_A=(0,0) \\quad x_B = (3,0) $$\n",
    "\n",
    "En base a $x_1$  calcular las otras posiciones"
   ]
  },
  {
   "cell_type": "markdown",
   "metadata": {},
   "source": [
    "# Solución\n",
    "\n",
    "Para resolver el sistema de ecuaciones no-lineales se utilizara el método de Newton. Para ellos es necesario resolver\n",
    "\n",
    "$$\\mathbf{x}_{k+1} = \\mathbf{x}_{k} - \\mathbf{J}(\\mathbf{x}_k)^{-1} \\mathbf{F}(\\mathbf{x}_k) \\quad ,  $$\n",
    "\n",
    "donde, $- \\mathbf{J}(\\mathbf{x}_k)^{-1} \\mathbf{F}(\\mathbf{x}_k) = \\Delta \\mathbf{x}_k $ se puede calcular al resolver el siguiente sistema de ecuaciones:\n",
    "\n",
    "$$\\mathbf{J}(\\mathbf{x}_k) \\Delta \\mathbf{x}_k = - \\mathbf{F}(\\mathbf{x}_k)  \\quad .$$\n",
    "\n",
    "**Recordar que estos problemas pueden tener múltiples soluciones y están condicionados por la inicialización**\n",
    "\n",
    "## Solución 1\n",
    "\n",
    "<img src=\"img/mec.gif\" alt=\"logo\" width=\"600\"/>\n",
    "\n",
    "## Solución 2\n",
    "\n",
    "<img src=\"img/mec1.gif\" alt=\"logo\" width=\"600\"/>\n",
    "\n",
    "\n",
    "### 1.- Para ello cree una función que permita calcular el vector de funciones:"
   ]
  },
  {
   "cell_type": "code",
   "execution_count": null,
   "metadata": {},
   "outputs": [],
   "source": [
    "def vect_mec(x):\n",
    "    \"\"\"\n",
    "    x = [x1,y1,x2,y2]\n",
    "    Paramétros\n",
    "    ----------\n",
    "    x: ndarray\n",
    "        Vector de variables\n",
    "    Retorno\n",
    "    ----------\n",
    "    F: ndarray\n",
    "        Vector de funciones\n",
    "        \"\"\"\n",
    "\n",
    "    \n",
    "    return F"
   ]
  },
  {
   "cell_type": "markdown",
   "metadata": {},
   "source": [
    "### 2.- Crear una función para calcular el Jacobiano."
   ]
  },
  {
   "cell_type": "code",
   "execution_count": null,
   "metadata": {},
   "outputs": [],
   "source": [
    "def jacob_mec(x):\n",
    "    \"\"\"\n",
    "    x = [x1,y1,x2,y2]\n",
    "    Paramétros\n",
    "    ----------\n",
    "    x0: ndarray\n",
    "        Vector de variables\n",
    "    Retorno\n",
    "    ----------\n",
    "    J: ndarray\n",
    "        Matriz Jacobiana J(y1,x2,y2) \n",
    "        \"\"\"\n",
    "\n",
    "\n",
    "    return J"
   ]
  },
  {
   "cell_type": "markdown",
   "metadata": {},
   "source": [
    "### 3.- Calcular la posición del mecanismos para diferentes ángulos de $\\phi_1$"
   ]
  },
  {
   "cell_type": "code",
   "execution_count": null,
   "metadata": {},
   "outputs": [],
   "source": [
    "import numpy as np\n",
    "import matplotlib.pyplot as plt\n",
    "%matplotlib inline\n",
    "from IPython.display import HTML\n",
    "import matplotlib.animation\n",
    "\n"
   ]
  },
  {
   "cell_type": "code",
   "execution_count": null,
   "metadata": {},
   "outputs": [],
   "source": [
    "# Setup Gráficos\n",
    "fig, ax = plt.subplots(figsize=(8,6))\n",
    "ax.axis([0,4,0,4])\n",
    "l, = ax.plot([],[],'bo-')\n",
    "\n",
    "sol = np.array(sol)\n",
    "\n",
    "def animate(i):\n",
    "    l.set_data(sol[i,:,0],sol[i,:,1])\n",
    "    return l\n",
    "\n",
    "ani = matplotlib.animation.FuncAnimation(fig, animate, frames=range(0,sol.shape[0],12))\n",
    "ani.save('mec.mp4', fps=30, extra_args=['-vcodec', 'libx264'])\n",
    "plt.close()\n",
    "HTML(ani.to_jshtml())"
   ]
  },
  {
   "cell_type": "code",
   "execution_count": null,
   "metadata": {},
   "outputs": [],
   "source": []
  },
  {
   "cell_type": "code",
   "execution_count": null,
   "metadata": {},
   "outputs": [],
   "source": [
    "fig, ax = plt.subplots(figsize=(8,6))\n",
    "ax.axis([0,4,0,4])\n",
    "l, = ax.plot([],[],'ro-')\n",
    "sol = np.array(sol)\n",
    "\n",
    "def animate(i):\n",
    "    l.set_data(sol[i,:,0],sol[i,:,1])\n",
    "    return l\n",
    "\n",
    "ani = matplotlib.animation.FuncAnimation(fig, animate, frames=range(0,sol.shape[0],12))\n",
    "plt.close()\n",
    "HTML(ani.to_jshtml())"
   ]
  },
  {
   "cell_type": "markdown",
   "metadata": {},
   "source": [
    "## Referencias:\n",
    "\n",
    "[1] De Jalon, J. G., & Bayo, E. (2012). Kinematic and dynamic simulation of multibody systems:\n",
    "the real-time challenge. Springer Science & Business Media."
   ]
  }
 ],
 "metadata": {
  "kernelspec": {
   "display_name": "Python 3 (ipykernel)",
   "language": "python",
   "name": "python3"
  },
  "language_info": {
   "codemirror_mode": {
    "name": "ipython",
    "version": 3
   },
   "file_extension": ".py",
   "mimetype": "text/x-python",
   "name": "python",
   "nbconvert_exporter": "python",
   "pygments_lexer": "ipython3",
   "version": "3.9.7"
  }
 },
 "nbformat": 4,
 "nbformat_minor": 4
}
