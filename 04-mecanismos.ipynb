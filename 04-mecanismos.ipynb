{
 "cells": [
  {
   "cell_type": "markdown",
   "metadata": {},
   "source": [
    "# Problemas de Mecanismos\n",
    "\n",
    "<img src=\"https://github.com/ccdonoso/Intro2_Computational_Mechanics/blob/master/img/logo_usach_dimec.png?raw=true\" alt=\"logo\" width=\"300\"/>\n",
    "\n",
    "- Autor: Claudio Canales Donoso\n",
    "- Página: [ccdonoso.github.io](ccdonoso.github.io)\n",
    "- Cursos: Mecánica Computacional - Diseño Computarizado\n",
    "- Universidad de Santiago de Chile\n",
    "- Fecha: 08/06/21\n",
    "\n",
    "License: BSD 3 clause\n",
    "\n",
    "**Contenido** \n",
    "- Métodos Numéricos y Mecanismos\n"
   ]
  },
  {
   "cell_type": "markdown",
   "metadata": {},
   "source": [
    " **Problema**: Se pide desarrollar un programa en Python que permita resolver el problema cinemático de posición para el mecanismo plano de la figura. Para ello debe utilizar el método de coordenadas naturales visto en clases. Considere que el ángulo $\\phi_1$ varía a una razón de cambio constante. Se pide: \n",
    " \n",
    " - Calcular la posición del punto dos en el tiempo y graficarla\n",
    " - Determine los máximos valores de $\\phi_1$ y $\\phi_2$.\n",
    " - ¿Qué ocurre si $\\phi_1 = 0$ y $\\phi_2 = 0$, simultáneamente?.\n",
    " - Valide los resultados anteriores con algún método analítico.\n",
    "\n",
    "<img src=\"img/mecanismos.svg\" alt=\"logo\" width=\"600\"/>\n",
    "\n",
    "**Restricciones**\n",
    "\n",
    "$$ (x_2 - x_1)^2 + (y_2-y_1)^2 - (s)^2 = 0 $$\n",
    "$$ (x_2 - x_B)^2 + (y_2-y_B)^2 - (2s)^2 = 0 $$\n",
    "\n",
    "$$ s = 1 [m] $$\n",
    "\n",
    "$$ x_A=(0,0) \\quad x_B = (3,0) $$\n",
    "\n",
    "En base a $x_1$  calcular las otras posiciones"
   ]
  },
  {
   "cell_type": "markdown",
   "metadata": {},
   "source": [
    "# Solución\n",
    "\n",
    "Para resolver el sistema de ecuaciones no-lineales se utilizara el método de Newton. Para ellos es necesario resolver\n",
    "\n",
    "$$\\mathbf{x}_{k+1} = \\mathbf{x}_{k} - \\mathbf{J}(\\mathbf{x}_k)^{-1} \\mathbf{F}(\\mathbf{x}_k) \\quad ,  $$\n",
    "\n",
    "donde, $- \\mathbf{J}(\\mathbf{x}_k)^{-1} \\mathbf{F}(\\mathbf{x}_k) = \\Delta \\mathbf{x}_k $ se puede calcular al resolver el siguiente sistema de ecuaciones:\n",
    "\n",
    "$$\\mathbf{J}(\\mathbf{x}_k) \\Delta \\mathbf{x}_k = - \\mathbf{F}(\\mathbf{x}_k)  \\quad .$$\n",
    "\n",
    "**Recordar que estos problemas pueden tener múltiples soluciones y están condicionados por la inicialización**\n",
    "\n",
    "## Solución 1\n",
    "\n",
    "<img src=\"img/mec.gif\" alt=\"logo\" width=\"600\"/>\n",
    "\n",
    "## Solución 2\n",
    "\n",
    "<img src=\"img/mec1.gif\" alt=\"logo\" width=\"600\"/>\n",
    "\n",
    "\n",
    "### 1.- Para ello cree una función que permita calcular el vector de funciones:"
   ]
  },
  {
   "cell_type": "code",
   "execution_count": null,
   "metadata": {},
   "outputs": [],
   "source": [
    "def vect_mec(x):\n",
    "    \"\"\"\n",
    "    x = [x1,y1,x2,y2]\n",
    "    Paramétros\n",
    "    ----------\n",
    "    x: ndarray\n",
    "        Vector de variables\n",
    "    Retorno\n",
    "    ----------\n",
    "    F: ndarray\n",
    "        Vector de funciones\n",
    "        \"\"\"\n",
    "\n",
    "    \n",
    "    return F"
   ]
  },
  {
   "cell_type": "markdown",
   "metadata": {},
   "source": [
    "### 2.- Crear una función para calcular el Jacobiano."
   ]
  },
  {
   "cell_type": "code",
   "execution_count": null,
   "metadata": {},
   "outputs": [],
   "source": [
    "def jacob_mec(x):\n",
    "    \"\"\"\n",
    "    x = [x1,y1,x2,y2]\n",
    "    Paramétros\n",
    "    ----------\n",
    "    x0: ndarray\n",
    "        Vector de variables\n",
    "    Retorno\n",
    "    ----------\n",
    "    J: ndarray\n",
    "        Matriz Jacobiana J(y1,x2,y2) \n",
    "        \"\"\"\n",
    "\n",
    "\n",
    "    return J"
   ]
  },
  {
   "cell_type": "markdown",
   "metadata": {},
   "source": [
    "### 3.- Calcular la posición del mecanismos para diferentes ángulos de $\\phi_1$"
   ]
  },
  {
   "cell_type": "code",
   "execution_count": null,
   "metadata": {},
   "outputs": [],
   "source": [
    "import numpy as np\n",
    "import matplotlib.pyplot as plt\n",
    "%matplotlib inline\n",
    "from IPython.display import HTML\n",
    "import matplotlib.animation\n",
    "\n"
   ]
  },
  {
   "cell_type": "code",
   "execution_count": null,
   "metadata": {},
   "outputs": [],
   "source": [
    "# Setup Gráficos\n",
    "fig, ax = plt.subplots(figsize=(8,6))\n",
    "ax.axis([0,4,0,4])\n",
    "l, = ax.plot([],[],'bo-')\n",
    "\n",
    "sol = np.array(sol)\n",
    "\n",
    "def animate(i):\n",
    "    l.set_data(sol[i,:,0],sol[i,:,1])\n",
    "    return l\n",
    "\n",
    "ani = matplotlib.animation.FuncAnimation(fig, animate, frames=range(0,sol.shape[0],12))\n",
    "ani.save('mec.mp4', fps=30, extra_args=['-vcodec', 'libx264'])\n",
    "plt.close()\n",
    "HTML(ani.to_jshtml())"
   ]
  },
  {
   "cell_type": "code",
   "execution_count": null,
   "metadata": {},
   "outputs": [],
   "source": []
  },
  {
   "cell_type": "code",
   "execution_count": null,
   "metadata": {},
   "outputs": [],
   "source": [
    "fig, ax = plt.subplots(figsize=(8,6))\n",
    "ax.axis([0,4,0,4])\n",
    "l, = ax.plot([],[],'ro-')\n",
    "sol = np.array(sol)\n",
    "\n",
    "def animate(i):\n",
    "    l.set_data(sol[i,:,0],sol[i,:,1])\n",
    "    return l\n",
    "\n",
    "ani = matplotlib.animation.FuncAnimation(fig, animate, frames=range(0,sol.shape[0],12))\n",
    "plt.close()\n",
    "HTML(ani.to_jshtml())"
   ]
  }
 ],
 "metadata": {
  "kernelspec": {
   "display_name": "Python 3",
   "language": "python",
   "name": "python3"
  },
  "language_info": {
   "codemirror_mode": {
    "name": "ipython",
    "version": 3
   },
   "file_extension": ".py",
   "mimetype": "text/x-python",
   "name": "python",
   "nbconvert_exporter": "python",
   "pygments_lexer": "ipython3",
   "version": "3.8.5"
  }
 },
 "nbformat": 4,
 "nbformat_minor": 4
}
