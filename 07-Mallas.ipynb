{
 "cells": [
  {
   "cell_type": "markdown",
   "metadata": {},
   "source": [
    "# Mallas no-estructuradas\n",
    "\n",
    "<img src=\"https://github.com/ccdonoso/Intro2_Computational_Mechanics/blob/master/img/logo_usach_dimec.png?raw=true\" alt=\"logo\" width=\"300\"/>\n",
    "\n",
    "- Autor: Claudio Canales Donoso\n",
    "- Página: [ccdonoso.github.io](ccdonoso.github.io)\n",
    "- Cursos: Mecánica Computacional - Diseño Computarizado\n",
    "- Universidad de Santiago de Chile\n",
    "- Fecha: 02/11/21\n",
    "\n",
    "License: BSD 3 clause\n",
    "\n",
    "**Contenido** \n",
    "- Definición de malla.\n",
    "- Atributos de malla o Campos.\n",
    "- Celdas según VTK o Elementos según FEM.\n",
    "- Mallas no-estructuradas en Pyvista\n",
    "\n"
   ]
  },
  {
   "cell_type": "markdown",
   "metadata": {},
   "source": [
    "## ¿ Qué es una malla ?\n",
    "\n",
    "Aunque la estructura de datos real utilizada para almacenar la malla en memoria depende del tipo de conjunto de datos, algunas abstracciones son comunes a todos los tipos. En general, una malla está formada por **vértices (puntos)** y **celdas (elementos, zonas)**. Los **elementos** se utilizan para discretizar una región y pueden tener varios tipos, como tetraedros, hexaedros, etc. Cada **elemento** contiene un conjunto de vértices. El mapeo de las **celdas(elementos)** a los vértices se denomina **conectividad de malla**. Tenga en cuenta que, aunque es posible definir sets de datos como caras y aristas, VTK no los representa explícitamente. Más bien, están implícitos en el tipo de **celda o elemento** y en su conectividad. Una excepción a esta regla es el **poliedro arbitrario**, que almacena explícitamente sus caras. La Ilustración 1, es un ejemplo de malla que consta de dos **elementos cuadrilateros**. La primera celda está definida por los vértices $(0,1,3,4)$ , y la segunda por los vértices $(1,2,4,5)$. Estas celdas son vecinas porque comparten la arista definida por los puntos.\n",
    "\n",
    "Una malla está totalmente definida por su **topología** y las **coordenadas espaciales de sus vértices**. En VTK (Visualization Toolkit, herramienta que utiliza PyVista), las coordenadas de los puntos pueden estar implícitas, o pueden estar definidas explícitamente por una matriz de datos de dimensiones $(n_{puntos}\\times 3 )$.\n",
    "\n",
    "<img src=\"img/celdas.png\" alt=\"logo\" width=\"600\"/>\n",
    "\n",
    "<h4 align=\"center\">\n",
    "     Ilustración 1: Ejemplo de Malla.\n",
    "</h4>\n",
    "\n",
    "## Atributos de malla o campos\n",
    "Un atributo (o una matriz de datos o campo) define los valores discretos de un campo sobre la malla. Algunos ejemplos de atributos son la **presión**, la **temperatura**, la **velocidad** y el tensor de **tensión**. Tenga en cuenta que PyVista(VTK) no define específicamente diferentes tipos de atributos. Todos los atributos se almacenan como matrices de datos, que pueden tener un número arbitrario de componentes. Los atributos pueden estar asociados a **puntos** o **celdas**. También es posible tener atributos que no estén asociados a ninguno de ellos. La Ilustración 2, muestra el uso de un atributo centrado en un punto. Obsérvese que el atributo sólo se define en los vértices. La interpolación se utiliza para obtener los valores en todos los demás lugares. Las funciones de interpolación utilizadas **dependen del tipo de celda**. En la documentación de VTK hay más detalles.\n",
    "\n",
    "<img src=\"img/Cells_with_values.png\" alt=\"logo\" width=\"600\"/>\n",
    "<h4 align=\"center\">\n",
    "     Ilustración 2: Campo definido por las funciones de interpolación de un elemento.\n",
    "</h4>\n",
    "\n",
    "## Celdas o Elementos\n",
    "\n",
    "Existen diferentes tipos de Celdas o Elementos, en la librería VTK (Librería base de PyVista), estos elementos se definen según el **orden de interpolación** y según la **cantidad de nodos**.\n",
    "\n",
    "Recapitulando, una malla esta compuesta por:\n",
    "\n",
    "- **Nodos**\n",
    "- **Elementos**\n",
    "\n",
    "Los elementos, conectan los nodos con diferentes geometrias primitivas. A continuación se presenta en la ilustación 2, los elementos de **primer orden de interpolación** y en la ilustración 3, los **elementos de segundo orden de interpolación**.\n",
    "\n",
    "<img src=\"img/TestLinearCellDemo.png\" alt=\"logo\" width=\"800\"/>\n",
    "\n",
    "<h4 align=\"center\">\n",
    "     Ilustración 3: Elementos de Primer Orden.\n",
    "</h4>\n",
    "\n",
    "<img src=\"img/second_order_cells.png\" alt=\"logo\" width=\"800\"/>\n",
    "\n",
    "<h4 align=\"center\">\n",
    "     Ilustración 4: Elementos de Segundo Orden.\n",
    "</h4>\n"
   ]
  },
  {
   "cell_type": "markdown",
   "metadata": {},
   "source": [
    "## Malla no-estructurada\n",
    "\n",
    "Una malla no estructurada, como la de la Ilustración 5, es el tipo de conjunto de datos primitivo más general. Almacena explícitamente la topología y las coordenadas de los puntos. Aunque VTK utiliza una estructura de datos de memoria eficiente para almacenar la topología, una malla no estructurada utiliza mucha más memoria para representar su malla. Por lo tanto, utilice una malla no estructurada sólo cuando no pueda representar su conjunto de datos como uno de los conjuntos de datos anteriores. VTK admite un gran número de tipos de celdas, todas las cuales pueden existir (de forma heterogénea) dentro de una malla no estructurada. La lista completa de todos los tipos de celdas soportados por VTK se encuentra en el archivo `vtkCellType.h` del código fuente de VTK, estos tipos de celda se presentaron en las **ilustraciones 3 y 4**.\n",
    "\n",
    "<img src=\"img/unstructured.gif\" alt=\"logo\" width=\"600\"/>\n",
    "<h4 align=\"center\">\n",
    "     Ilustración 5: Malla no-estructurada\n",
    "</h4>"
   ]
  },
  {
   "cell_type": "markdown",
   "metadata": {},
   "source": [
    "# Mallas - no estructuradas en PyVista\n",
    "\n",
    "1. Crearemos una malla estructurada de dos elementos cuadilateros `(VTK_QUAD)`, al igual que la ilustración 1.\n",
    "\n",
    "<img src=\"img/celdas.png\" alt=\"logo\" width=\"400\"/>\n",
    "\n",
    "<h4 align=\"center\">\n",
    "     Ilustración 1: Ejemplo de Malla.\n",
    "</h4>\n"
   ]
  },
  {
   "cell_type": "code",
   "execution_count": 20,
   "metadata": {},
   "outputs": [],
   "source": [
    "# Importar librerias NumPy, PyVista y vtk\n",
    "import numpy as np\n",
    "import pyvista as pv\n",
    "import vtk"
   ]
  },
  {
   "cell_type": "code",
   "execution_count": null,
   "metadata": {},
   "outputs": [],
   "source": [
    "# Crearemos los nodos (0,1,2,3,4,5)\n",
    "\n",
    "nodes = #Asignar la matriz de nodos\n",
    "\n",
    "# Elementos\n",
    "cells = np.array([[ 4, 0,  1,  4,  3],\n",
    "                  [ 4,  1,  2,  5,  4]]).ravel()\n",
    "\n",
    "# Conectividad de la malla, notar que .ravel() convierte la matriz en un vector.\n",
    "\n",
    "num_cells = 2\n",
    "\n",
    "celltypes = np.empty(2, dtype=np.uint8) #Array tamaño(n_elementos o celdas), valores (Tipo de elemento)\n",
    "celltypes[:] = vtk.VTK_QUAD  #También es posible colocar el entero asociado a ese elemento (Ver las ilustraciones)\n",
    "\n",
    "# Tipo de elementos de las celdas.\n",
    "\n",
    "print(celltypes)"
   ]
  },
  {
   "cell_type": "markdown",
   "metadata": {},
   "source": [
    "### Con la información de la malla, es necesario definir una malla no estructurada en PyVista.\n"
   ]
  },
  {
   "cell_type": "code",
   "execution_count": 66,
   "metadata": {},
   "outputs": [
    {
     "data": {
      "application/vnd.jupyter.widget-view+json": {
       "model_id": "7a5f5729e5314ec3a368b509ca5449c5",
       "version_major": 2,
       "version_minor": 0
      },
      "text/plain": [
       "ViewInteractiveWidget(height=768, layout=Layout(height='auto', width='100%'), width=1024)"
      ]
     },
     "metadata": {},
     "output_type": "display_data"
    }
   ],
   "source": [
    "mesh = pv.UnstructuredGrid(cells,celltypes,nodes)\n",
    "mesh.plot(show_edges=True,background=\"white\",cpos=\"yx\")"
   ]
  },
  {
   "cell_type": "code",
   "execution_count": 67,
   "metadata": {},
   "outputs": [
    {
     "data": {
      "text/html": [
       "\n",
       "<table>\n",
       "<tr><th>UnstructuredGrid</th><th>Information</th></tr>\n",
       "<tr><td>N Cells</td><td>2</td></tr>\n",
       "<tr><td>N Points</td><td>6</td></tr>\n",
       "<tr><td>X Bounds</td><td>0.000e+00, 1.000e+00</td></tr>\n",
       "<tr><td>Y Bounds</td><td>0.000e+00, 2.000e+00</td></tr>\n",
       "<tr><td>Z Bounds</td><td>0.000e+00, 0.000e+00</td></tr>\n",
       "<tr><td>N Arrays</td><td>0</td></tr>\n",
       "</table>\n",
       "\n"
      ],
      "text/plain": [
       "UnstructuredGrid (0x18c19a0cfa8)\n",
       "  N Cells:\t2\n",
       "  N Points:\t6\n",
       "  X Bounds:\t0.000e+00, 1.000e+00\n",
       "  Y Bounds:\t0.000e+00, 2.000e+00\n",
       "  Z Bounds:\t0.000e+00, 0.000e+00\n",
       "  N Arrays:\t0"
      ]
     },
     "execution_count": 67,
     "metadata": {},
     "output_type": "execute_result"
    }
   ],
   "source": [
    "mesh"
   ]
  },
  {
   "cell_type": "markdown",
   "metadata": {},
   "source": [
    "## Campo de temperatura.\n",
    "\n",
    "Aplicaremos el campo de temperatura de la figura 2.\n",
    "\n",
    "<img src=\"img/Cells_with_values.png\" alt=\"logo\" width=\"400\"/>\n",
    "<h4 align=\"center\">\n",
    "     Ilustración 2: Campo definido por las funciones de interpolación de un elemento.\n",
    "</h4>"
   ]
  },
  {
   "cell_type": "code",
   "execution_count": 55,
   "metadata": {},
   "outputs": [
    {
     "data": {
      "application/vnd.jupyter.widget-view+json": {
       "model_id": "161fc43e15fd42c98316fb0ebc2c141a",
       "version_major": 2,
       "version_minor": 0
      },
      "text/plain": [
       "ViewInteractiveWidget(height=768, layout=Layout(height='auto', width='100%'), width=1024)"
      ]
     },
     "metadata": {},
     "output_type": "display_data"
    }
   ],
   "source": [
    "mesh[\"Temperatura\"] = # LLenar el código\n",
    "mesh.plot(show_edges=True,cpos=\"yx\")"
   ]
  },
  {
   "cell_type": "markdown",
   "metadata": {},
   "source": [
    "## 3. Crearemos una malla mixta.\n",
    "Crearemos una malla no-estructurada de 1 elemento `(VTK_QUAD)`,  y 2 elementos triangulares `(VTK_TRIANGLE)`,al igual que la ilustración 7.\n",
    "\n",
    "<img src=\"img/celdas2.png\" alt=\"logo\" width=\"500\"/>\n",
    "\n",
    "<h4 align=\"center\">\n",
    "     Ilustración 7: Malla de elementos mixtos.\n",
    "</h4>"
   ]
  },
  {
   "cell_type": "code",
   "execution_count": 71,
   "metadata": {},
   "outputs": [],
   "source": [
    "# Crearemos los nodos (0,1,2,3,4,5)\n",
    "nodes = #Matriz de nodos\n",
    "\n",
    "cells = #Elementos de la malla\n",
    "\n",
    "num_cells = # Numero de elementos ( 1 Quad 2 Tri)\n",
    "\n",
    "celltypes = # Tipo de cada uno de los elementos."
   ]
  },
  {
   "cell_type": "code",
   "execution_count": 72,
   "metadata": {},
   "outputs": [
    {
     "data": {
      "application/vnd.jupyter.widget-view+json": {
       "model_id": "6f740d25714343f3b713d530998e4437",
       "version_major": 2,
       "version_minor": 0
      },
      "text/plain": [
       "ViewInteractiveWidget(height=768, layout=Layout(height='auto', width='100%'), width=1024)"
      ]
     },
     "metadata": {},
     "output_type": "display_data"
    }
   ],
   "source": [
    "#Ploteamos la malla\n",
    "mesh = pv.UnstructuredGrid(cells,celltypes,nodes)\n",
    "mesh.plot(show_edges=True,background=\"white\",cpos=\"yx\")"
   ]
  },
  {
   "cell_type": "code",
   "execution_count": 73,
   "metadata": {},
   "outputs": [
    {
     "data": {
      "application/vnd.jupyter.widget-view+json": {
       "model_id": "c4967ed3c911430990af93f648c0dd53",
       "version_major": 2,
       "version_minor": 0
      },
      "text/plain": [
       "ViewInteractiveWidget(height=768, layout=Layout(height='auto', width='100%'), width=1024)"
      ]
     },
     "metadata": {},
     "output_type": "display_data"
    }
   ],
   "source": [
    "mesh[\"Temperatura\"] = np.array([260,147.96,57.3,31.18,5.89,19.12])\n",
    "mesh.plot(show_edges=True,cpos=\"yx\")"
   ]
  },
  {
   "cell_type": "code",
   "execution_count": 70,
   "metadata": {},
   "outputs": [
    {
     "name": "stdout",
     "output_type": "stream",
     "text": [
      "<class 'pyvista.core.pointset.UnstructuredGrid'>\n"
     ]
    },
    {
     "data": {
      "text/html": [
       "\n",
       "<table>\n",
       "<tr><th>UnstructuredGrid</th><th>Information</th></tr>\n",
       "<tr><td>N Cells</td><td>2</td></tr>\n",
       "<tr><td>N Points</td><td>6</td></tr>\n",
       "<tr><td>X Bounds</td><td>0.000e+00, 1.000e+00</td></tr>\n",
       "<tr><td>Y Bounds</td><td>0.000e+00, 2.000e+00</td></tr>\n",
       "<tr><td>Z Bounds</td><td>0.000e+00, 0.000e+00</td></tr>\n",
       "<tr><td>N Arrays</td><td>0</td></tr>\n",
       "</table>\n",
       "\n"
      ],
      "text/plain": [
       "UnstructuredGrid (0x18c1cbda768)\n",
       "  N Cells:\t2\n",
       "  N Points:\t6\n",
       "  X Bounds:\t0.000e+00, 1.000e+00\n",
       "  Y Bounds:\t0.000e+00, 2.000e+00\n",
       "  Z Bounds:\t0.000e+00, 0.000e+00\n",
       "  N Arrays:\t0"
      ]
     },
     "execution_count": 70,
     "metadata": {},
     "output_type": "execute_result"
    }
   ],
   "source": [
    "print(type(mesh))\n",
    "mesh"
   ]
  },
  {
   "cell_type": "markdown",
   "metadata": {},
   "source": [
    "# Opcional: Cargar archivos .STL "
   ]
  },
  {
   "cell_type": "code",
   "execution_count": 68,
   "metadata": {},
   "outputs": [
    {
     "data": {
      "application/vnd.jupyter.widget-view+json": {
       "model_id": "e228d735e9c847ce9279a527d7d7d733",
       "version_major": 2,
       "version_minor": 0
      },
      "text/plain": [
       "Renderer(camera=PerspectiveCamera(aspect=1.3333333333333333, children=(DirectionalLight(color='#fefefe', inten…"
      ]
     },
     "metadata": {},
     "output_type": "display_data"
    }
   ],
   "source": [
    "mesh_test = pv.read(\"mesh_test.stl\")\n",
    "mesh_test.plot(jupyter_backend='pythreejs',show_edges=True,background=\"white\" )"
   ]
  },
  {
   "cell_type": "code",
   "execution_count": 14,
   "metadata": {},
   "outputs": [
    {
     "name": "stdout",
     "output_type": "stream",
     "text": [
      "<class 'pyvista.core.pointset.PolyData'>\n"
     ]
    },
    {
     "data": {
      "text/html": [
       "\n",
       "<table>\n",
       "<tr><th>PolyData</th><th>Information</th></tr>\n",
       "<tr><td>N Cells</td><td>21684</td></tr>\n",
       "<tr><td>N Points</td><td>10832</td></tr>\n",
       "<tr><td>X Bounds</td><td>-6.869e+00, 6.882e+00</td></tr>\n",
       "<tr><td>Y Bounds</td><td>-5.961e-01, 3.500e-01</td></tr>\n",
       "<tr><td>Z Bounds</td><td>-6.815e+00, 6.905e+00</td></tr>\n",
       "<tr><td>N Arrays</td><td>0</td></tr>\n",
       "</table>\n",
       "\n"
      ],
      "text/plain": [
       "PolyData (0x18c0e1176a8)\n",
       "  N Cells:\t21684\n",
       "  N Points:\t10832\n",
       "  X Bounds:\t-6.869e+00, 6.882e+00\n",
       "  Y Bounds:\t-5.961e-01, 3.500e-01\n",
       "  Z Bounds:\t-6.815e+00, 6.905e+00\n",
       "  N Arrays:\t0"
      ]
     },
     "execution_count": 14,
     "metadata": {},
     "output_type": "execute_result"
    }
   ],
   "source": [
    "print(type(mesh_test))\n",
    "mesh_test"
   ]
  }
 ],
 "metadata": {
  "kernelspec": {
   "display_name": "Python 3",
   "language": "python",
   "name": "python3"
  },
  "language_info": {
   "codemirror_mode": {
    "name": "ipython",
    "version": 3
   },
   "file_extension": ".py",
   "mimetype": "text/x-python",
   "name": "python",
   "nbconvert_exporter": "python",
   "pygments_lexer": "ipython3",
   "version": "3.7.3"
  }
 },
 "nbformat": 4,
 "nbformat_minor": 4
}
